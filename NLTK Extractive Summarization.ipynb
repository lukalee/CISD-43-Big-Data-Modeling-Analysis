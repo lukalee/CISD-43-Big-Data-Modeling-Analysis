{
 "cells": [
  {
   "cell_type": "code",
   "execution_count": 7,
   "id": "155064cf-8138-4362-bd84-484f70fcb624",
   "metadata": {},
   "outputs": [
    {
     "name": "stdout",
     "output_type": "stream",
     "text": [
      "Summary:\n",
      " Alongside the iPhones, Apple introduced the Apple Watch Series 9 with improved health tracking and environmental-friendly materials. \n",
      "Apple Inc. unveiled its latest iPhone 15 models during a special event in Cupertino, California.\n"
     ]
    },
    {
     "name": "stderr",
     "output_type": "stream",
     "text": [
      "[nltk_data] Downloading package punkt to /Users/lukalee/nltk_data...\n",
      "[nltk_data]   Package punkt is already up-to-date!\n",
      "[nltk_data] Downloading package stopwords to\n",
      "[nltk_data]     /Users/lukalee/nltk_data...\n",
      "[nltk_data]   Package stopwords is already up-to-date!\n"
     ]
    }
   ],
   "source": [
    "import nltk\n",
    "from nltk.corpus import stopwords\n",
    "from nltk.tokenize import word_tokenize, sent_tokenize\n",
    "import string\n",
    "\n",
    "# Download required NLTK resources (only once)\n",
    "nltk.download('punkt')\n",
    "nltk.download('stopwords')\n",
    "\n",
    "# Sample text (you can replace this with a news article)\n",
    "text = \"\"\"\n",
    "Apple Inc. unveiled its latest iPhone 15 models during a special event in Cupertino, California. The new iPhones feature an upgraded camera system, a faster A17 Bionic chip, and a USB-C charging port. This marks a major shift from Apple’s proprietary Lightning connector, aligning the iPhone with other USB-C devices worldwide.\n",
    "\n",
    "Alongside the iPhones, Apple introduced the Apple Watch Series 9 with improved health tracking and environmental-friendly materials. CEO Tim Cook emphasized Apple’s commitment to sustainability and innovation during the presentation.\n",
    "\n",
    "Analysts expect strong holiday sales, driven by loyal customers and new features. However, some critics argue that the updates are incremental and not groundbreaking. Despite this, Apple’s stock rose slightly after the event.\n",
    "\n",
    "\"\"\"\n",
    "\n",
    "# Step 1: Preprocessing\n",
    "stop_words = set(stopwords.words(\"english\"))\n",
    "words = word_tokenize(text.lower())\n",
    "words = [word for word in words if word.isalnum() and word not in stop_words]\n",
    "\n",
    "# Step 2: Calculate word frequency\n",
    "word_freq = {}\n",
    "for word in words:\n",
    "    word_freq[word] = word_freq.get(word, 0) + 1\n",
    "\n",
    "# Step 3: Score sentences\n",
    "sentences = sent_tokenize(text)\n",
    "sentence_scores = {}\n",
    "\n",
    "for sentence in sentences:\n",
    "    sentence_words = word_tokenize(sentence.lower())\n",
    "    score = sum(word_freq.get(word, 0) for word in sentence_words if word in word_freq)\n",
    "    sentence_scores[sentence] = score\n",
    "\n",
    "# Step 4: Select top sentences (summary)\n",
    "import heapq\n",
    "summary_sentences = heapq.nlargest(2, sentence_scores, key=sentence_scores.get)\n",
    "\n",
    "# Step 5: Output summary\n",
    "summary = ' '.join(summary_sentences)\n",
    "print(\"Summary:\\n\", summary)\n"
   ]
  },
  {
   "cell_type": "code",
   "execution_count": null,
   "id": "ff3c637a-75f6-4d2e-9122-32ec0f3e90e8",
   "metadata": {},
   "outputs": [],
   "source": []
  }
 ],
 "metadata": {
  "kernelspec": {
   "display_name": "Python 3 (ipykernel)",
   "language": "python",
   "name": "python3"
  },
  "language_info": {
   "codemirror_mode": {
    "name": "ipython",
    "version": 3
   },
   "file_extension": ".py",
   "mimetype": "text/x-python",
   "name": "python",
   "nbconvert_exporter": "python",
   "pygments_lexer": "ipython3",
   "version": "3.12.2"
  }
 },
 "nbformat": 4,
 "nbformat_minor": 5
}
