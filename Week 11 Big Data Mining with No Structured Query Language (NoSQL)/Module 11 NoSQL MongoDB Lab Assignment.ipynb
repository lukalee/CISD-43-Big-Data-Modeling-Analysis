{
 "cells": [
  {
   "cell_type": "markdown",
   "id": "e163495d",
   "metadata": {},
   "source": [
    "#### Make sure you have installed MongoDB in your computer"
   ]
  },
  {
   "cell_type": "markdown",
   "id": "b22de743",
   "metadata": {},
   "source": [
    "### Lab Assignment!\n",
    "\n",
    "#### The objective of this lab assignment is to introduce you to MongoDB using MongoDB Compass and real-world retail data.\n",
    "\n",
    "#### Prerequisites:\n",
    "\n",
    "MongoDB Compass installed on your computer.\n",
    "\n",
    "### Tasks:\n",
    "\n",
    "#### Create a Database and a Collection:\n",
    "\n",
    "#### Open MongoDB Compass and:\n",
    "- create a new database called \"retail_db\".\n",
    "- Create a collection named \"online_sales\".\n",
    "\n",
    "\n",
    "![Database Retail DB](database_retail_db.png)\n",
    "\n",
    "\n",
    "### Import Data:\n",
    "\n",
    "Press \"Import Data\" and select the file online_retail.csv.\n",
    "The file contains columns: \"InvoiceNo, StockCode, Description, Quantity, InvoiceDate, UnitPrice, CustomerID, and Country\".\n",
    "\n",
    "![Import Data](import_data.png)"
   ]
  },
  {
   "cell_type": "markdown",
   "id": "7f39a3c5-7d26-4152-9b3f-c8b45d10ead7",
   "metadata": {},
   "source": [
    "### Install MongoDB on macbook intel ios 11 big sur:\n",
    "spent many days in figering out how to install mondodb on mac. \n",
    "There are many limitations. \n",
    "\n",
    "this tutorial not working, tried both v8.0 and v6.0, waited many hours on 'make'\n",
    "https://www.mongodb.com/zh-cn/docs/manual/tutorial/install-mongodb-on-os-x/\n",
    "\n",
    "This tutorial works eventrually, but while I was trying, there are also many times get stuck, \n",
    "https://www.youtube.com/watch?v=8gUQL2zlpvI&ab_channel=ProgrammingKnowledge\n",
    "for example, \n",
    "- 1, i have to change to version6.0, \n",
    "- 2, need to give permison to install this app at system Preference->security&privacy->allow mongo db to run, becuase mongo db is not from apple store. \n",
    "- 3, some code i have to use sudo, super user do. to make directly. \n",
    "- 4, the error from mongodb is very long, multiple pages, hard to read, I got help chatGPT to make it very easy to read and get instructions. \n",
    "\n",
    "\n",
    "run this code on mac terminal to enable local host: mongod --dbpath=/Users/user/data/db\n"
   ]
  },
  {
   "cell_type": "markdown",
   "id": "e0b0c183",
   "metadata": {},
   "source": [
    "#### Import MongoClient and pandas"
   ]
  },
  {
   "cell_type": "code",
   "execution_count": 12,
   "id": "db806002-b81a-4f24-a06a-d3b2b31330fc",
   "metadata": {},
   "outputs": [
    {
     "name": "stdout",
     "output_type": "stream",
     "text": [
      "Collecting pymongo\n",
      "  Downloading pymongo-4.13.0-cp312-cp312-macosx_10_13_x86_64.whl.metadata (22 kB)\n",
      "Collecting dnspython<3.0.0,>=1.16.0 (from pymongo)\n",
      "  Downloading dnspython-2.7.0-py3-none-any.whl.metadata (5.8 kB)\n",
      "Downloading pymongo-4.13.0-cp312-cp312-macosx_10_13_x86_64.whl (911 kB)\n",
      "\u001b[2K   \u001b[90m━━━━━━━━━━━━━━━━━━━━━━━━━━━━━━━━━━━━━━━━\u001b[0m \u001b[32m911.8/911.8 kB\u001b[0m \u001b[31m13.1 MB/s\u001b[0m eta \u001b[36m0:00:00\u001b[0m\n",
      "\u001b[?25hDownloading dnspython-2.7.0-py3-none-any.whl (313 kB)\n",
      "Installing collected packages: dnspython, pymongo\n",
      "Successfully installed dnspython-2.7.0 pymongo-4.13.0\n",
      "Note: you may need to restart the kernel to use updated packages.\n"
     ]
    }
   ],
   "source": [
    "#pip install pymongo"
   ]
  },
  {
   "cell_type": "code",
   "execution_count": 14,
   "id": "08b5dc22",
   "metadata": {},
   "outputs": [],
   "source": [
    "from pymongo import MongoClient\n",
    "import pandas as pd"
   ]
  },
  {
   "cell_type": "markdown",
   "id": "853a5a06",
   "metadata": {},
   "source": [
    "#### Connect to MongoDB"
   ]
  },
  {
   "cell_type": "code",
   "execution_count": 18,
   "id": "5031841a",
   "metadata": {},
   "outputs": [],
   "source": [
    "# Connect to MongoDB\n",
    "client = MongoClient(\"mongodb://localhost:27017/\")"
   ]
  },
  {
   "cell_type": "markdown",
   "id": "f5dd1fbf",
   "metadata": {},
   "source": [
    "#### Select the database retail_db"
   ]
  },
  {
   "cell_type": "code",
   "execution_count": 20,
   "id": "7767dc49",
   "metadata": {},
   "outputs": [],
   "source": [
    "db = client['retail_db']"
   ]
  },
  {
   "cell_type": "markdown",
   "id": "47670cd2",
   "metadata": {},
   "source": [
    "#### Select the collection online_sales"
   ]
  },
  {
   "cell_type": "code",
   "execution_count": 22,
   "id": "857ee84e",
   "metadata": {},
   "outputs": [],
   "source": [
    "collection = db['online_sales']"
   ]
  },
  {
   "cell_type": "markdown",
   "id": "dee76921",
   "metadata": {},
   "source": [
    "#### Retrieve the first three records"
   ]
  },
  {
   "cell_type": "code",
   "execution_count": 25,
   "id": "06583ff9",
   "metadata": {},
   "outputs": [
    {
     "name": "stdout",
     "output_type": "stream",
     "text": [
      "{'_id': ObjectId('682aacb9f3fe068ca8679280'), 'InvoiceNo': 536365, 'StockCode': '85123A', 'Description': 'WHITE HANGING HEART T-LIGHT HOLDER', 'Quantity': 6, 'InvoiceDate': '12/1/2010', 'UnitPrice': 2.55, 'CustomerID': 17850, 'Country': 'United Kingdom'}\n",
      "{'_id': ObjectId('682aacb9f3fe068ca8679281'), 'InvoiceNo': 536365, 'StockCode': '84406B', 'Description': 'CREAM CUPID HEARTS COAT HANGER', 'Quantity': 8, 'InvoiceDate': '12/1/2010', 'UnitPrice': 2.75, 'CustomerID': 17850, 'Country': 'United Kingdom'}\n",
      "{'_id': ObjectId('682aacb9f3fe068ca8679282'), 'InvoiceNo': 536365, 'StockCode': '84029E', 'Description': 'RED WOOLLY HOTTIE WHITE HEART.', 'Quantity': 6, 'InvoiceDate': '12/1/2010', 'UnitPrice': 3.39, 'CustomerID': 17850, 'Country': 'United Kingdom'}\n"
     ]
    }
   ],
   "source": [
    "# Retrieve the first three records\n",
    "result = collection.find().limit(3)\n",
    "# Print the records\n",
    "for record in result:\n",
    "    print(record)"
   ]
  },
  {
   "cell_type": "markdown",
   "id": "65d442de",
   "metadata": {},
   "source": [
    "#### Find one document with invoice number is equals to 536365"
   ]
  },
  {
   "cell_type": "code",
   "execution_count": 27,
   "id": "f7b74eff",
   "metadata": {},
   "outputs": [
    {
     "name": "stdout",
     "output_type": "stream",
     "text": [
      "{'_id': ObjectId('682aacb9f3fe068ca8679280'), 'InvoiceNo': 536365, 'StockCode': '85123A', 'Description': 'WHITE HANGING HEART T-LIGHT HOLDER', 'Quantity': 6, 'InvoiceDate': '12/1/2010', 'UnitPrice': 2.55, 'CustomerID': 17850, 'Country': 'United Kingdom'}\n"
     ]
    }
   ],
   "source": [
    "# Find one document\n",
    "result = collection.find_one({'InvoiceNo': 536365})\n",
    "print(result)"
   ]
  },
  {
   "cell_type": "markdown",
   "id": "697ed858",
   "metadata": {},
   "source": [
    "#### Find all the document with CustomerID = 12583. Feel free to use a query variable, a result variable, and a dataframe, or use your own query"
   ]
  },
  {
   "cell_type": "code",
   "execution_count": 43,
   "id": "da596023",
   "metadata": {},
   "outputs": [
    {
     "name": "stdout",
     "output_type": "stream",
     "text": [
      "{'_id': ObjectId('682aacb9f3fe068ca867928d'), 'InvoiceNo': 536370, 'StockCode': 22728, 'Description': 'ALARM CLOCK BAKELIKE PINK', 'Quantity': 24, 'InvoiceDate': '12/1/2010', 'UnitPrice': 3.75, 'CustomerID': 12583, 'Country': 'France'}\n",
      "{'_id': ObjectId('682aacb9f3fe068ca867928e'), 'InvoiceNo': 536370, 'StockCode': 22726, 'Description': 'ALARM CLOCK BAKELIKE GREEN', 'Quantity': 12, 'InvoiceDate': '12/1/2010', 'UnitPrice': 3.75, 'CustomerID': 12583, 'Country': 'France'}\n",
      "{'_id': ObjectId('682aacb9f3fe068ca867928f'), 'InvoiceNo': 536370, 'StockCode': 21883, 'Description': 'STARS GIFT TAPE ', 'Quantity': 24, 'InvoiceDate': '12/1/2010', 'UnitPrice': 0.65, 'CustomerID': 12583, 'Country': 'France'}\n",
      "{'_id': ObjectId('682aacb9f3fe068ca8679290'), 'InvoiceNo': 536370, 'StockCode': 21791, 'Description': 'VINTAGE HEADS AND TAILS CARD GAME ', 'Quantity': 24, 'InvoiceDate': '12/1/2010', 'UnitPrice': 1.25, 'CustomerID': 12583, 'Country': 'France'}\n",
      "{'_id': ObjectId('682aacb9f3fe068ca8679291'), 'InvoiceNo': 536370, 'StockCode': 22326, 'Description': 'ROUND SNACK BOXES SET OF4 WOODLAND ', 'Quantity': 24, 'InvoiceDate': '12/1/2010', 'UnitPrice': 2.95, 'CustomerID': 12583, 'Country': 'France'}\n",
      "{'_id': ObjectId('682aacb9f3fe068ca8679292'), 'InvoiceNo': 536370, 'StockCode': 22659, 'Description': 'LUNCH BOX I LOVE LONDON', 'Quantity': 24, 'InvoiceDate': '12/1/2010', 'UnitPrice': 1.95, 'CustomerID': 12583, 'Country': 'France'}\n",
      "{'_id': ObjectId('682aacb9f3fe068ca8679293'), 'InvoiceNo': 536370, 'StockCode': 22661, 'Description': 'CHARLOTTE BAG DOLLY GIRL DESIGN', 'Quantity': 20, 'InvoiceDate': '12/1/2010', 'UnitPrice': 0.85, 'CustomerID': 12583, 'Country': 'France'}\n",
      "{'_id': ObjectId('682aacb9f3fe068ca8679294'), 'InvoiceNo': 536370, 'StockCode': 22900, 'Description': ' SET 2 TEA TOWELS I LOVE LONDON ', 'Quantity': 24, 'InvoiceDate': '12/1/2010', 'UnitPrice': 2.95, 'CustomerID': 12583, 'Country': 'France'}\n",
      "{'_id': ObjectId('682aacb9f3fe068ca8679295'), 'InvoiceNo': 536370, 'StockCode': 22540, 'Description': 'MINI JIGSAW CIRCUS PARADE ', 'Quantity': 24, 'InvoiceDate': '12/1/2010', 'UnitPrice': 0.42, 'CustomerID': 12583, 'Country': 'France'}\n",
      "{'_id': ObjectId('682aacb9f3fe068ca8679296'), 'InvoiceNo': 536370, 'StockCode': 22492, 'Description': 'MINI PAINT SET VINTAGE ', 'Quantity': 36, 'InvoiceDate': '12/1/2010', 'UnitPrice': 0.65, 'CustomerID': 12583, 'Country': 'France'}\n",
      "{'_id': ObjectId('682aacbaf3fe068ca867f005'), 'InvoiceNo': 540455, 'StockCode': 21080, 'Description': 'SET/20 RED RETROSPOT PAPER NAPKINS ', 'Quantity': 12, 'InvoiceDate': '1/7/2011', 'UnitPrice': 0.85, 'CustomerID': 12583, 'Country': 'France'}\n",
      "{'_id': ObjectId('682aacbaf3fe068ca867f006'), 'InvoiceNo': 540455, 'StockCode': 22727, 'Description': 'ALARM CLOCK BAKELIKE RED ', 'Quantity': 12, 'InvoiceDate': '1/7/2011', 'UnitPrice': 3.75, 'CustomerID': 12583, 'Country': 'France'}\n",
      "{'_id': ObjectId('682aacbaf3fe068ca867f007'), 'InvoiceNo': 540455, 'StockCode': 22729, 'Description': 'ALARM CLOCK BAKELIKE ORANGE', 'Quantity': 12, 'InvoiceDate': '1/7/2011', 'UnitPrice': 3.75, 'CustomerID': 12583, 'Country': 'France'}\n",
      "{'_id': ObjectId('682aacbaf3fe068ca867f008'), 'InvoiceNo': 540455, 'StockCode': 22326, 'Description': 'ROUND SNACK BOXES SET OF4 WOODLAND ', 'Quantity': 18, 'InvoiceDate': '1/7/2011', 'UnitPrice': 2.95, 'CustomerID': 12583, 'Country': 'France'}\n",
      "{'_id': ObjectId('682aacbaf3fe068ca867f009'), 'InvoiceNo': 540455, 'StockCode': 22551, 'Description': 'PLASTERS IN TIN SPACEBOY', 'Quantity': 24, 'InvoiceDate': '1/7/2011', 'UnitPrice': 1.65, 'CustomerID': 12583, 'Country': 'France'}\n",
      "{'_id': ObjectId('682aacbaf3fe068ca867f00a'), 'InvoiceNo': 540455, 'StockCode': 22555, 'Description': 'PLASTERS IN TIN STRONGMAN', 'Quantity': 24, 'InvoiceDate': '1/7/2011', 'UnitPrice': 1.65, 'CustomerID': 12583, 'Country': 'France'}\n",
      "{'_id': ObjectId('682aacbaf3fe068ca867f00b'), 'InvoiceNo': 540455, 'StockCode': 22390, 'Description': 'PAPERWEIGHT CHILDHOOD MEMORIES', 'Quantity': 60, 'InvoiceDate': '1/7/2011', 'UnitPrice': 0.85, 'CustomerID': 12583, 'Country': 'France'}\n",
      "{'_id': ObjectId('682aacbaf3fe068ca867f00c'), 'InvoiceNo': 540455, 'StockCode': 22331, 'Description': 'WOODLAND PARTY BAG + STICKER SET', 'Quantity': 16, 'InvoiceDate': '1/7/2011', 'UnitPrice': 1.65, 'CustomerID': 12583, 'Country': 'France'}\n",
      "{'_id': ObjectId('682aacbaf3fe068ca867f00d'), 'InvoiceNo': 540455, 'StockCode': 21883, 'Description': 'STARS GIFT TAPE ', 'Quantity': 144, 'InvoiceDate': '1/7/2011', 'UnitPrice': 0.19, 'CustomerID': 12583, 'Country': 'France'}\n",
      "{'_id': ObjectId('682aacbaf3fe068ca867f00e'), 'InvoiceNo': 540455, 'StockCode': 22367, 'Description': 'CHILDRENS APRON SPACEBOY DESIGN', 'Quantity': 8, 'InvoiceDate': '1/7/2011', 'UnitPrice': 1.95, 'CustomerID': 12583, 'Country': 'France'}\n",
      "{'_id': ObjectId('682aacbaf3fe068ca867f00f'), 'InvoiceNo': 540455, 'StockCode': 'POST', 'Description': 'POSTAGE', 'Quantity': 3, 'InvoiceDate': '1/7/2011', 'UnitPrice': 18, 'CustomerID': 12583, 'Country': 'France'}\n",
      "{'_id': ObjectId('682aacbbf3fe068ca8683c54'), 'InvoiceNo': 543625, 'StockCode': 22539, 'Description': 'MINI JIGSAW DOLLY GIRL', 'Quantity': 24, 'InvoiceDate': '2/10/2011', 'UnitPrice': 0.42, 'CustomerID': 12583, 'Country': 'France'}\n",
      "{'_id': ObjectId('682aacbbf3fe068ca8683c55'), 'InvoiceNo': 543625, 'StockCode': 22554, 'Description': 'PLASTERS IN TIN WOODLAND ANIMALS', 'Quantity': 24, 'InvoiceDate': '2/10/2011', 'UnitPrice': 1.65, 'CustomerID': 12583, 'Country': 'France'}\n",
      "{'_id': ObjectId('682aacbbf3fe068ca8683c56'), 'InvoiceNo': 543625, 'StockCode': 21981, 'Description': 'PACK OF 12 WOODLAND TISSUES ', 'Quantity': 24, 'InvoiceDate': '2/10/2011', 'UnitPrice': 0.29, 'CustomerID': 12583, 'Country': 'France'}\n",
      "{'_id': ObjectId('682aacbbf3fe068ca8683c57'), 'InvoiceNo': 543625, 'StockCode': 22616, 'Description': 'PACK OF 12 LONDON TISSUES ', 'Quantity': 24, 'InvoiceDate': '2/10/2011', 'UnitPrice': 0.29, 'CustomerID': 12583, 'Country': 'France'}\n",
      "{'_id': ObjectId('682aacbbf3fe068ca8683c58'), 'InvoiceNo': 543625, 'StockCode': 16218, 'Description': 'CARTOON  PENCIL SHARPENERS', 'Quantity': 80, 'InvoiceDate': '2/10/2011', 'UnitPrice': 0.16, 'CustomerID': 12583, 'Country': 'France'}\n",
      "{'_id': ObjectId('682aacbbf3fe068ca8683c59'), 'InvoiceNo': 543625, 'StockCode': 22492, 'Description': 'MINI PAINT SET VINTAGE ', 'Quantity': 108, 'InvoiceDate': '2/10/2011', 'UnitPrice': 0.65, 'CustomerID': 12583, 'Country': 'France'}\n",
      "{'_id': ObjectId('682aacbbf3fe068ca86842cb'), 'InvoiceNo': 'C543992', 'StockCode': 'POST', 'Description': 'POSTAGE', 'Quantity': -1, 'InvoiceDate': '2/15/2011', 'UnitPrice': 18, 'CustomerID': 12583, 'Country': 'France'}\n",
      "{'_id': ObjectId('682aacbbf3fe068ca8687779'), 'InvoiceNo': 546373, 'StockCode': 23010, 'Description': 'CIRCUS PARADE BABY GIFT SET', 'Quantity': 3, 'InvoiceDate': '3/11/2011', 'UnitPrice': 16.95, 'CustomerID': 12583, 'Country': 'France'}\n",
      "{'_id': ObjectId('682aacbbf3fe068ca868777a'), 'InvoiceNo': 546373, 'StockCode': 21042, 'Description': 'RED RETROSPOT APRON ', 'Quantity': 6, 'InvoiceDate': '3/11/2011', 'UnitPrice': 5.95, 'CustomerID': 12583, 'Country': 'France'}\n",
      "{'_id': ObjectId('682aacbbf3fe068ca868777b'), 'InvoiceNo': 546373, 'StockCode': 21086, 'Description': 'SET/6 RED SPOTTY PAPER CUPS', 'Quantity': 24, 'InvoiceDate': '3/11/2011', 'UnitPrice': 0.65, 'CustomerID': 12583, 'Country': 'France'}\n",
      "{'_id': ObjectId('682aacbbf3fe068ca868777c'), 'InvoiceNo': 546373, 'StockCode': 21240, 'Description': 'BLUE POLKADOT CUP', 'Quantity': 8, 'InvoiceDate': '3/11/2011', 'UnitPrice': 0.85, 'CustomerID': 12583, 'Country': 'France'}\n",
      "{'_id': ObjectId('682aacbbf3fe068ca868777d'), 'InvoiceNo': 546373, 'StockCode': 22333, 'Description': 'RETROSPOT PARTY BAG + STICKER SET', 'Quantity': 24, 'InvoiceDate': '3/11/2011', 'UnitPrice': 1.65, 'CustomerID': 12583, 'Country': 'France'}\n",
      "{'_id': ObjectId('682aacbbf3fe068ca868777e'), 'InvoiceNo': 546373, 'StockCode': 22556, 'Description': 'PLASTERS IN TIN CIRCUS PARADE ', 'Quantity': 24, 'InvoiceDate': '3/11/2011', 'UnitPrice': 1.65, 'CustomerID': 12583, 'Country': 'France'}\n",
      "{'_id': ObjectId('682aacbbf3fe068ca868777f'), 'InvoiceNo': 546373, 'StockCode': 22729, 'Description': 'ALARM CLOCK BAKELIKE ORANGE', 'Quantity': 4, 'InvoiceDate': '3/11/2011', 'UnitPrice': 3.75, 'CustomerID': 12583, 'Country': 'France'}\n",
      "{'_id': ObjectId('682aacbbf3fe068ca8687780'), 'InvoiceNo': 546373, 'StockCode': 22090, 'Description': 'PAPER BUNTING RETROSPOT', 'Quantity': 18, 'InvoiceDate': '3/11/2011', 'UnitPrice': 2.95, 'CustomerID': 12583, 'Country': 'France'}\n",
      "{'_id': ObjectId('682aacbbf3fe068ca8687781'), 'InvoiceNo': 546373, 'StockCode': 'POST', 'Description': 'POSTAGE', 'Quantity': 2, 'InvoiceDate': '3/11/2011', 'UnitPrice': 18, 'CustomerID': 12583, 'Country': 'France'}\n",
      "{'_id': ObjectId('682aacbbf3fe068ca8687782'), 'InvoiceNo': 546373, 'StockCode': 23009, 'Description': 'I LOVE LONDON BABY GIFT SET', 'Quantity': 6, 'InvoiceDate': '3/11/2011', 'UnitPrice': 14.95, 'CustomerID': 12583, 'Country': 'France'}\n",
      "{'_id': ObjectId('682aacbcf3fe068ca8691a00'), 'InvoiceNo': 554134, 'StockCode': 23281, 'Description': 'FOLDING BUTTERFLY MIRROR RED  ', 'Quantity': 24, 'InvoiceDate': '5/23/2011', 'UnitPrice': 0.83, 'CustomerID': 12583, 'Country': 'France'}\n",
      "{'_id': ObjectId('682aacbcf3fe068ca8691a01'), 'InvoiceNo': 554134, 'StockCode': 22492, 'Description': 'MINI PAINT SET VINTAGE ', 'Quantity': 36, 'InvoiceDate': '5/23/2011', 'UnitPrice': 0.65, 'CustomerID': 12583, 'Country': 'France'}\n",
      "{'_id': ObjectId('682aacbcf3fe068ca8691a02'), 'InvoiceNo': 554134, 'StockCode': 21240, 'Description': 'BLUE POLKADOT CUP', 'Quantity': 8, 'InvoiceDate': '5/23/2011', 'UnitPrice': 0.85, 'CustomerID': 12583, 'Country': 'France'}\n",
      "{'_id': ObjectId('682aacbcf3fe068ca8691a03'), 'InvoiceNo': 554134, 'StockCode': 22090, 'Description': 'PAPER BUNTING RETROSPOT', 'Quantity': 40, 'InvoiceDate': '5/23/2011', 'UnitPrice': 2.55, 'CustomerID': 12583, 'Country': 'France'}\n",
      "{'_id': ObjectId('682aacbcf3fe068ca8691a04'), 'InvoiceNo': 554134, 'StockCode': 20724, 'Description': 'RED RETROSPOT CHARLOTTE BAG', 'Quantity': 10, 'InvoiceDate': '5/23/2011', 'UnitPrice': 0.85, 'CustomerID': 12583, 'Country': 'France'}\n",
      "{'_id': ObjectId('682aacbcf3fe068ca8691a05'), 'InvoiceNo': 554134, 'StockCode': 21039, 'Description': 'RED RETROSPOT SHOPPING BAG', 'Quantity': 6, 'InvoiceDate': '5/23/2011', 'UnitPrice': 2.55, 'CustomerID': 12583, 'Country': 'France'}\n",
      "{'_id': ObjectId('682aacbcf3fe068ca8691a06'), 'InvoiceNo': 554134, 'StockCode': 21212, 'Description': 'PACK OF 72 RETROSPOT CAKE CASES', 'Quantity': 24, 'InvoiceDate': '5/23/2011', 'UnitPrice': 0.55, 'CustomerID': 12583, 'Country': 'France'}\n",
      "{'_id': ObjectId('682aacbcf3fe068ca8691a07'), 'InvoiceNo': 554134, 'StockCode': 20983, 'Description': '12 PENCILS TALL TUBE RED RETROSPOT', 'Quantity': 12, 'InvoiceDate': '5/23/2011', 'UnitPrice': 0.85, 'CustomerID': 12583, 'Country': 'France'}\n",
      "{'_id': ObjectId('682aacbcf3fe068ca8691a08'), 'InvoiceNo': 554134, 'StockCode': 21245, 'Description': 'GREEN POLKADOT PLATE ', 'Quantity': 8, 'InvoiceDate': '5/23/2011', 'UnitPrice': 1.69, 'CustomerID': 12583, 'Country': 'France'}\n",
      "{'_id': ObjectId('682aacbcf3fe068ca8691a09'), 'InvoiceNo': 554134, 'StockCode': 'POST', 'Description': 'POSTAGE', 'Quantity': 2, 'InvoiceDate': '5/23/2011', 'UnitPrice': 18, 'CustomerID': 12583, 'Country': 'France'}\n",
      "{'_id': ObjectId('682aacbcf3fe068ca86945ee'), 'InvoiceNo': 556463, 'StockCode': 23100, 'Description': 'SILVER BELLS TABLE DECORATION', 'Quantity': 12, 'InvoiceDate': '6/12/2011', 'UnitPrice': 1.25, 'CustomerID': 12583, 'Country': 'France'}\n",
      "{'_id': ObjectId('682aacbcf3fe068ca86945ef'), 'InvoiceNo': 556463, 'StockCode': 21238, 'Description': 'RED RETROSPOT CUP', 'Quantity': 8, 'InvoiceDate': '6/12/2011', 'UnitPrice': 0.85, 'CustomerID': 12583, 'Country': 'France'}\n",
      "{'_id': ObjectId('682aacbcf3fe068ca86945f0'), 'InvoiceNo': 556463, 'StockCode': 21242, 'Description': 'RED RETROSPOT PLATE ', 'Quantity': 8, 'InvoiceDate': '6/12/2011', 'UnitPrice': 1.69, 'CustomerID': 12583, 'Country': 'France'}\n",
      "{'_id': ObjectId('682aacbcf3fe068ca86945f1'), 'InvoiceNo': 556463, 'StockCode': 22197, 'Description': 'SMALL POPCORN HOLDER', 'Quantity': 36, 'InvoiceDate': '6/12/2011', 'UnitPrice': 0.85, 'CustomerID': 12583, 'Country': 'France'}\n",
      "{'_id': ObjectId('682aacbcf3fe068ca86945f2'), 'InvoiceNo': 556463, 'StockCode': 22356, 'Description': 'CHARLOTTE BAG PINK POLKADOT', 'Quantity': 10, 'InvoiceDate': '6/12/2011', 'UnitPrice': 0.85, 'CustomerID': 12583, 'Country': 'France'}\n",
      "{'_id': ObjectId('682aacbcf3fe068ca86945f3'), 'InvoiceNo': 556463, 'StockCode': 22610, 'Description': 'PENS ASSORTED FUNNY FACE', 'Quantity': 360, 'InvoiceDate': '6/12/2011', 'UnitPrice': 0.19, 'CustomerID': 12583, 'Country': 'France'}\n",
      "{'_id': ObjectId('682aacbcf3fe068ca86945f4'), 'InvoiceNo': 556463, 'StockCode': 22561, 'Description': 'WOODEN SCHOOL COLOURING SET', 'Quantity': 12, 'InvoiceDate': '6/12/2011', 'UnitPrice': 1.65, 'CustomerID': 12583, 'Country': 'France'}\n",
      "{'_id': ObjectId('682aacbcf3fe068ca8695dcd'), 'InvoiceNo': 557627, 'StockCode': 22726, 'Description': 'ALARM CLOCK BAKELIKE GREEN', 'Quantity': 16, 'InvoiceDate': '6/21/2011', 'UnitPrice': 3.75, 'CustomerID': 12583, 'Country': 'France'}\n",
      "{'_id': ObjectId('682aacbcf3fe068ca8695dce'), 'InvoiceNo': 557627, 'StockCode': 22728, 'Description': 'ALARM CLOCK BAKELIKE PINK', 'Quantity': 4, 'InvoiceDate': '6/21/2011', 'UnitPrice': 3.75, 'CustomerID': 12583, 'Country': 'France'}\n",
      "{'_id': ObjectId('682aacbcf3fe068ca8695dcf'), 'InvoiceNo': 557627, 'StockCode': 16218, 'Description': 'CARTOON  PENCIL SHARPENERS', 'Quantity': 240, 'InvoiceDate': '6/21/2011', 'UnitPrice': 0.06, 'CustomerID': 12583, 'Country': 'France'}\n",
      "{'_id': ObjectId('682aacbcf3fe068ca8695dd0'), 'InvoiceNo': 557627, 'StockCode': 21094, 'Description': 'SET/6 RED SPOTTY PAPER PLATES', 'Quantity': 12, 'InvoiceDate': '6/21/2011', 'UnitPrice': 0.85, 'CustomerID': 12583, 'Country': 'France'}\n",
      "{'_id': ObjectId('682aacbcf3fe068ca8695dd1'), 'InvoiceNo': 557627, 'StockCode': 21086, 'Description': 'SET/6 RED SPOTTY PAPER CUPS', 'Quantity': 12, 'InvoiceDate': '6/21/2011', 'UnitPrice': 0.65, 'CustomerID': 12583, 'Country': 'France'}\n",
      "{'_id': ObjectId('682aacbcf3fe068ca8695dd2'), 'InvoiceNo': 557627, 'StockCode': 22333, 'Description': 'RETROSPOT PARTY BAG + STICKER SET', 'Quantity': 16, 'InvoiceDate': '6/21/2011', 'UnitPrice': 1.65, 'CustomerID': 12583, 'Country': 'France'}\n",
      "{'_id': ObjectId('682aacbdf3fe068ca86986a8'), 'InvoiceNo': 559441, 'StockCode': 22728, 'Description': 'ALARM CLOCK BAKELIKE PINK', 'Quantity': 4, 'InvoiceDate': '7/8/2011', 'UnitPrice': 3.75, 'CustomerID': 12583, 'Country': 'France'}\n",
      "{'_id': ObjectId('682aacbdf3fe068ca86986a9'), 'InvoiceNo': 559441, 'StockCode': 21094, 'Description': 'SET/6 RED SPOTTY PAPER PLATES', 'Quantity': 12, 'InvoiceDate': '7/8/2011', 'UnitPrice': 0.85, 'CustomerID': 12583, 'Country': 'France'}\n",
      "{'_id': ObjectId('682aacbdf3fe068ca86986aa'), 'InvoiceNo': 559441, 'StockCode': 22955, 'Description': '36 FOIL STAR CAKE CASES ', 'Quantity': 12, 'InvoiceDate': '7/8/2011', 'UnitPrice': 2.1, 'CustomerID': 12583, 'Country': 'France'}\n",
      "{'_id': ObjectId('682aacbdf3fe068ca86986ab'), 'InvoiceNo': 559441, 'StockCode': 22556, 'Description': 'PLASTERS IN TIN CIRCUS PARADE ', 'Quantity': 24, 'InvoiceDate': '7/8/2011', 'UnitPrice': 1.65, 'CustomerID': 12583, 'Country': 'France'}\n",
      "{'_id': ObjectId('682aacbdf3fe068ca86986ac'), 'InvoiceNo': 559441, 'StockCode': 21988, 'Description': 'PACK OF 6 SKULL PAPER PLATES', 'Quantity': 12, 'InvoiceDate': '7/8/2011', 'UnitPrice': 0.85, 'CustomerID': 12583, 'Country': 'France'}\n",
      "{'_id': ObjectId('682aacbdf3fe068ca86986ad'), 'InvoiceNo': 559441, 'StockCode': 21987, 'Description': 'PACK OF 6 SKULL PAPER CUPS', 'Quantity': 12, 'InvoiceDate': '7/8/2011', 'UnitPrice': 0.65, 'CustomerID': 12583, 'Country': 'France'}\n",
      "{'_id': ObjectId('682aacbdf3fe068ca86986ae'), 'InvoiceNo': 559441, 'StockCode': 22551, 'Description': 'PLASTERS IN TIN SPACEBOY', 'Quantity': 24, 'InvoiceDate': '7/8/2011', 'UnitPrice': 1.65, 'CustomerID': 12583, 'Country': 'France'}\n",
      "{'_id': ObjectId('682aacbdf3fe068ca869f630'), 'InvoiceNo': 564471, 'StockCode': 22082, 'Description': 'RIBBON REEL STRIPES DESIGN ', 'Quantity': 10, 'InvoiceDate': '8/25/2011', 'UnitPrice': 1.65, 'CustomerID': 12583, 'Country': 'France'}\n",
      "{'_id': ObjectId('682aacbdf3fe068ca869f631'), 'InvoiceNo': 564471, 'StockCode': 21210, 'Description': 'SET OF 72 RETROSPOT PAPER  DOILIES', 'Quantity': 12, 'InvoiceDate': '8/25/2011', 'UnitPrice': 1.45, 'CustomerID': 12583, 'Country': 'France'}\n",
      "{'_id': ObjectId('682aacbdf3fe068ca869f632'), 'InvoiceNo': 564471, 'StockCode': 21080, 'Description': 'SET/20 RED RETROSPOT PAPER NAPKINS ', 'Quantity': 24, 'InvoiceDate': '8/25/2011', 'UnitPrice': 0.85, 'CustomerID': 12583, 'Country': 'France'}\n",
      "{'_id': ObjectId('682aacbdf3fe068ca869f633'), 'InvoiceNo': 564471, 'StockCode': 21094, 'Description': 'SET/6 RED SPOTTY PAPER PLATES', 'Quantity': 24, 'InvoiceDate': '8/25/2011', 'UnitPrice': 0.85, 'CustomerID': 12583, 'Country': 'France'}\n",
      "{'_id': ObjectId('682aacbdf3fe068ca869f634'), 'InvoiceNo': 564471, 'StockCode': 22326, 'Description': 'ROUND SNACK BOXES SET OF4 WOODLAND ', 'Quantity': 18, 'InvoiceDate': '8/25/2011', 'UnitPrice': 2.95, 'CustomerID': 12583, 'Country': 'France'}\n",
      "{'_id': ObjectId('682aacbef3fe068ca86a3dee'), 'InvoiceNo': 567552, 'StockCode': 23169, 'Description': 'CLASSIC GLASS COOKIE JAR', 'Quantity': 6, 'InvoiceDate': '9/21/2011', 'UnitPrice': 4.15, 'CustomerID': 12583, 'Country': 'France'}\n",
      "{'_id': ObjectId('682aacbef3fe068ca86a3def'), 'InvoiceNo': 567552, 'StockCode': 22492, 'Description': 'MINI PAINT SET VINTAGE ', 'Quantity': 72, 'InvoiceDate': '9/21/2011', 'UnitPrice': 0.65, 'CustomerID': 12583, 'Country': 'France'}\n",
      "{'_id': ObjectId('682aacbef3fe068ca86a3df0'), 'InvoiceNo': 567552, 'StockCode': 21210, 'Description': 'SET OF 72 RETROSPOT PAPER  DOILIES', 'Quantity': 12, 'InvoiceDate': '9/21/2011', 'UnitPrice': 1.45, 'CustomerID': 12583, 'Country': 'France'}\n",
      "{'_id': ObjectId('682aacbef3fe068ca86a3df1'), 'InvoiceNo': 567552, 'StockCode': 22726, 'Description': 'ALARM CLOCK BAKELIKE GREEN', 'Quantity': 8, 'InvoiceDate': '9/21/2011', 'UnitPrice': 3.75, 'CustomerID': 12583, 'Country': 'France'}\n",
      "{'_id': ObjectId('682aacbef3fe068ca86a3df2'), 'InvoiceNo': 567552, 'StockCode': 22728, 'Description': 'ALARM CLOCK BAKELIKE PINK', 'Quantity': 8, 'InvoiceDate': '9/21/2011', 'UnitPrice': 3.75, 'CustomerID': 12583, 'Country': 'France'}\n",
      "{'_id': ObjectId('682aacbef3fe068ca86a3df3'), 'InvoiceNo': 567552, 'StockCode': 22466, 'Description': 'FAIRY TALE COTTAGE NIGHT LIGHT', 'Quantity': 12, 'InvoiceDate': '9/21/2011', 'UnitPrice': 1.95, 'CustomerID': 12583, 'Country': 'France'}\n",
      "{'_id': ObjectId('682aacbef3fe068ca86a3df4'), 'InvoiceNo': 567552, 'StockCode': 23388, 'Description': 'WOODLAND MINI BACKPACK', 'Quantity': 4, 'InvoiceDate': '9/21/2011', 'UnitPrice': 4.15, 'CustomerID': 12583, 'Country': 'France'}\n",
      "{'_id': ObjectId('682aacbef3fe068ca86a3df5'), 'InvoiceNo': 567552, 'StockCode': 23390, 'Description': 'DOLLY GIRL MINI BACKPACK', 'Quantity': 4, 'InvoiceDate': '9/21/2011', 'UnitPrice': 4.15, 'CustomerID': 12583, 'Country': 'France'}\n",
      "{'_id': ObjectId('682aacbef3fe068ca86a3df6'), 'InvoiceNo': 567552, 'StockCode': 23374, 'Description': 'RED SPOT PAPER GIFT BAG', 'Quantity': 20, 'InvoiceDate': '9/21/2011', 'UnitPrice': 0.82, 'CustomerID': 12583, 'Country': 'France'}\n",
      "{'_id': ObjectId('682aacbef3fe068ca86a3df7'), 'InvoiceNo': 567552, 'StockCode': 21731, 'Description': 'RED TOADSTOOL LED NIGHT LIGHT', 'Quantity': 12, 'InvoiceDate': '9/21/2011', 'UnitPrice': 1.65, 'CustomerID': 12583, 'Country': 'France'}\n",
      "{'_id': ObjectId('682aacbef3fe068ca86a3df8'), 'InvoiceNo': 567552, 'StockCode': 'POST', 'Description': 'POSTAGE', 'Quantity': 3, 'InvoiceDate': '9/21/2011', 'UnitPrice': 18, 'CustomerID': 12583, 'Country': 'France'}\n",
      "{'_id': ObjectId('682aacbef3fe068ca86a52e9'), 'InvoiceNo': 'C568244', 'StockCode': 22197, 'Description': 'POPCORN HOLDER', 'Quantity': -13, 'InvoiceDate': '9/26/2011', 'UnitPrice': 0.85, 'CustomerID': 12583, 'Country': 'France'}\n",
      "{'_id': ObjectId('682aacbef3fe068ca86a6519'), 'InvoiceNo': 569120, 'StockCode': 23367, 'Description': 'SET 12 COLOUR PENCILS SPACEBOY ', 'Quantity': 16, 'InvoiceDate': '9/30/2011', 'UnitPrice': 0.65, 'CustomerID': 12583, 'Country': 'France'}\n",
      "{'_id': ObjectId('682aacbef3fe068ca86a651a'), 'InvoiceNo': 569120, 'StockCode': 23509, 'Description': 'MINI PLAYING CARDS FUN FAIR ', 'Quantity': 20, 'InvoiceDate': '9/30/2011', 'UnitPrice': 0.42, 'CustomerID': 12583, 'Country': 'France'}\n",
      "{'_id': ObjectId('682aacbef3fe068ca86a651b'), 'InvoiceNo': 569120, 'StockCode': 21559, 'Description': 'STRAWBERRY LUNCH BOX WITH CUTLERY', 'Quantity': 6, 'InvoiceDate': '9/30/2011', 'UnitPrice': 2.55, 'CustomerID': 12583, 'Country': 'France'}\n",
      "{'_id': ObjectId('682aacbef3fe068ca86a651c'), 'InvoiceNo': 569120, 'StockCode': 20750, 'Description': 'RED RETROSPOT MINI CASES', 'Quantity': 12, 'InvoiceDate': '9/30/2011', 'UnitPrice': 6.35, 'CustomerID': 12583, 'Country': 'France'}\n",
      "{'_id': ObjectId('682aacbef3fe068ca86a651d'), 'InvoiceNo': 569120, 'StockCode': 23298, 'Description': 'SPOTTY BUNTING', 'Quantity': 3, 'InvoiceDate': '9/30/2011', 'UnitPrice': 4.95, 'CustomerID': 12583, 'Country': 'France'}\n",
      "{'_id': ObjectId('682aacbef3fe068ca86a651e'), 'InvoiceNo': 569120, 'StockCode': 'POST', 'Description': 'POSTAGE', 'Quantity': 2, 'InvoiceDate': '9/30/2011', 'UnitPrice': 18, 'CustomerID': 12583, 'Country': 'France'}\n",
      "{'_id': ObjectId('682aacbef3fe068ca86a651f'), 'InvoiceNo': 569120, 'StockCode': 22352, 'Description': 'LUNCH BOX WITH CUTLERY RETROSPOT ', 'Quantity': 12, 'InvoiceDate': '9/30/2011', 'UnitPrice': 2.55, 'CustomerID': 12583, 'Country': 'France'}\n",
      "{'_id': ObjectId('682aacbff3fe068ca86a9394'), 'InvoiceNo': 570851, 'StockCode': 23388, 'Description': 'WOODLAND MINI BACKPACK', 'Quantity': 16, 'InvoiceDate': '10/12/2011', 'UnitPrice': 4.15, 'CustomerID': 12583, 'Country': 'France'}\n",
      "{'_id': ObjectId('682aacbff3fe068ca86a9395'), 'InvoiceNo': 570851, 'StockCode': 22197, 'Description': 'POPCORN HOLDER', 'Quantity': 12, 'InvoiceDate': '10/12/2011', 'UnitPrice': 0.85, 'CustomerID': 12583, 'Country': 'France'}\n",
      "{'_id': ObjectId('682aacbff3fe068ca86a9396'), 'InvoiceNo': 570851, 'StockCode': 20724, 'Description': 'RED RETROSPOT CHARLOTTE BAG', 'Quantity': 24, 'InvoiceDate': '10/12/2011', 'UnitPrice': 0.85, 'CustomerID': 12583, 'Country': 'France'}\n",
      "{'_id': ObjectId('682aacbff3fe068ca86a9a55'), 'InvoiceNo': 'C571127', 'StockCode': 35970, 'Description': 'ZINC FOLKART SLEIGH BELLS', 'Quantity': -36, 'InvoiceDate': '10/14/2011', 'UnitPrice': 1.69, 'CustomerID': 12583, 'Country': 'France'}\n",
      "{'_id': ObjectId('682aacbff3fe068ca86afebd'), 'InvoiceNo': 575067, 'StockCode': 23570, 'Description': 'TRADITIONAL PICK UP STICKS GAME ', 'Quantity': 12, 'InvoiceDate': '11/8/2011', 'UnitPrice': 1.25, 'CustomerID': 12583, 'Country': 'France'}\n",
      "{'_id': ObjectId('682aacbff3fe068ca86afebe'), 'InvoiceNo': 575067, 'StockCode': 22555, 'Description': 'PLASTERS IN TIN STRONGMAN', 'Quantity': 24, 'InvoiceDate': '11/8/2011', 'UnitPrice': 1.65, 'CustomerID': 12583, 'Country': 'France'}\n",
      "{'_id': ObjectId('682aacbff3fe068ca86afebf'), 'InvoiceNo': 575067, 'StockCode': 22417, 'Description': 'PACK OF 60 SPACEBOY CAKE CASES', 'Quantity': 24, 'InvoiceDate': '11/8/2011', 'UnitPrice': 0.55, 'CustomerID': 12583, 'Country': 'France'}\n",
      "{'_id': ObjectId('682aacbff3fe068ca86afec0'), 'InvoiceNo': 575067, 'StockCode': 20719, 'Description': 'WOODLAND CHARLOTTE BAG', 'Quantity': 20, 'InvoiceDate': '11/8/2011', 'UnitPrice': 0.85, 'CustomerID': 12583, 'Country': 'France'}\n",
      "{'_id': ObjectId('682aacbff3fe068ca86afec1'), 'InvoiceNo': 575067, 'StockCode': 22356, 'Description': 'CHARLOTTE BAG PINK POLKADOT', 'Quantity': 10, 'InvoiceDate': '11/8/2011', 'UnitPrice': 0.85, 'CustomerID': 12583, 'Country': 'France'}\n",
      "{'_id': ObjectId('682aacbff3fe068ca86afec2'), 'InvoiceNo': 575067, 'StockCode': 22636, 'Description': 'CHILDS BREAKFAST SET CIRCUS PARADE', 'Quantity': 4, 'InvoiceDate': '11/8/2011', 'UnitPrice': 8.5, 'CustomerID': 12583, 'Country': 'France'}\n",
      "{'_id': ObjectId('682aacbff3fe068ca86afec3'), 'InvoiceNo': 575067, 'StockCode': 22083, 'Description': 'PAPER CHAIN KIT RETROSPOT', 'Quantity': 6, 'InvoiceDate': '11/8/2011', 'UnitPrice': 2.95, 'CustomerID': 12583, 'Country': 'France'}\n",
      "{'_id': ObjectId('682aacbff3fe068ca86afec4'), 'InvoiceNo': 575067, 'StockCode': 22328, 'Description': 'ROUND SNACK BOXES SET OF 4 FRUITS ', 'Quantity': 12, 'InvoiceDate': '11/8/2011', 'UnitPrice': 2.95, 'CustomerID': 12583, 'Country': 'France'}\n",
      "{'_id': ObjectId('682aacbff3fe068ca86afec5'), 'InvoiceNo': 575067, 'StockCode': 22727, 'Description': 'ALARM CLOCK BAKELIKE RED ', 'Quantity': 24, 'InvoiceDate': '11/8/2011', 'UnitPrice': 3.75, 'CustomerID': 12583, 'Country': 'France'}\n",
      "{'_id': ObjectId('682aacbff3fe068ca86afec6'), 'InvoiceNo': 575067, 'StockCode': 22728, 'Description': 'ALARM CLOCK BAKELIKE PINK', 'Quantity': 12, 'InvoiceDate': '11/8/2011', 'UnitPrice': 3.75, 'CustomerID': 12583, 'Country': 'France'}\n",
      "{'_id': ObjectId('682aacbff3fe068ca86afec7'), 'InvoiceNo': 575067, 'StockCode': 23445, 'Description': 'ICE CREAM BUBBLES', 'Quantity': 20, 'InvoiceDate': '11/8/2011', 'UnitPrice': 0.83, 'CustomerID': 12583, 'Country': 'France'}\n",
      "{'_id': ObjectId('682aacbff3fe068ca86afec8'), 'InvoiceNo': 575067, 'StockCode': 'POST', 'Description': 'POSTAGE', 'Quantity': 2, 'InvoiceDate': '11/8/2011', 'UnitPrice': 18, 'CustomerID': 12583, 'Country': 'France'}\n",
      "{'_id': ObjectId('682aacc0f3fe068ca86b474f'), 'InvoiceNo': 577687, 'StockCode': 21212, 'Description': 'PACK OF 72 RETROSPOT CAKE CASES', 'Quantity': 24, 'InvoiceDate': '11/21/2011', 'UnitPrice': 0.55, 'CustomerID': 12583, 'Country': 'France'}\n",
      "{'_id': ObjectId('682aacc0f3fe068ca86b4750'), 'InvoiceNo': 577687, 'StockCode': 23368, 'Description': 'SET 12 COLOUR PENCILS DOLLY GIRL ', 'Quantity': 16, 'InvoiceDate': '11/21/2011', 'UnitPrice': 0.65, 'CustomerID': 12583, 'Country': 'France'}\n",
      "{'_id': ObjectId('682aacc0f3fe068ca86b4751'), 'InvoiceNo': 577687, 'StockCode': 22991, 'Description': 'GIRAFFE WOODEN RULER', 'Quantity': 12, 'InvoiceDate': '11/21/2011', 'UnitPrice': 1.95, 'CustomerID': 12583, 'Country': 'France'}\n",
      "{'_id': ObjectId('682aacc0f3fe068ca86b4752'), 'InvoiceNo': 577687, 'StockCode': 21086, 'Description': 'SET/6 RED SPOTTY PAPER CUPS', 'Quantity': 12, 'InvoiceDate': '11/21/2011', 'UnitPrice': 0.65, 'CustomerID': 12583, 'Country': 'France'}\n",
      "{'_id': ObjectId('682aacc0f3fe068ca86b4753'), 'InvoiceNo': 577687, 'StockCode': 21988, 'Description': 'PACK OF 6 SKULL PAPER PLATES', 'Quantity': 12, 'InvoiceDate': '11/21/2011', 'UnitPrice': 0.85, 'CustomerID': 12583, 'Country': 'France'}\n",
      "{'_id': ObjectId('682aacc0f3fe068ca86b4754'), 'InvoiceNo': 577687, 'StockCode': 21987, 'Description': 'PACK OF 6 SKULL PAPER CUPS', 'Quantity': 12, 'InvoiceDate': '11/21/2011', 'UnitPrice': 0.65, 'CustomerID': 12583, 'Country': 'France'}\n",
      "{'_id': ObjectId('682aacc0f3fe068ca86b4755'), 'InvoiceNo': 577687, 'StockCode': 22332, 'Description': 'SKULLS PARTY BAG + STICKER SET', 'Quantity': 16, 'InvoiceDate': '11/21/2011', 'UnitPrice': 1.65, 'CustomerID': 12583, 'Country': 'France'}\n",
      "{'_id': ObjectId('682aacc0f3fe068ca86b4756'), 'InvoiceNo': 577687, 'StockCode': 'POST', 'Description': 'POSTAGE', 'Quantity': 3, 'InvoiceDate': '11/21/2011', 'UnitPrice': 18, 'CustomerID': 12583, 'Country': 'France'}\n",
      "{'_id': ObjectId('682aacc0f3fe068ca86ba35b'), 'InvoiceNo': 581001, 'StockCode': 23562, 'Description': 'SET OF 6 RIBBONS PERFECTLY PRETTY  ', 'Quantity': 6, 'InvoiceDate': '12/7/2011', 'UnitPrice': 2.89, 'CustomerID': 12583, 'Country': 'France'}\n",
      "{'_id': ObjectId('682aacc0f3fe068ca86ba35c'), 'InvoiceNo': 581001, 'StockCode': 22544, 'Description': 'MINI JIGSAW SPACEBOY', 'Quantity': 48, 'InvoiceDate': '12/7/2011', 'UnitPrice': 0.19, 'CustomerID': 12583, 'Country': 'France'}\n",
      "{'_id': ObjectId('682aacc0f3fe068ca86ba35d'), 'InvoiceNo': 581001, 'StockCode': 23084, 'Description': 'RABBIT NIGHT LIGHT', 'Quantity': 24, 'InvoiceDate': '12/7/2011', 'UnitPrice': 1.79, 'CustomerID': 12583, 'Country': 'France'}\n",
      "{'_id': ObjectId('682aacc0f3fe068ca86ba35e'), 'InvoiceNo': 581001, 'StockCode': 22909, 'Description': 'SET OF 20 VINTAGE CHRISTMAS NAPKINS', 'Quantity': 12, 'InvoiceDate': '12/7/2011', 'UnitPrice': 0.85, 'CustomerID': 12583, 'Country': 'France'}\n",
      "{'_id': ObjectId('682aacc0f3fe068ca86ba35f'), 'InvoiceNo': 581001, 'StockCode': 22617, 'Description': 'BAKING SET SPACEBOY DESIGN', 'Quantity': 3, 'InvoiceDate': '12/7/2011', 'UnitPrice': 4.95, 'CustomerID': 12583, 'Country': 'France'}\n",
      "{'_id': ObjectId('682aacc0f3fe068ca86ba360'), 'InvoiceNo': 581001, 'StockCode': 22367, 'Description': 'CHILDRENS APRON SPACEBOY DESIGN', 'Quantity': 8, 'InvoiceDate': '12/7/2011', 'UnitPrice': 1.95, 'CustomerID': 12583, 'Country': 'France'}\n",
      "{'_id': ObjectId('682aacc0f3fe068ca86ba361'), 'InvoiceNo': 581001, 'StockCode': 21156, 'Description': 'RETROSPOT CHILDRENS APRON', 'Quantity': 8, 'InvoiceDate': '12/7/2011', 'UnitPrice': 1.95, 'CustomerID': 12583, 'Country': 'France'}\n",
      "{'_id': ObjectId('682aacc0f3fe068ca86ba362'), 'InvoiceNo': 581001, 'StockCode': 21559, 'Description': 'STRAWBERRY LUNCH BOX WITH CUTLERY', 'Quantity': 12, 'InvoiceDate': '12/7/2011', 'UnitPrice': 2.55, 'CustomerID': 12583, 'Country': 'France'}\n",
      "{'_id': ObjectId('682aacc0f3fe068ca86ba363'), 'InvoiceNo': 581001, 'StockCode': 23388, 'Description': 'WOODLAND MINI BACKPACK', 'Quantity': 12, 'InvoiceDate': '12/7/2011', 'UnitPrice': 4.15, 'CustomerID': 12583, 'Country': 'France'}\n",
      "{'_id': ObjectId('682aacc0f3fe068ca86ba364'), 'InvoiceNo': 581001, 'StockCode': 22726, 'Description': 'ALARM CLOCK BAKELIKE GREEN', 'Quantity': 24, 'InvoiceDate': '12/7/2011', 'UnitPrice': 3.75, 'CustomerID': 12583, 'Country': 'France'}\n"
     ]
    }
   ],
   "source": [
    "query = {'CustomerID': 12583}\n",
    "\n",
    "results = collection.find(query)\n",
    "for doc in results:\n",
    "    print(doc)"
   ]
  },
  {
   "cell_type": "markdown",
   "id": "8c16a097",
   "metadata": {},
   "source": [
    "#### Find all the documents where the description is \"CREAM CUPID HEARTS COAT HANGER\""
   ]
  },
  {
   "cell_type": "code",
   "execution_count": 45,
   "id": "15e2e05d",
   "metadata": {},
   "outputs": [
    {
     "name": "stdout",
     "output_type": "stream",
     "text": [
      "{'_id': ObjectId('682aacb9f3fe068ca8679281'), 'InvoiceNo': 536365, 'StockCode': '84406B', 'Description': 'CREAM CUPID HEARTS COAT HANGER', 'Quantity': 8, 'InvoiceDate': '12/1/2010', 'UnitPrice': 2.75, 'CustomerID': 17850, 'Country': 'United Kingdom'}\n",
      "{'_id': ObjectId('682aacb9f3fe068ca86792a2'), 'InvoiceNo': 536375, 'StockCode': '84406B', 'Description': 'CREAM CUPID HEARTS COAT HANGER', 'Quantity': 8, 'InvoiceDate': '12/1/2010', 'UnitPrice': 2.75, 'CustomerID': 17850, 'Country': 'United Kingdom'}\n",
      "{'_id': ObjectId('682aacb9f3fe068ca867930c'), 'InvoiceNo': 536396, 'StockCode': '84406B', 'Description': 'CREAM CUPID HEARTS COAT HANGER', 'Quantity': 8, 'InvoiceDate': '12/1/2010', 'UnitPrice': 2.75, 'CustomerID': 17850, 'Country': 'United Kingdom'}\n",
      "{'_id': ObjectId('682aacb9f3fe068ca8679351'), 'InvoiceNo': 536406, 'StockCode': '84406B', 'Description': 'CREAM CUPID HEARTS COAT HANGER', 'Quantity': 8, 'InvoiceDate': '12/1/2010', 'UnitPrice': 2.75, 'CustomerID': 17850, 'Country': 'United Kingdom'}\n",
      "{'_id': ObjectId('682aacb9f3fe068ca86798bd'), 'InvoiceNo': 536609, 'StockCode': '84406B', 'Description': 'CREAM CUPID HEARTS COAT HANGER', 'Quantity': 6, 'InvoiceDate': '12/2/2010', 'UnitPrice': 2.75, 'CustomerID': 17850, 'Country': 'United Kingdom'}\n",
      "{'_id': ObjectId('682aacb9f3fe068ca86798cd'), 'InvoiceNo': 536612, 'StockCode': '84406B', 'Description': 'CREAM CUPID HEARTS COAT HANGER', 'Quantity': 6, 'InvoiceDate': '12/2/2010', 'UnitPrice': 2.75, 'CustomerID': 17850, 'Country': 'United Kingdom'}\n",
      "{'_id': ObjectId('682aacb9f3fe068ca86799f1'), 'InvoiceNo': 536685, 'StockCode': '84406B', 'Description': 'CREAM CUPID HEARTS COAT HANGER', 'Quantity': 6, 'InvoiceDate': '12/2/2010', 'UnitPrice': 2.75, 'CustomerID': 17850, 'Country': 'United Kingdom'}\n",
      "{'_id': ObjectId('682aacb9f3fe068ca8679aac'), 'InvoiceNo': 536752, 'StockCode': '84406B', 'Description': 'CREAM CUPID HEARTS COAT HANGER', 'Quantity': 6, 'InvoiceDate': '12/2/2010', 'UnitPrice': 2.75, 'CustomerID': 17850, 'Country': 'United Kingdom'}\n",
      "{'_id': ObjectId('682aacb9f3fe068ca8679b50'), 'InvoiceNo': 536787, 'StockCode': '84406B', 'Description': 'CREAM CUPID HEARTS COAT HANGER', 'Quantity': 8, 'InvoiceDate': '12/2/2010', 'UnitPrice': 2.75, 'CustomerID': 17850, 'Country': 'United Kingdom'}\n",
      "{'_id': ObjectId('682aacb9f3fe068ca8679b58'), 'InvoiceNo': 536790, 'StockCode': '84406B', 'Description': 'CREAM CUPID HEARTS COAT HANGER', 'Quantity': 12, 'InvoiceDate': '12/2/2010', 'UnitPrice': 2.75, 'CustomerID': 17850, 'Country': 'United Kingdom'}\n",
      "{'_id': ObjectId('682aacb9f3fe068ca867a3ca'), 'InvoiceNo': 537154, 'StockCode': '84406B', 'Description': 'CREAM CUPID HEARTS COAT HANGER', 'Quantity': 8, 'InvoiceDate': '12/5/2010', 'UnitPrice': 3.25, 'CustomerID': 15808, 'Country': 'United Kingdom'}\n",
      "{'_id': ObjectId('682aacb9f3fe068ca867a414'), 'InvoiceNo': 537160, 'StockCode': '84406B', 'Description': 'CREAM CUPID HEARTS COAT HANGER', 'Quantity': 3, 'InvoiceDate': '12/5/2010', 'UnitPrice': 3.25, 'CustomerID': 14161, 'Country': 'United Kingdom'}\n",
      "{'_id': ObjectId('682aacb9f3fe068ca867a458'), 'InvoiceNo': 537193, 'StockCode': '84406B', 'Description': 'CREAM CUPID HEARTS COAT HANGER', 'Quantity': 2, 'InvoiceDate': '12/5/2010', 'UnitPrice': 3.25, 'CustomerID': 15023, 'Country': 'United Kingdom'}\n",
      "{'_id': ObjectId('682aacb9f3fe068ca867a465'), 'InvoiceNo': 537193, 'StockCode': '84406B', 'Description': 'CREAM CUPID HEARTS COAT HANGER', 'Quantity': 1, 'InvoiceDate': '12/5/2010', 'UnitPrice': 3.25, 'CustomerID': 15023, 'Country': 'United Kingdom'}\n",
      "{'_id': ObjectId('682aacb9f3fe068ca867a492'), 'InvoiceNo': 537196, 'StockCode': '84406B', 'Description': 'CREAM CUPID HEARTS COAT HANGER', 'Quantity': 1, 'InvoiceDate': '12/5/2010', 'UnitPrice': 3.25, 'CustomerID': 15426, 'Country': 'United Kingdom'}\n",
      "{'_id': ObjectId('682aacb9f3fe068ca867a5ea'), 'InvoiceNo': 537224, 'StockCode': '84406B', 'Description': 'CREAM CUPID HEARTS COAT HANGER', 'Quantity': 2, 'InvoiceDate': '12/5/2010', 'UnitPrice': 3.25, 'CustomerID': 13174, 'Country': 'United Kingdom'}\n",
      "{'_id': ObjectId('682aacbaf3fe068ca867a955'), 'InvoiceNo': 537262, 'StockCode': '84406B', 'Description': 'CREAM CUPID HEARTS COAT HANGER', 'Quantity': 1, 'InvoiceDate': '12/6/2010', 'UnitPrice': 3.25, 'CustomerID': 15039, 'Country': 'United Kingdom'}\n",
      "{'_id': ObjectId('682aacbaf3fe068ca867abb9'), 'InvoiceNo': 537400, 'StockCode': '84406B', 'Description': 'CREAM CUPID HEARTS COAT HANGER', 'Quantity': 8, 'InvoiceDate': '12/6/2010', 'UnitPrice': 3.25, 'CustomerID': 17191, 'Country': 'United Kingdom'}\n",
      "{'_id': ObjectId('682aacbaf3fe068ca867ac42'), 'InvoiceNo': 537422, 'StockCode': '84406B', 'Description': 'CREAM CUPID HEARTS COAT HANGER', 'Quantity': 1, 'InvoiceDate': '12/6/2010', 'UnitPrice': 3.25, 'CustomerID': 17812, 'Country': 'United Kingdom'}\n",
      "{'_id': ObjectId('682aacbaf3fe068ca867ad7e'), 'InvoiceNo': 537434, 'StockCode': '84406B', 'Description': 'CREAM CUPID HEARTS COAT HANGER', 'Quantity': 1, 'InvoiceDate': '12/6/2010', 'UnitPrice': 6.77, 'Country': 'United Kingdom'}\n",
      "{'_id': ObjectId('682aacbaf3fe068ca867af4d'), 'InvoiceNo': 537614, 'StockCode': '84406B', 'Description': 'CREAM CUPID HEARTS COAT HANGER', 'Quantity': 1, 'InvoiceDate': '12/7/2010', 'UnitPrice': 3.25, 'CustomerID': 16904, 'Country': 'United Kingdom'}\n",
      "{'_id': ObjectId('682aacbaf3fe068ca867b404'), 'InvoiceNo': 537688, 'StockCode': '84406B', 'Description': 'CREAM CUPID HEARTS COAT HANGER', 'Quantity': 32, 'InvoiceDate': '12/8/2010', 'UnitPrice': 2.75, 'CustomerID': 17406, 'Country': 'United Kingdom'}\n",
      "{'_id': ObjectId('682aacbaf3fe068ca867b5de'), 'InvoiceNo': 537795, 'StockCode': '84406B', 'Description': 'CREAM CUPID HEARTS COAT HANGER', 'Quantity': 8, 'InvoiceDate': '12/8/2010', 'UnitPrice': 3.25, 'CustomerID': 17213, 'Country': 'United Kingdom'}\n",
      "{'_id': ObjectId('682aacbaf3fe068ca867b873'), 'InvoiceNo': 'C537860', 'StockCode': '84406B', 'Description': 'CREAM CUPID HEARTS COAT HANGER', 'Quantity': -8, 'InvoiceDate': '12/8/2010', 'UnitPrice': 3.25, 'CustomerID': 16252, 'Country': 'United Kingdom'}\n",
      "{'_id': ObjectId('682aacbaf3fe068ca867cc12'), 'InvoiceNo': 538799, 'StockCode': '84406B', 'Description': 'CREAM CUPID HEARTS COAT HANGER', 'Quantity': 3, 'InvoiceDate': '12/14/2010', 'UnitPrice': 3.25, 'CustomerID': 15039, 'Country': 'United Kingdom'}\n",
      "{'_id': ObjectId('682aacbaf3fe068ca867cf5d'), 'InvoiceNo': 538901, 'StockCode': '84406B', 'Description': 'CREAM CUPID HEARTS COAT HANGER', 'Quantity': 8, 'InvoiceDate': '12/15/2010', 'UnitPrice': 3.25, 'CustomerID': 17629, 'Country': 'United Kingdom'}\n",
      "{'_id': ObjectId('682aacbaf3fe068ca867d4ec'), 'InvoiceNo': 539314, 'StockCode': '84406B', 'Description': 'CREAM CUPID HEARTS COAT HANGER', 'Quantity': 8, 'InvoiceDate': '12/16/2010', 'UnitPrice': 3.25, 'CustomerID': 13874, 'Country': 'United Kingdom'}\n",
      "{'_id': ObjectId('682aacbaf3fe068ca867dd87'), 'InvoiceNo': 'C539565', 'StockCode': '84406B', 'Description': 'CREAM CUPID HEARTS COAT HANGER', 'Quantity': -3, 'InvoiceDate': '12/20/2010', 'UnitPrice': 2.75, 'CustomerID': 14113, 'Country': 'United Kingdom'}\n",
      "{'_id': ObjectId('682aacbaf3fe068ca867e631'), 'InvoiceNo': 540023, 'StockCode': '84406B', 'Description': 'CREAM CUPID HEARTS COAT HANGER', 'Quantity': 2, 'InvoiceDate': '1/4/2011', 'UnitPrice': 3.25, 'CustomerID': 15039, 'Country': 'United Kingdom'}\n",
      "{'_id': ObjectId('682aacbaf3fe068ca867edf6'), 'InvoiceNo': 540364, 'StockCode': '84406B', 'Description': 'CREAM CUPID HEARTS COAT HANGER', 'Quantity': 4, 'InvoiceDate': '1/6/2011', 'UnitPrice': 3.25, 'CustomerID': 14505, 'Country': 'United Kingdom'}\n",
      "{'_id': ObjectId('682aacbaf3fe068ca867f08e'), 'InvoiceNo': 540464, 'StockCode': '84406B', 'Description': 'CREAM CUPID HEARTS COAT HANGER', 'Quantity': 8, 'InvoiceDate': '1/7/2011', 'UnitPrice': 2.75, 'CustomerID': 14298, 'Country': 'United Kingdom'}\n",
      "{'_id': ObjectId('682aacbaf3fe068ca867f2f1'), 'InvoiceNo': 540514, 'StockCode': '84406B', 'Description': 'CREAM CUPID HEARTS COAT HANGER', 'Quantity': 1, 'InvoiceDate': '1/9/2011', 'UnitPrice': 3.25, 'CustomerID': 15708, 'Country': 'United Kingdom'}\n",
      "{'_id': ObjectId('682aacbaf3fe068ca867f3d0'), 'InvoiceNo': 540533, 'StockCode': '84406B', 'Description': 'CREAM CUPID HEARTS COAT HANGER', 'Quantity': 2, 'InvoiceDate': '1/9/2011', 'UnitPrice': 3.25, 'CustomerID': 15005, 'Country': 'United Kingdom'}\n",
      "{'_id': ObjectId('682aacbaf3fe068ca867f5a3'), 'InvoiceNo': 540552, 'StockCode': '84406B', 'Description': 'CREAM CUPID HEARTS COAT HANGER', 'Quantity': 8, 'InvoiceDate': '1/10/2011', 'UnitPrice': 3.25, 'CustomerID': 16350, 'Country': 'United Kingdom'}\n",
      "{'_id': ObjectId('682aacbaf3fe068ca8680304'), 'InvoiceNo': 541215, 'StockCode': '84406B', 'Description': 'CREAM CUPID HEARTS COAT HANGER', 'Quantity': 8, 'InvoiceDate': '1/14/2011', 'UnitPrice': 3.25, 'CustomerID': 14329, 'Country': 'United Kingdom'}\n",
      "{'_id': ObjectId('682aacbaf3fe068ca8680dce'), 'InvoiceNo': 541522, 'StockCode': '84406B', 'Description': 'CREAM CUPID HEARTS COAT HANGER', 'Quantity': 8, 'InvoiceDate': '1/19/2011', 'UnitPrice': 3.25, 'CustomerID': 17419, 'Country': 'United Kingdom'}\n",
      "{'_id': ObjectId('682aacbaf3fe068ca8680e09'), 'InvoiceNo': 541552, 'StockCode': '84406B', 'Description': 'CREAM CUPID HEARTS COAT HANGER', 'Quantity': 2, 'InvoiceDate': '1/19/2011', 'UnitPrice': 3.25, 'CustomerID': 15039, 'Country': 'United Kingdom'}\n",
      "{'_id': ObjectId('682aacbaf3fe068ca8681228'), 'InvoiceNo': 541695, 'StockCode': '84406B', 'Description': 'CREAM CUPID HEARTS COAT HANGER', 'Quantity': 1, 'InvoiceDate': '1/20/2011', 'UnitPrice': 6.63, 'Country': 'United Kingdom'}\n",
      "{'_id': ObjectId('682aacbaf3fe068ca8681754'), 'InvoiceNo': 541849, 'StockCode': '84406B', 'Description': 'CREAM CUPID HEARTS COAT HANGER', 'Quantity': 1, 'InvoiceDate': '1/23/2011', 'UnitPrice': 3.25, 'CustomerID': 13230, 'Country': 'United Kingdom'}\n",
      "{'_id': ObjectId('682aacbaf3fe068ca86819c5'), 'InvoiceNo': 541969, 'StockCode': '84406B', 'Description': 'CREAM CUPID HEARTS COAT HANGER', 'Quantity': 1, 'InvoiceDate': '1/24/2011', 'UnitPrice': 6.63, 'Country': 'United Kingdom'}\n",
      "{'_id': ObjectId('682aacbaf3fe068ca86825c6'), 'InvoiceNo': 542595, 'StockCode': '84406B', 'Description': 'CREAM CUPID HEARTS COAT HANGER', 'Quantity': 1, 'InvoiceDate': '1/30/2011', 'UnitPrice': 3.25, 'CustomerID': 14040, 'Country': 'United Kingdom'}\n",
      "{'_id': ObjectId('682aacbaf3fe068ca8682962'), 'InvoiceNo': 542717, 'StockCode': '84406B', 'Description': 'CREAM CUPID HEARTS COAT HANGER', 'Quantity': 1, 'InvoiceDate': '1/31/2011', 'UnitPrice': 3.25, 'CustomerID': 17580, 'Country': 'United Kingdom'}\n",
      "{'_id': ObjectId('682aacbaf3fe068ca8682ab0'), 'InvoiceNo': 542791, 'StockCode': '84406B', 'Description': 'CREAM CUPID HEARTS COAT HANGER', 'Quantity': 3, 'InvoiceDate': '2/1/2011', 'UnitPrice': 3.25, 'CustomerID': 15039, 'Country': 'United Kingdom'}\n",
      "{'_id': ObjectId('682aacbaf3fe068ca8682c2f'), 'InvoiceNo': 542894, 'StockCode': '84406B', 'Description': 'CREAM CUPID HEARTS COAT HANGER', 'Quantity': 8, 'InvoiceDate': '2/1/2011', 'UnitPrice': 3.25, 'CustomerID': 12775, 'Country': 'Netherlands'}\n",
      "{'_id': ObjectId('682aacbaf3fe068ca8682c31'), 'InvoiceNo': 542895, 'StockCode': '84406B', 'Description': 'CREAM CUPID HEARTS COAT HANGER', 'Quantity': 2, 'InvoiceDate': '2/1/2011', 'UnitPrice': 3.25, 'CustomerID': 14549, 'Country': 'United Kingdom'}\n",
      "{'_id': ObjectId('682aacbaf3fe068ca8682f11'), 'InvoiceNo': 543022, 'StockCode': '84406B', 'Description': 'CREAM CUPID HEARTS COAT HANGER', 'Quantity': 4, 'InvoiceDate': '2/2/2011', 'UnitPrice': 3.25, 'CustomerID': 16771, 'Country': 'United Kingdom'}\n",
      "{'_id': ObjectId('682aacbaf3fe068ca8683110'), 'InvoiceNo': 543114, 'StockCode': '84406B', 'Description': 'CREAM CUPID HEARTS COAT HANGER', 'Quantity': 8, 'InvoiceDate': '2/3/2011', 'UnitPrice': 3.25, 'CustomerID': 14156, 'Country': 'EIRE'}\n",
      "{'_id': ObjectId('682aacbaf3fe068ca86834cf'), 'InvoiceNo': 543282, 'StockCode': '84406B', 'Description': 'CREAM CUPID HEARTS COAT HANGER', 'Quantity': 1, 'InvoiceDate': '2/6/2011', 'UnitPrice': 4.15, 'CustomerID': 12956, 'Country': 'United Kingdom'}\n",
      "{'_id': ObjectId('682aacbaf3fe068ca8683784'), 'InvoiceNo': 543398, 'StockCode': '84406B', 'Description': 'CREAM CUPID HEARTS COAT HANGER', 'Quantity': 4, 'InvoiceDate': '2/8/2011', 'UnitPrice': 4.15, 'CustomerID': 16458, 'Country': 'United Kingdom'}\n",
      "{'_id': ObjectId('682aacbaf3fe068ca86839ad'), 'InvoiceNo': 543482, 'StockCode': '84406B', 'Description': 'CREAM CUPID HEARTS COAT HANGER', 'Quantity': 8, 'InvoiceDate': '2/8/2011', 'UnitPrice': 4.15, 'CustomerID': 17881, 'Country': 'United Kingdom'}\n",
      "{'_id': ObjectId('682aacbbf3fe068ca8683cd9'), 'InvoiceNo': 'C543644', 'StockCode': '84406B', 'Description': 'CREAM CUPID HEARTS COAT HANGER', 'Quantity': -2, 'InvoiceDate': '2/10/2011', 'UnitPrice': 4.15, 'CustomerID': 17609, 'Country': 'United Kingdom'}\n",
      "{'_id': ObjectId('682aacbbf3fe068ca868441d'), 'InvoiceNo': 544074, 'StockCode': '84406B', 'Description': 'CREAM CUPID HEARTS COAT HANGER', 'Quantity': 3, 'InvoiceDate': '2/15/2011', 'UnitPrice': 4.15, 'CustomerID': 14156, 'Country': 'EIRE'}\n",
      "{'_id': ObjectId('682aacbbf3fe068ca86844cb'), 'InvoiceNo': 544089, 'StockCode': '84406B', 'Description': 'CREAM CUPID HEARTS COAT HANGER', 'Quantity': 3, 'InvoiceDate': '2/15/2011', 'UnitPrice': 4.15, 'Country': 'United Kingdom'}\n",
      "{'_id': ObjectId('682aacbbf3fe068ca86848ae'), 'InvoiceNo': 544286, 'StockCode': '84406B', 'Description': 'CREAM CUPID HEARTS COAT HANGER', 'Quantity': 7, 'InvoiceDate': '2/17/2011', 'UnitPrice': 4.15, 'CustomerID': 13151, 'Country': 'United Kingdom'}\n",
      "{'_id': ObjectId('682aacbbf3fe068ca868509b'), 'InvoiceNo': 544599, 'StockCode': '84406B', 'Description': 'CREAM CUPID HEARTS COAT HANGER', 'Quantity': 2, 'InvoiceDate': '2/21/2011', 'UnitPrice': 4.15, 'Country': 'United Kingdom'}\n",
      "{'_id': ObjectId('682aacbbf3fe068ca8685329'), 'InvoiceNo': 544681, 'StockCode': '84406B', 'Description': 'CREAM CUPID HEARTS COAT HANGER', 'Quantity': 4, 'InvoiceDate': '2/22/2011', 'UnitPrice': 4.15, 'Country': 'United Kingdom'}\n",
      "{'_id': ObjectId('682aacbbf3fe068ca8685c54'), 'InvoiceNo': 545060, 'StockCode': '84406B', 'Description': 'CREAM CUPID HEARTS COAT HANGER', 'Quantity': 8, 'InvoiceDate': '2/27/2011', 'UnitPrice': 4.15, 'CustomerID': 15547, 'Country': 'United Kingdom'}\n",
      "{'_id': ObjectId('682aacbbf3fe068ca8685eac'), 'InvoiceNo': 545186, 'StockCode': '84406B', 'Description': 'CREAM CUPID HEARTS COAT HANGER', 'Quantity': 2, 'InvoiceDate': '2/28/2011', 'UnitPrice': 4.15, 'CustomerID': 17841, 'Country': 'United Kingdom'}\n",
      "{'_id': ObjectId('682aacbbf3fe068ca8685f5f'), 'InvoiceNo': 545215, 'StockCode': '84406B', 'Description': 'CREAM CUPID HEARTS COAT HANGER', 'Quantity': 2, 'InvoiceDate': '2/28/2011', 'UnitPrice': 8.29, 'Country': 'United Kingdom'}\n",
      "{'_id': ObjectId('682aacbbf3fe068ca8685fba'), 'InvoiceNo': 545216, 'StockCode': '84406B', 'Description': 'CREAM CUPID HEARTS COAT HANGER', 'Quantity': 1, 'InvoiceDate': '2/28/2011', 'UnitPrice': 8.29, 'Country': 'United Kingdom'}\n",
      "{'_id': ObjectId('682aacbbf3fe068ca86861ac'), 'InvoiceNo': 545308, 'StockCode': '84406B', 'Description': 'CREAM CUPID HEARTS COAT HANGER', 'Quantity': 1, 'InvoiceDate': '3/1/2011', 'UnitPrice': 4.15, 'CustomerID': 14656, 'Country': 'United Kingdom'}\n",
      "{'_id': ObjectId('682aacbbf3fe068ca86862d6'), 'InvoiceNo': 545338, 'StockCode': '84406B', 'Description': 'CREAM CUPID HEARTS COAT HANGER', 'Quantity': 2, 'InvoiceDate': '3/1/2011', 'UnitPrice': 4.15, 'CustomerID': 17449, 'Country': 'United Kingdom'}\n",
      "{'_id': ObjectId('682aacbbf3fe068ca8686e94'), 'InvoiceNo': 545897, 'StockCode': '84406B', 'Description': 'CREAM CUPID HEARTS COAT HANGER', 'Quantity': 1, 'InvoiceDate': '3/7/2011', 'UnitPrice': 8.29, 'Country': 'United Kingdom'}\n",
      "{'_id': ObjectId('682aacbbf3fe068ca86870ea'), 'InvoiceNo': 545999, 'StockCode': '84406B', 'Description': 'CREAM CUPID HEARTS COAT HANGER', 'Quantity': 12, 'InvoiceDate': '3/8/2011', 'UnitPrice': 4.15, 'CustomerID': 13089, 'Country': 'United Kingdom'}\n",
      "{'_id': ObjectId('682aacbbf3fe068ca86872b2'), 'InvoiceNo': 546084, 'StockCode': '84406B', 'Description': 'CREAM CUPID HEARTS COAT HANGER', 'Quantity': 4, 'InvoiceDate': '3/9/2011', 'UnitPrice': 4.15, 'CustomerID': 14112, 'Country': 'United Kingdom'}\n",
      "{'_id': ObjectId('682aacbbf3fe068ca8687414'), 'InvoiceNo': 546127, 'StockCode': '84406B', 'Description': 'CREAM CUPID HEARTS COAT HANGER', 'Quantity': 32, 'InvoiceDate': '3/9/2011', 'UnitPrice': 3.75, 'CustomerID': 17730, 'Country': 'United Kingdom'}\n",
      "{'_id': ObjectId('682aacbbf3fe068ca868778a'), 'InvoiceNo': 546376, 'StockCode': '84406B', 'Description': 'CREAM CUPID HEARTS COAT HANGER', 'Quantity': 4, 'InvoiceDate': '3/11/2011', 'UnitPrice': 4.15, 'CustomerID': 13842, 'Country': 'United Kingdom'}\n",
      "{'_id': ObjectId('682aacbbf3fe068ca8687bd0'), 'InvoiceNo': 546543, 'StockCode': '84406B', 'Description': 'CREAM CUPID HEARTS COAT HANGER', 'Quantity': 1, 'InvoiceDate': '3/14/2011', 'UnitPrice': 4.15, 'CustomerID': 17841, 'Country': 'United Kingdom'}\n",
      "{'_id': ObjectId('682aacbbf3fe068ca8687fa2'), 'InvoiceNo': 546761, 'StockCode': '84406B', 'Description': 'CREAM CUPID HEARTS COAT HANGER', 'Quantity': 16, 'InvoiceDate': '3/16/2011', 'UnitPrice': 4.15, 'CustomerID': 17858, 'Country': 'United Kingdom'}\n",
      "{'_id': ObjectId('682aacbbf3fe068ca8688053'), 'InvoiceNo': 546782, 'StockCode': '84406B', 'Description': 'CREAM CUPID HEARTS COAT HANGER', 'Quantity': 8, 'InvoiceDate': '3/17/2011', 'UnitPrice': 4.15, 'CustomerID': 15291, 'Country': 'United Kingdom'}\n",
      "{'_id': ObjectId('682aacbbf3fe068ca86882dc'), 'InvoiceNo': 546891, 'StockCode': '84406B', 'Description': 'CREAM CUPID HEARTS COAT HANGER', 'Quantity': 1, 'InvoiceDate': '3/17/2011', 'UnitPrice': 8.29, 'Country': 'United Kingdom'}\n",
      "{'_id': ObjectId('682aacbbf3fe068ca86886fe'), 'InvoiceNo': 547028, 'StockCode': '84406B', 'Description': 'CREAM CUPID HEARTS COAT HANGER', 'Quantity': 8, 'InvoiceDate': '3/20/2011', 'UnitPrice': 4.15, 'CustomerID': 13593, 'Country': 'United Kingdom'}\n",
      "{'_id': ObjectId('682aacbbf3fe068ca868874d'), 'InvoiceNo': 547042, 'StockCode': '84406B', 'Description': 'CREAM CUPID HEARTS COAT HANGER', 'Quantity': 1, 'InvoiceDate': '3/20/2011', 'UnitPrice': 8.29, 'Country': 'United Kingdom'}\n",
      "{'_id': ObjectId('682aacbbf3fe068ca86888a4'), 'InvoiceNo': 547063, 'StockCode': '84406B', 'Description': 'CREAM CUPID HEARTS COAT HANGER', 'Quantity': 8, 'InvoiceDate': '3/20/2011', 'UnitPrice': 4.15, 'CustomerID': 14769, 'Country': 'United Kingdom'}\n",
      "{'_id': ObjectId('682aacbbf3fe068ca8688d3e'), 'InvoiceNo': 547273, 'StockCode': '84406B', 'Description': 'CREAM CUPID HEARTS COAT HANGER', 'Quantity': 3, 'InvoiceDate': '3/22/2011', 'UnitPrice': 4.15, 'CustomerID': 14530, 'Country': 'United Kingdom'}\n",
      "{'_id': ObjectId('682aacbbf3fe068ca8688e3b'), 'InvoiceNo': 547365, 'StockCode': '84406B', 'Description': 'CREAM CUPID HEARTS COAT HANGER', 'Quantity': 4, 'InvoiceDate': '3/22/2011', 'UnitPrice': 4.15, 'CustomerID': 12775, 'Country': 'Netherlands'}\n",
      "{'_id': ObjectId('682aacbbf3fe068ca868a741'), 'InvoiceNo': 548516, 'StockCode': '84406B', 'Description': 'CREAM CUPID HEARTS COAT HANGER', 'Quantity': 28, 'InvoiceDate': '3/31/2011', 'UnitPrice': 3.75, 'Country': 'United Kingdom'}\n",
      "{'_id': ObjectId('682aacbbf3fe068ca868a7a8'), 'InvoiceNo': 548522, 'StockCode': '84406B', 'Description': 'CREAM CUPID HEARTS COAT HANGER', 'Quantity': 14, 'InvoiceDate': '3/31/2011', 'UnitPrice': 3.75, 'Country': 'United Kingdom'}\n",
      "{'_id': ObjectId('682aacbbf3fe068ca868a7b6'), 'InvoiceNo': 548531, 'StockCode': '84406B', 'Description': 'CREAM CUPID HEARTS COAT HANGER', 'Quantity': 24, 'InvoiceDate': '3/31/2011', 'UnitPrice': 4.15, 'CustomerID': 14031, 'Country': 'United Kingdom'}\n",
      "{'_id': ObjectId('682aacbbf3fe068ca868ab6f'), 'InvoiceNo': 548714, 'StockCode': '84406B', 'Description': 'CREAM CUPID HEARTS COAT HANGER', 'Quantity': 1, 'InvoiceDate': '4/3/2011', 'UnitPrice': 4.15, 'CustomerID': 17337, 'Country': 'United Kingdom'}\n",
      "{'_id': ObjectId('682aacbbf3fe068ca868b02b'), 'InvoiceNo': 548983, 'StockCode': '84406B', 'Description': 'CREAM CUPID HEARTS COAT HANGER', 'Quantity': 4, 'InvoiceDate': '4/5/2011', 'UnitPrice': 4.15, 'CustomerID': 16906, 'Country': 'United Kingdom'}\n",
      "{'_id': ObjectId('682aacbbf3fe068ca868b1fc'), 'InvoiceNo': 549099, 'StockCode': '84406B', 'Description': 'CREAM CUPID HEARTS COAT HANGER', 'Quantity': 1, 'InvoiceDate': '4/6/2011', 'UnitPrice': 4.15, 'CustomerID': 16241, 'Country': 'United Kingdom'}\n",
      "{'_id': ObjectId('682aacbbf3fe068ca868b2f1'), 'InvoiceNo': 549128, 'StockCode': '84406B', 'Description': 'CREAM CUPID HEARTS COAT HANGER', 'Quantity': 3, 'InvoiceDate': '4/6/2011', 'UnitPrice': 4.15, 'CustomerID': 16713, 'Country': 'United Kingdom'}\n",
      "{'_id': ObjectId('682aacbbf3fe068ca868c275'), 'InvoiceNo': 550001, 'StockCode': '84406B', 'Description': 'CREAM CUPID HEARTS COAT HANGER', 'Quantity': 4, 'InvoiceDate': '4/14/2011', 'UnitPrice': 4.15, 'CustomerID': 17704, 'Country': 'United Kingdom'}\n",
      "{'_id': ObjectId('682aacbbf3fe068ca868c9c1'), 'InvoiceNo': 550332, 'StockCode': '84406B', 'Description': 'CREAM CUPID HEARTS COAT HANGER', 'Quantity': 2, 'InvoiceDate': '4/17/2011', 'UnitPrice': 4.15, 'CustomerID': 13474, 'Country': 'United Kingdom'}\n",
      "{'_id': ObjectId('682aacbbf3fe068ca868cd64'), 'InvoiceNo': 550471, 'StockCode': '84406B', 'Description': 'CREAM CUPID HEARTS COAT HANGER', 'Quantity': 1, 'InvoiceDate': '4/18/2011', 'UnitPrice': 4.15, 'Country': 'United Kingdom'}\n",
      "{'_id': ObjectId('682aacbbf3fe068ca868cffa'), 'InvoiceNo': 550512, 'StockCode': '84406B', 'Description': 'CREAM CUPID HEARTS COAT HANGER', 'Quantity': 1, 'InvoiceDate': '4/18/2011', 'UnitPrice': 4.15, 'CustomerID': 18069, 'Country': 'United Kingdom'}\n",
      "{'_id': ObjectId('682aacbbf3fe068ca868d2c4'), 'InvoiceNo': 550632, 'StockCode': '84406B', 'Description': 'CREAM CUPID HEARTS COAT HANGER', 'Quantity': 2, 'InvoiceDate': '4/19/2011', 'UnitPrice': 4.15, 'CustomerID': 16907, 'Country': 'United Kingdom'}\n",
      "{'_id': ObjectId('682aacbcf3fe068ca868e5ff'), 'InvoiceNo': 551721, 'StockCode': '84406B', 'Description': 'CREAM CUPID HEARTS COAT HANGER', 'Quantity': 2, 'InvoiceDate': '5/3/2011', 'UnitPrice': 4.15, 'CustomerID': 14711, 'Country': 'United Kingdom'}\n",
      "{'_id': ObjectId('682aacbcf3fe068ca868e804'), 'InvoiceNo': 551855, 'StockCode': '84406B', 'Description': 'CREAM CUPID HEARTS COAT HANGER', 'Quantity': 8, 'InvoiceDate': '5/4/2011', 'UnitPrice': 4.15, 'CustomerID': 12836, 'Country': 'United Kingdom'}\n",
      "{'_id': ObjectId('682aacbcf3fe068ca868e907'), 'InvoiceNo': 551956, 'StockCode': '84406B', 'Description': 'CREAM CUPID HEARTS COAT HANGER', 'Quantity': 1, 'InvoiceDate': '5/5/2011', 'UnitPrice': 4.15, 'CustomerID': 15021, 'Country': 'United Kingdom'}\n",
      "{'_id': ObjectId('682aacbcf3fe068ca868f11c'), 'InvoiceNo': 552278, 'StockCode': '84406B', 'Description': 'CREAM CUPID HEARTS COAT HANGER', 'Quantity': 1, 'InvoiceDate': '5/8/2011', 'UnitPrice': 4.15, 'CustomerID': 15059, 'Country': 'United Kingdom'}\n",
      "{'_id': ObjectId('682aacbcf3fe068ca8690bf2'), 'InvoiceNo': 553522, 'StockCode': '84406B', 'Description': 'CREAM CUPID HEARTS COAT HANGER', 'Quantity': 2, 'InvoiceDate': '5/17/2011', 'UnitPrice': 4.15, 'CustomerID': 15005, 'Country': 'United Kingdom'}\n",
      "{'_id': ObjectId('682aacbcf3fe068ca869129d'), 'InvoiceNo': 553859, 'StockCode': '84406B', 'Description': 'CREAM CUPID HEARTS COAT HANGER', 'Quantity': 3, 'InvoiceDate': '5/19/2011', 'UnitPrice': 4.15, 'CustomerID': 14505, 'Country': 'United Kingdom'}\n",
      "{'_id': ObjectId('682aacbcf3fe068ca86915fa'), 'InvoiceNo': 554038, 'StockCode': '84406B', 'Description': 'CREAM CUPID HEARTS COAT HANGER', 'Quantity': 12, 'InvoiceDate': '5/20/2011', 'UnitPrice': 4.15, 'CustomerID': 12775, 'Country': 'Netherlands'}\n",
      "{'_id': ObjectId('682aacbcf3fe068ca8691710'), 'InvoiceNo': 554077, 'StockCode': '84406B', 'Description': 'CREAM CUPID HEARTS COAT HANGER', 'Quantity': 4, 'InvoiceDate': '5/22/2011', 'UnitPrice': 4.15, 'CustomerID': 13972, 'Country': 'United Kingdom'}\n",
      "{'_id': ObjectId('682aacbcf3fe068ca869179c'), 'InvoiceNo': 554089, 'StockCode': '84406B', 'Description': 'CREAM CUPID HEARTS COAT HANGER', 'Quantity': 2, 'InvoiceDate': '5/22/2011', 'UnitPrice': 4.15, 'CustomerID': 13527, 'Country': 'United Kingdom'}\n",
      "{'_id': ObjectId('682aacbcf3fe068ca869243c'), 'InvoiceNo': 554827, 'StockCode': '84406B', 'Description': 'CREAM CUPID HEARTS COAT HANGER', 'Quantity': 128, 'InvoiceDate': '5/26/2011', 'UnitPrice': 3.75, 'CustomerID': 14646, 'Country': 'Netherlands'}\n",
      "{'_id': ObjectId('682aacbcf3fe068ca8692ce4'), 'InvoiceNo': 555276, 'StockCode': '84406B', 'Description': 'CREAM CUPID HEARTS COAT HANGER', 'Quantity': 1, 'InvoiceDate': '6/1/2011', 'UnitPrice': 8.29, 'Country': 'United Kingdom'}\n",
      "{'_id': ObjectId('682aacbcf3fe068ca8693382'), 'InvoiceNo': 555544, 'StockCode': '84406B', 'Description': 'CREAM CUPID HEARTS COAT HANGER', 'Quantity': 4, 'InvoiceDate': '6/5/2011', 'UnitPrice': 4.15, 'CustomerID': 14621, 'Country': 'United Kingdom'}\n",
      "{'_id': ObjectId('682aacbcf3fe068ca8693496'), 'InvoiceNo': 555564, 'StockCode': '84406B', 'Description': 'CREAM CUPID HEARTS COAT HANGER', 'Quantity': 2, 'InvoiceDate': '6/5/2011', 'UnitPrice': 4.15, 'CustomerID': 15005, 'Country': 'United Kingdom'}\n",
      "{'_id': ObjectId('682aacbcf3fe068ca86936d4'), 'InvoiceNo': 555650, 'StockCode': '84406B', 'Description': 'CREAM CUPID HEARTS COAT HANGER', 'Quantity': 4, 'InvoiceDate': '6/6/2011', 'UnitPrice': 4.15, 'CustomerID': 14156, 'Country': 'EIRE'}\n",
      "{'_id': ObjectId('682aacbcf3fe068ca869383c'), 'InvoiceNo': 555743, 'StockCode': '84406B', 'Description': 'CREAM CUPID HEARTS COAT HANGER', 'Quantity': 4, 'InvoiceDate': '6/7/2011', 'UnitPrice': 4.15, 'CustomerID': 12868, 'Country': 'United Kingdom'}\n",
      "{'_id': ObjectId('682aacbcf3fe068ca8694f65'), 'InvoiceNo': 556905, 'StockCode': '84406B', 'Description': 'CREAM CUPID HEARTS COAT HANGER', 'Quantity': 1, 'InvoiceDate': '6/15/2011', 'UnitPrice': 4.15, 'CustomerID': 16904, 'Country': 'United Kingdom'}\n",
      "{'_id': ObjectId('682aacbcf3fe068ca869539e'), 'InvoiceNo': 557112, 'StockCode': '84406B', 'Description': 'CREAM CUPID HEARTS COAT HANGER', 'Quantity': 1, 'InvoiceDate': '6/16/2011', 'UnitPrice': 8.29, 'Country': 'United Kingdom'}\n",
      "{'_id': ObjectId('682aacbcf3fe068ca8695704'), 'InvoiceNo': 557278, 'StockCode': '84406B', 'Description': 'CREAM CUPID HEARTS COAT HANGER', 'Quantity': 10, 'InvoiceDate': '6/19/2011', 'UnitPrice': 4.15, 'CustomerID': 13089, 'Country': 'United Kingdom'}\n",
      "{'_id': ObjectId('682aacbcf3fe068ca869670f'), 'InvoiceNo': 558068, 'StockCode': '84406B', 'Description': 'CREAM CUPID HEARTS COAT HANGER', 'Quantity': 4, 'InvoiceDate': '6/24/2011', 'UnitPrice': 4.15, 'Country': 'United Kingdom'}\n",
      "{'_id': ObjectId('682aacbcf3fe068ca869672b'), 'InvoiceNo': 558075, 'StockCode': '84406B', 'Description': 'CREAM CUPID HEARTS COAT HANGER', 'Quantity': 8, 'InvoiceDate': '6/24/2011', 'UnitPrice': 4.15, 'CustomerID': 17858, 'Country': 'United Kingdom'}\n",
      "{'_id': ObjectId('682aacbdf3fe068ca8697b38'), 'InvoiceNo': 559011, 'StockCode': '84406B', 'Description': 'CREAM CUPID HEARTS COAT HANGER', 'Quantity': 4, 'InvoiceDate': '7/5/2011', 'UnitPrice': 4.15, 'CustomerID': 17049, 'Country': 'United Kingdom'}\n",
      "{'_id': ObjectId('682aacbdf3fe068ca8698cac'), 'InvoiceNo': 559691, 'StockCode': '84406B', 'Description': 'CREAM CUPID HEARTS COAT HANGER', 'Quantity': 32, 'InvoiceDate': '7/11/2011', 'UnitPrice': 3.75, 'CustomerID': 13089, 'Country': 'United Kingdom'}\n",
      "{'_id': ObjectId('682aacbdf3fe068ca869a2f9'), 'InvoiceNo': 560576, 'StockCode': '84406B', 'Description': 'CREAM CUPID HEARTS COAT HANGER', 'Quantity': 3, 'InvoiceDate': '7/19/2011', 'UnitPrice': 4.15, 'CustomerID': 17287, 'Country': 'United Kingdom'}\n",
      "{'_id': ObjectId('682aacbdf3fe068ca869ac98'), 'InvoiceNo': 560996, 'StockCode': '84406B', 'Description': 'CREAM CUPID HEARTS COAT HANGER', 'Quantity': 2, 'InvoiceDate': '7/22/2011', 'UnitPrice': 4.15, 'CustomerID': 17625, 'Country': 'United Kingdom'}\n",
      "{'_id': ObjectId('682aacbdf3fe068ca869ae4f'), 'InvoiceNo': 561043, 'StockCode': '84406B', 'Description': 'CREAM CUPID HEARTS COAT HANGER', 'Quantity': 2, 'InvoiceDate': '7/24/2011', 'UnitPrice': 4.15, 'CustomerID': 15708, 'Country': 'United Kingdom'}\n",
      "{'_id': ObjectId('682aacbdf3fe068ca869af12'), 'InvoiceNo': 561076, 'StockCode': '84406B', 'Description': 'CREAM CUPID HEARTS COAT HANGER', 'Quantity': 12, 'InvoiceDate': '7/24/2011', 'UnitPrice': 4.15, 'CustomerID': 17696, 'Country': 'United Kingdom'}\n",
      "{'_id': ObjectId('682aacbdf3fe068ca869bbfc'), 'InvoiceNo': 561712, 'StockCode': '84406B', 'Description': 'CREAM CUPID HEARTS COAT HANGER', 'Quantity': 1, 'InvoiceDate': '7/29/2011', 'UnitPrice': 4.15, 'CustomerID': 14499, 'Country': 'United Kingdom'}\n",
      "{'_id': ObjectId('682aacbdf3fe068ca869c94f'), 'InvoiceNo': 562369, 'StockCode': '84406B', 'Description': 'CREAM CUPID HEARTS COAT HANGER', 'Quantity': 32, 'InvoiceDate': '8/4/2011', 'UnitPrice': 3.75, 'CustomerID': 17584, 'Country': 'United Kingdom'}\n",
      "{'_id': ObjectId('682aacbdf3fe068ca869cae2'), 'InvoiceNo': 562420, 'StockCode': '84406B', 'Description': 'CREAM CUPID HEARTS COAT HANGER', 'Quantity': 1, 'InvoiceDate': '8/4/2011', 'UnitPrice': 8.29, 'Country': 'United Kingdom'}\n",
      "{'_id': ObjectId('682aacbdf3fe068ca869d03b'), 'InvoiceNo': 562615, 'StockCode': '84406B', 'Description': 'CREAM CUPID HEARTS COAT HANGER', 'Quantity': 4, 'InvoiceDate': '8/8/2011', 'UnitPrice': 4.15, 'CustomerID': 16458, 'Country': 'United Kingdom'}\n",
      "{'_id': ObjectId('682aacbdf3fe068ca869db2a'), 'InvoiceNo': 563094, 'StockCode': '84406B', 'Description': 'CREAM CUPID HEARTS COAT HANGER', 'Quantity': 4, 'InvoiceDate': '8/11/2011', 'UnitPrice': 4.15, 'CustomerID': 14525, 'Country': 'United Kingdom'}\n",
      "{'_id': ObjectId('682aacbdf3fe068ca869dfd4'), 'InvoiceNo': 563352, 'StockCode': '84406B', 'Description': 'CREAM CUPID HEARTS COAT HANGER', 'Quantity': 4, 'InvoiceDate': '8/15/2011', 'UnitPrice': 4.15, 'CustomerID': 15706, 'Country': 'United Kingdom'}\n",
      "{'_id': ObjectId('682aacbdf3fe068ca869f380'), 'InvoiceNo': 564321, 'StockCode': '84406B', 'Description': 'CREAM CUPID HEARTS COAT HANGER', 'Quantity': 1, 'InvoiceDate': '8/24/2011', 'UnitPrice': 4.15, 'CustomerID': 15059, 'Country': 'United Kingdom'}\n",
      "{'_id': ObjectId('682aacbdf3fe068ca869f932'), 'InvoiceNo': 564650, 'StockCode': '84406B', 'Description': 'CREAM CUPID HEARTS COAT HANGER', 'Quantity': 64, 'InvoiceDate': '8/26/2011', 'UnitPrice': 3.75, 'CustomerID': 14646, 'Country': 'Netherlands'}\n",
      "{'_id': ObjectId('682aacbef3fe068ca86a00eb'), 'InvoiceNo': 564837, 'StockCode': '84406B', 'Description': 'CREAM CUPID HEARTS COAT HANGER', 'Quantity': 1, 'InvoiceDate': '8/30/2011', 'UnitPrice': 8.29, 'Country': 'United Kingdom'}\n",
      "{'_id': ObjectId('682aacbef3fe068ca86a0276'), 'InvoiceNo': 564856, 'StockCode': '84406B', 'Description': 'CREAM CUPID HEARTS COAT HANGER', 'Quantity': 32, 'InvoiceDate': '8/31/2011', 'UnitPrice': 3.75, 'CustomerID': 12477, 'Country': 'Germany'}\n",
      "{'_id': ObjectId('682aacbef3fe068ca86a0553'), 'InvoiceNo': 565117, 'StockCode': '84406B', 'Description': 'CREAM CUPID HEARTS COAT HANGER', 'Quantity': 12, 'InvoiceDate': '9/1/2011', 'UnitPrice': 4.15, 'CustomerID': 13089, 'Country': 'United Kingdom'}\n",
      "{'_id': ObjectId('682aacbef3fe068ca86a166e'), 'InvoiceNo': 565850, 'StockCode': '84406B', 'Description': 'CREAM CUPID HEARTS COAT HANGER', 'Quantity': 2, 'InvoiceDate': '9/7/2011', 'UnitPrice': 4.15, 'CustomerID': 14530, 'Country': 'United Kingdom'}\n",
      "{'_id': ObjectId('682aacbef3fe068ca86a33e6'), 'InvoiceNo': 567099, 'StockCode': '84406B', 'Description': 'CREAM CUPID HEARTS COAT HANGER', 'Quantity': 1, 'InvoiceDate': '9/16/2011', 'UnitPrice': 4.15, 'CustomerID': 15311, 'Country': 'United Kingdom'}\n",
      "{'_id': ObjectId('682aacbef3fe068ca86a3f00'), 'InvoiceNo': 567637, 'StockCode': '84406B', 'Description': 'CREAM CUPID HEARTS COAT HANGER', 'Quantity': 8, 'InvoiceDate': '9/21/2011', 'UnitPrice': 4.15, 'CustomerID': 17865, 'Country': 'United Kingdom'}\n",
      "{'_id': ObjectId('682aacbef3fe068ca86a4814'), 'InvoiceNo': 567906, 'StockCode': '84406B', 'Description': 'CREAM CUPID HEARTS COAT HANGER', 'Quantity': 12, 'InvoiceDate': '9/22/2011', 'UnitPrice': 4.15, 'CustomerID': 14113, 'Country': 'United Kingdom'}\n",
      "{'_id': ObjectId('682aacbef3fe068ca86a6069'), 'InvoiceNo': 568897, 'StockCode': '84406B', 'Description': 'CREAM CUPID HEARTS COAT HANGER', 'Quantity': 4, 'InvoiceDate': '9/29/2011', 'UnitPrice': 4.15, 'CustomerID': 13886, 'Country': 'United Kingdom'}\n",
      "{'_id': ObjectId('682aacbef3fe068ca86a6321'), 'InvoiceNo': 569005, 'StockCode': '84406B', 'Description': 'CREAM CUPID HEARTS COAT HANGER', 'Quantity': 4, 'InvoiceDate': '9/29/2011', 'UnitPrice': 4.15, 'CustomerID': 16268, 'Country': 'United Kingdom'}\n",
      "{'_id': ObjectId('682aacbff3fe068ca86a95da'), 'InvoiceNo': 'C570889', 'StockCode': '84406B', 'Description': 'CREAM CUPID HEARTS COAT HANGER', 'Quantity': -4, 'InvoiceDate': '10/13/2011', 'UnitPrice': 4.15, 'CustomerID': 13954, 'Country': 'United Kingdom'}\n",
      "{'_id': ObjectId('682aacbff3fe068ca86ab543'), 'InvoiceNo': 572188, 'StockCode': '84406B', 'Description': 'CREAM CUPID HEARTS COAT HANGER', 'Quantity': 32, 'InvoiceDate': '10/21/2011', 'UnitPrice': 3.75, 'CustomerID': 14967, 'Country': 'United Kingdom'}\n",
      "{'_id': ObjectId('682aacbff3fe068ca86acc31'), 'InvoiceNo': 573116, 'StockCode': '84406B', 'Description': 'CREAM CUPID HEARTS COAT HANGER', 'Quantity': 3, 'InvoiceDate': '10/27/2011', 'UnitPrice': 4.15, 'CustomerID': 14525, 'Country': 'United Kingdom'}\n",
      "{'_id': ObjectId('682aacbff3fe068ca86ad16d'), 'InvoiceNo': 573323, 'StockCode': '84406B', 'Description': 'CREAM CUPID HEARTS COAT HANGER', 'Quantity': 2, 'InvoiceDate': '10/30/2011', 'UnitPrice': 4.15, 'CustomerID': 15708, 'Country': 'United Kingdom'}\n",
      "{'_id': ObjectId('682aacbff3fe068ca86adfa4'), 'InvoiceNo': 573888, 'StockCode': '84406B', 'Description': 'CREAM CUPID HEARTS COAT HANGER', 'Quantity': 4, 'InvoiceDate': '11/1/2011', 'UnitPrice': 4.15, 'CustomerID': 17696, 'Country': 'United Kingdom'}\n",
      "{'_id': ObjectId('682aacbff3fe068ca86ae07f'), 'InvoiceNo': 573904, 'StockCode': '84406B', 'Description': 'CREAM CUPID HEARTS COAT HANGER', 'Quantity': 3, 'InvoiceDate': '11/1/2011', 'UnitPrice': 4.15, 'CustomerID': 14505, 'Country': 'United Kingdom'}\n",
      "{'_id': ObjectId('682aacbff3fe068ca86af6a3'), 'InvoiceNo': 574733, 'StockCode': '84406B', 'Description': 'CREAM CUPID HEARTS COAT HANGER', 'Quantity': 16, 'InvoiceDate': '11/6/2011', 'UnitPrice': 4.15, 'CustomerID': 17082, 'Country': 'United Kingdom'}\n",
      "{'_id': ObjectId('682aacbff3fe068ca86af86e'), 'InvoiceNo': 574839, 'StockCode': '84406B', 'Description': 'CREAM CUPID HEARTS COAT HANGER', 'Quantity': 1, 'InvoiceDate': '11/7/2011', 'UnitPrice': 4.15, 'CustomerID': 15493, 'Country': 'United Kingdom'}\n",
      "{'_id': ObjectId('682aacbff3fe068ca86afe49'), 'InvoiceNo': 575054, 'StockCode': '84406B', 'Description': 'CREAM CUPID HEARTS COAT HANGER', 'Quantity': 4, 'InvoiceDate': '11/8/2011', 'UnitPrice': 4.15, 'CustomerID': 16945, 'Country': 'United Kingdom'}\n",
      "{'_id': ObjectId('682aacbff3fe068ca86b15dd'), 'InvoiceNo': 575918, 'StockCode': '84406B', 'Description': 'CREAM CUPID HEARTS COAT HANGER', 'Quantity': 3, 'InvoiceDate': '11/11/2011', 'UnitPrice': 4.15, 'CustomerID': 17191, 'Country': 'United Kingdom'}\n",
      "{'_id': ObjectId('682aacbff3fe068ca86b1a8e'), 'InvoiceNo': 576019, 'StockCode': '84406B', 'Description': 'CREAM CUPID HEARTS COAT HANGER', 'Quantity': 4, 'InvoiceDate': '11/13/2011', 'UnitPrice': 4.15, 'CustomerID': 12865, 'Country': 'Austria'}\n",
      "{'_id': ObjectId('682aacc0f3fe068ca86b2867'), 'InvoiceNo': 576615, 'StockCode': '84406B', 'Description': 'CREAM CUPID HEARTS COAT HANGER', 'Quantity': 1, 'InvoiceDate': '11/15/2011', 'UnitPrice': 4.15, 'CustomerID': 17231, 'Country': 'United Kingdom'}\n",
      "{'_id': ObjectId('682aacc0f3fe068ca86b3158'), 'InvoiceNo': 576840, 'StockCode': '84406B', 'Description': 'CREAM CUPID HEARTS COAT HANGER', 'Quantity': 1, 'InvoiceDate': '11/16/2011', 'UnitPrice': 8.29, 'Country': 'United Kingdom'}\n",
      "{'_id': ObjectId('682aacc0f3fe068ca86b3400'), 'InvoiceNo': 576926, 'StockCode': '84406B', 'Description': 'CREAM CUPID HEARTS COAT HANGER', 'Quantity': 8, 'InvoiceDate': '11/17/2011', 'UnitPrice': 4.15, 'CustomerID': 14113, 'Country': 'United Kingdom'}\n",
      "{'_id': ObjectId('682aacc0f3fe068ca86b705c'), 'InvoiceNo': 579156, 'StockCode': '84406B', 'Description': 'CREAM CUPID HEARTS COAT HANGER', 'Quantity': 4, 'InvoiceDate': '11/28/2011', 'UnitPrice': 4.15, 'CustomerID': 17419, 'Country': 'United Kingdom'}\n",
      "{'_id': ObjectId('682aacc0f3fe068ca86b7c43'), 'InvoiceNo': 579520, 'StockCode': '84406B', 'Description': 'CREAM CUPID HEARTS COAT HANGER', 'Quantity': 1, 'InvoiceDate': '11/29/2011', 'UnitPrice': 4.15, 'CustomerID': 12748, 'Country': 'United Kingdom'}\n",
      "{'_id': ObjectId('682aacc0f3fe068ca86b7d80'), 'InvoiceNo': 579555, 'StockCode': '84406B', 'Description': 'CREAM CUPID HEARTS COAT HANGER', 'Quantity': 1, 'InvoiceDate': '11/30/2011', 'UnitPrice': 4.15, 'CustomerID': 16241, 'Country': 'United Kingdom'}\n",
      "{'_id': ObjectId('682aacc0f3fe068ca86b8f31'), 'InvoiceNo': 580403, 'StockCode': '84406B', 'Description': 'CREAM CUPID HEARTS COAT HANGER', 'Quantity': 8, 'InvoiceDate': '12/4/2011', 'UnitPrice': 4.15, 'CustomerID': 17858, 'Country': 'United Kingdom'}\n",
      "{'_id': ObjectId('682aacc0f3fe068ca86b9701'), 'InvoiceNo': 580673, 'StockCode': '84406B', 'Description': 'CREAM CUPID HEARTS COAT HANGER', 'Quantity': 16, 'InvoiceDate': '12/5/2011', 'UnitPrice': 4.15, 'CustomerID': 13089, 'Country': 'United Kingdom'}\n"
     ]
    }
   ],
   "source": [
    "query = {'Description': \"CREAM CUPID HEARTS COAT HANGER\"}\n",
    "\n",
    "results = collection.find(query)\n",
    "for doc in results:\n",
    "    print(doc)"
   ]
  },
  {
   "cell_type": "markdown",
   "id": "448377f9",
   "metadata": {},
   "source": [
    "#### Create a dataframe using all the records from the collection"
   ]
  },
  {
   "cell_type": "code",
   "execution_count": 48,
   "id": "f5d0ac64",
   "metadata": {},
   "outputs": [],
   "source": [
    "# Retrieve all records\n",
    "result = collection.find()\n",
    "\n",
    "# Convert the result to a pandas DataFrame\n",
    "df = pd.DataFrame(list(result))"
   ]
  },
  {
   "cell_type": "markdown",
   "id": "d63ec26c",
   "metadata": {},
   "source": [
    "#### Display the first five records of the DataFrame"
   ]
  },
  {
   "cell_type": "code",
   "execution_count": 50,
   "id": "c18fe481",
   "metadata": {},
   "outputs": [
    {
     "name": "stdout",
     "output_type": "stream",
     "text": [
      "                        _id InvoiceNo StockCode  \\\n",
      "0  682aacb9f3fe068ca8679280    536365    85123A   \n",
      "1  682aacb9f3fe068ca8679281    536365    84406B   \n",
      "2  682aacb9f3fe068ca8679282    536365    84029E   \n",
      "3  682aacb9f3fe068ca8679283    536365     21730   \n",
      "4  682aacb9f3fe068ca8679284    536366     22632   \n",
      "\n",
      "                          Description  Quantity InvoiceDate  UnitPrice  \\\n",
      "0  WHITE HANGING HEART T-LIGHT HOLDER         6   12/1/2010       2.55   \n",
      "1      CREAM CUPID HEARTS COAT HANGER         8   12/1/2010       2.75   \n",
      "2      RED WOOLLY HOTTIE WHITE HEART.         6   12/1/2010       3.39   \n",
      "3   GLASS STAR FROSTED T-LIGHT HOLDER         6   12/1/2010       4.25   \n",
      "4           HAND WARMER RED POLKA DOT         6   12/1/2010       1.85   \n",
      "\n",
      "   CustomerID         Country  \n",
      "0     17850.0  United Kingdom  \n",
      "1     17850.0  United Kingdom  \n",
      "2     17850.0  United Kingdom  \n",
      "3     17850.0  United Kingdom  \n",
      "4     17850.0  United Kingdom  \n"
     ]
    }
   ],
   "source": [
    "print(df.head())"
   ]
  },
  {
   "cell_type": "markdown",
   "id": "482aa3b3",
   "metadata": {},
   "source": [
    "#### Display the last five records"
   ]
  },
  {
   "cell_type": "code",
   "execution_count": 54,
   "id": "af2e1733",
   "metadata": {},
   "outputs": [
    {
     "name": "stdout",
     "output_type": "stream",
     "text": [
      "                             _id InvoiceNo StockCode  \\\n",
      "270950  682aacc0f3fe068ca86bb4e6    581587     22730   \n",
      "270951  682aacc0f3fe068ca86bb4e7    581587     22629   \n",
      "270952  682aacc0f3fe068ca86bb4e8    581587     22613   \n",
      "270953  682aacc0f3fe068ca86bb4e9    581587     23254   \n",
      "270954  682aacc0f3fe068ca86bb4ea    581587     22138   \n",
      "\n",
      "                          Description  Quantity InvoiceDate  UnitPrice  \\\n",
      "270950     ALARM CLOCK BAKELIKE IVORY         4   12/9/2011       3.75   \n",
      "270951            SPACEBOY LUNCH BOX         12   12/9/2011       1.95   \n",
      "270952    PACK OF 20 SPACEBOY NAPKINS        12   12/9/2011       0.85   \n",
      "270953  CHILDRENS CUTLERY DOLLY GIRL          4   12/9/2011       4.15   \n",
      "270954  BAKING SET 9 PIECE RETROSPOT          3   12/9/2011       4.95   \n",
      "\n",
      "        CustomerID Country  \n",
      "270950     12680.0  France  \n",
      "270951     12680.0  France  \n",
      "270952     12680.0  France  \n",
      "270953     12680.0  France  \n",
      "270954     12680.0  France  \n"
     ]
    }
   ],
   "source": [
    "print(df.tail())"
   ]
  },
  {
   "cell_type": "markdown",
   "id": "1e2e83ae",
   "metadata": {},
   "source": [
    "#### Display the name of all the columns in the dataframe"
   ]
  },
  {
   "cell_type": "code",
   "execution_count": 58,
   "id": "13ff3cb9",
   "metadata": {},
   "outputs": [
    {
     "name": "stdout",
     "output_type": "stream",
     "text": [
      "Index(['_id', 'InvoiceNo', 'StockCode', 'Description', 'Quantity',\n",
      "       'InvoiceDate', 'UnitPrice', 'CustomerID', 'Country'],\n",
      "      dtype='object')\n"
     ]
    }
   ],
   "source": [
    "print(df.columns)"
   ]
  },
  {
   "cell_type": "markdown",
   "id": "21486f2f",
   "metadata": {},
   "source": [
    "### Using pymongo, complete the followign tasks"
   ]
  },
  {
   "cell_type": "markdown",
   "id": "eaec851a",
   "metadata": {},
   "source": [
    "#### Tasks:\n",
    "\n",
    "#### Retrieve Data:\n",
    "\n",
    "Write queries to retrieve the following information:\n",
    "- Total number of records in the collection.\n",
    "  - total_records = collection.count_documents({})\n",
    "  - print(\"Total number of records:\", total_records)\n",
    "- Details of the first three records in the collection.\n",
    "- Total number of sales made in France.\n",
    "- Total number of sales made in Italy.\n",
    "- Details of sales where the description is \"JUMBO_BAG_BAROQUE_BLACK_WHITE\".\n"
   ]
  },
  {
   "cell_type": "code",
   "execution_count": 60,
   "id": "65f250e5",
   "metadata": {},
   "outputs": [],
   "source": [
    "import pymongo\n",
    "\n",
    "# Connect to MongoDB\n",
    "# Update the port number if needed\n",
    "client = pymongo.MongoClient(\"mongodb://localhost:27017/\")\n",
    "\n",
    "# Select the database\n",
    "db = client[\"retail_db\"]\n",
    "\n",
    "# Select the collection\n",
    "collection = db[\"online_sales\"]\n",
    "\n",
    "# Get the total number of records in the collection\n",
    "# use collection.count_documents\n",
    "\n",
    "# ************Your Code Goes Here  **************\n",
    "\n",
    "\n"
   ]
  },
  {
   "cell_type": "markdown",
   "id": "aaccf00e",
   "metadata": {},
   "source": [
    "#### Display details of the first three records in the collection"
   ]
  },
  {
   "cell_type": "code",
   "execution_count": 62,
   "id": "b3e8bde8",
   "metadata": {},
   "outputs": [
    {
     "name": "stdout",
     "output_type": "stream",
     "text": [
      "{'_id': ObjectId('682aacb9f3fe068ca8679280'), 'InvoiceNo': 536365, 'StockCode': '85123A', 'Description': 'WHITE HANGING HEART T-LIGHT HOLDER', 'Quantity': 6, 'InvoiceDate': '12/1/2010', 'UnitPrice': 2.55, 'CustomerID': 17850, 'Country': 'United Kingdom'}\n",
      "{'_id': ObjectId('682aacb9f3fe068ca8679281'), 'InvoiceNo': 536365, 'StockCode': '84406B', 'Description': 'CREAM CUPID HEARTS COAT HANGER', 'Quantity': 8, 'InvoiceDate': '12/1/2010', 'UnitPrice': 2.75, 'CustomerID': 17850, 'Country': 'United Kingdom'}\n",
      "{'_id': ObjectId('682aacb9f3fe068ca8679282'), 'InvoiceNo': 536365, 'StockCode': '84029E', 'Description': 'RED WOOLLY HOTTIE WHITE HEART.', 'Quantity': 6, 'InvoiceDate': '12/1/2010', 'UnitPrice': 3.39, 'CustomerID': 17850, 'Country': 'United Kingdom'}\n"
     ]
    }
   ],
   "source": [
    "# Retrieve the first three records\n",
    "result = collection.find().limit(3)\n",
    "# Print the records\n",
    "for record in result:\n",
    "    print(record)"
   ]
  },
  {
   "cell_type": "markdown",
   "id": "fbdfefc0",
   "metadata": {},
   "source": [
    "#### Get the total number of sales made in Australia"
   ]
  },
  {
   "cell_type": "code",
   "execution_count": 64,
   "id": "c7047ba6",
   "metadata": {},
   "outputs": [
    {
     "name": "stdout",
     "output_type": "stream",
     "text": [
      "Total number of sales in Australia: 630\n"
     ]
    }
   ],
   "source": [
    "# Total number of sales made in Australia\n",
    "australia_sales = collection.count_documents({\"Country\": \"Australia\"})\n",
    "print(\"Total number of sales in Australia:\", australia_sales)"
   ]
  },
  {
   "cell_type": "markdown",
   "id": "3d4b6f4d",
   "metadata": {},
   "source": [
    "### Search online and explain how \"collection.count_documents\" works"
   ]
  },
  {
   "cell_type": "markdown",
   "id": "3366b677-f765-4528-8a95-6df64e3b46c7",
   "metadata": {},
   "source": [
    "https://www.mongodb.com/zh-cn/docs/manual/reference/method/db.collection.countDocuments/\n",
    "\n",
    "- Method 1: Using count() The total number of documents present in the collection can be retrieved by using count() method. Deprecated in version 3.7.\n",
    "- Method 2: count_documents() Alternatively, you can also use count_documents() function in pymongo to count the number of documents present in the collection.\n",
    "\n",
    "Syntax :\n",
    "\n",
    "db.collection.count_documents({query, option})"
   ]
  },
  {
   "cell_type": "markdown",
   "id": "30284472",
   "metadata": {},
   "source": [
    "#### Get the total number of sales made in France"
   ]
  },
  {
   "cell_type": "code",
   "execution_count": 69,
   "id": "fcff1be3",
   "metadata": {},
   "outputs": [
    {
     "name": "stdout",
     "output_type": "stream",
     "text": [
      "Total sales in France: 4278\n"
     ]
    }
   ],
   "source": [
    "# Total number of sales made in France\n",
    "france_sales = collection.count_documents({\"Country\": \"France\"})\n",
    "print(\"Total sales in France:\", france_sales)"
   ]
  },
  {
   "cell_type": "code",
   "execution_count": 71,
   "id": "179c02a3-8b39-4763-a66b-47b6468d7378",
   "metadata": {},
   "outputs": [
    {
     "name": "stdout",
     "output_type": "stream",
     "text": [
      "Total sales in Italy: 402\n"
     ]
    }
   ],
   "source": [
    "italy_sales = collection.count_documents({\"Country\": \"Italy\"})\n",
    "print(\"Total sales in Italy:\", italy_sales)"
   ]
  },
  {
   "cell_type": "code",
   "execution_count": 73,
   "id": "e5d60794",
   "metadata": {},
   "outputs": [
    {
     "name": "stdout",
     "output_type": "stream",
     "text": [
      "Sales with description 'JUMBO_BAG_BAROQUE_BLACK_WHITE':\n",
      "{'_id': ObjectId('682aacb9f3fe068ca86792d8'), 'InvoiceNo': 536386, 'StockCode': '85099C', 'Description': 'JUMBO  BAG BAROQUE BLACK WHITE', 'Quantity': 100, 'InvoiceDate': '12/1/2010', 'UnitPrice': 1.65, 'CustomerID': 16029, 'Country': 'United Kingdom'}\n",
      "{'_id': ObjectId('682aacb9f3fe068ca86796f0'), 'InvoiceNo': 536571, 'StockCode': '85099C', 'Description': 'JUMBO  BAG BAROQUE BLACK WHITE', 'Quantity': 10, 'InvoiceDate': '12/1/2010', 'UnitPrice': 1.95, 'CustomerID': 14696, 'Country': 'United Kingdom'}\n",
      "{'_id': ObjectId('682aacb9f3fe068ca8679ef5'), 'InvoiceNo': 536938, 'StockCode': '85099C', 'Description': 'JUMBO  BAG BAROQUE BLACK WHITE', 'Quantity': 20, 'InvoiceDate': '12/3/2010', 'UnitPrice': 1.95, 'CustomerID': 14680, 'Country': 'United Kingdom'}\n",
      "{'_id': ObjectId('682aacb9f3fe068ca8679fb0'), 'InvoiceNo': 536976, 'StockCode': '85099C', 'Description': 'JUMBO  BAG BAROQUE BLACK WHITE', 'Quantity': 2, 'InvoiceDate': '12/3/2010', 'UnitPrice': 1.95, 'CustomerID': 14723, 'Country': 'United Kingdom'}\n",
      "{'_id': ObjectId('682aacb9f3fe068ca867a019'), 'InvoiceNo': 536982, 'StockCode': '85099C', 'Description': 'JUMBO  BAG BAROQUE BLACK WHITE', 'Quantity': 31, 'InvoiceDate': '12/3/2010', 'UnitPrice': 4.21, 'Country': 'United Kingdom'}\n",
      "{'_id': ObjectId('682aacbaf3fe068ca867a8a9'), 'InvoiceNo': 537240, 'StockCode': '85099C', 'Description': 'JUMBO  BAG BAROQUE BLACK WHITE', 'Quantity': 2, 'InvoiceDate': '12/6/2010', 'UnitPrice': 4.21, 'Country': 'United Kingdom'}\n",
      "{'_id': ObjectId('682aacbaf3fe068ca867a956'), 'InvoiceNo': 537262, 'StockCode': '85099C', 'Description': 'JUMBO  BAG BAROQUE BLACK WHITE', 'Quantity': 10, 'InvoiceDate': '12/6/2010', 'UnitPrice': 1.95, 'CustomerID': 15039, 'Country': 'United Kingdom'}\n",
      "{'_id': ObjectId('682aacbaf3fe068ca867aba8'), 'InvoiceNo': 537399, 'StockCode': '85099C', 'Description': 'JUMBO  BAG BAROQUE BLACK WHITE', 'Quantity': 2, 'InvoiceDate': '12/6/2010', 'UnitPrice': 1.95, 'CustomerID': 13030, 'Country': 'United Kingdom'}\n",
      "{'_id': ObjectId('682aacbaf3fe068ca867aeb8'), 'InvoiceNo': 537593, 'StockCode': '85099C', 'Description': 'JUMBO  BAG BAROQUE BLACK WHITE', 'Quantity': 40, 'InvoiceDate': '12/7/2010', 'UnitPrice': 1.95, 'CustomerID': 14282, 'Country': 'United Kingdom'}\n",
      "{'_id': ObjectId('682aacbaf3fe068ca867b58a'), 'InvoiceNo': 537781, 'StockCode': '85099C', 'Description': 'JUMBO  BAG BAROQUE BLACK WHITE', 'Quantity': 1, 'InvoiceDate': '12/8/2010', 'UnitPrice': 1.95, 'CustomerID': 17341, 'Country': 'United Kingdom'}\n",
      "{'_id': ObjectId('682aacbaf3fe068ca867ba37'), 'InvoiceNo': 538040, 'StockCode': '85099C', 'Description': 'JUMBO  BAG BAROQUE BLACK WHITE', 'Quantity': 2, 'InvoiceDate': '12/9/2010', 'UnitPrice': 1.95, 'CustomerID': 16520, 'Country': 'United Kingdom'}\n",
      "{'_id': ObjectId('682aacbaf3fe068ca867c32a'), 'InvoiceNo': 'C538350', 'StockCode': '85099C', 'Description': 'JUMBO  BAG BAROQUE BLACK WHITE', 'Quantity': -1, 'InvoiceDate': '12/10/2010', 'UnitPrice': 1.65, 'CustomerID': 13798, 'Country': 'United Kingdom'}\n",
      "{'_id': ObjectId('682aacbaf3fe068ca867c379'), 'InvoiceNo': 538351, 'StockCode': '85099C', 'Description': 'JUMBO  BAG BAROQUE BLACK WHITE', 'Quantity': 22, 'InvoiceDate': '12/10/2010', 'UnitPrice': 4.21, 'Country': 'United Kingdom'}\n",
      "{'_id': ObjectId('682aacbaf3fe068ca867c386'), 'InvoiceNo': 538353, 'StockCode': '85099C', 'Description': 'JUMBO  BAG BAROQUE BLACK WHITE', 'Quantity': 100, 'InvoiceDate': '12/10/2010', 'UnitPrice': 1.65, 'CustomerID': 13798, 'Country': 'United Kingdom'}\n",
      "{'_id': ObjectId('682aacbaf3fe068ca867c52f'), 'InvoiceNo': 538437, 'StockCode': '85099C', 'Description': 'JUMBO  BAG BAROQUE BLACK WHITE', 'Quantity': 2, 'InvoiceDate': '12/12/2010', 'UnitPrice': 1.95, 'CustomerID': 16010, 'Country': 'United Kingdom'}\n",
      "{'_id': ObjectId('682aacbaf3fe068ca867c5f1'), 'InvoiceNo': 538508, 'StockCode': '85099C', 'Description': 'JUMBO  BAG BAROQUE BLACK WHITE', 'Quantity': 1, 'InvoiceDate': '12/12/2010', 'UnitPrice': 1.95, 'CustomerID': 15998, 'Country': 'United Kingdom'}\n",
      "{'_id': ObjectId('682aacbaf3fe068ca867c602'), 'InvoiceNo': 538510, 'StockCode': '85099C', 'Description': 'JUMBO  BAG BAROQUE BLACK WHITE', 'Quantity': 1, 'InvoiceDate': '12/12/2010', 'UnitPrice': 1.95, 'CustomerID': 18004, 'Country': 'United Kingdom'}\n",
      "{'_id': ObjectId('682aacbaf3fe068ca867c60e'), 'InvoiceNo': 538510, 'StockCode': '85099C', 'Description': 'JUMBO  BAG BAROQUE BLACK WHITE', 'Quantity': 2, 'InvoiceDate': '12/12/2010', 'UnitPrice': 1.95, 'CustomerID': 18004, 'Country': 'United Kingdom'}\n",
      "{'_id': ObjectId('682aacbaf3fe068ca867cc08'), 'InvoiceNo': 538799, 'StockCode': '85099C', 'Description': 'JUMBO  BAG BAROQUE BLACK WHITE', 'Quantity': 10, 'InvoiceDate': '12/14/2010', 'UnitPrice': 1.95, 'CustomerID': 15039, 'Country': 'United Kingdom'}\n",
      "{'_id': ObjectId('682aacbaf3fe068ca867cc68'), 'InvoiceNo': 538811, 'StockCode': '85099C', 'Description': 'JUMBO  BAG BAROQUE BLACK WHITE', 'Quantity': 10, 'InvoiceDate': '12/14/2010', 'UnitPrice': 1.95, 'CustomerID': 13178, 'Country': 'United Kingdom'}\n",
      "{'_id': ObjectId('682aacbaf3fe068ca867ce7f'), 'InvoiceNo': 538877, 'StockCode': '85099C', 'Description': 'JUMBO  BAG BAROQUE BLACK WHITE', 'Quantity': 11, 'InvoiceDate': '12/14/2010', 'UnitPrice': 4.21, 'Country': 'United Kingdom'}\n",
      "{'_id': ObjectId('682aacbaf3fe068ca867d174'), 'InvoiceNo': 539049, 'StockCode': '85099C', 'Description': 'JUMBO  BAG BAROQUE BLACK WHITE', 'Quantity': 10, 'InvoiceDate': '12/15/2010', 'UnitPrice': 1.95, 'CustomerID': 15615, 'Country': 'United Kingdom'}\n",
      "{'_id': ObjectId('682aacbaf3fe068ca867d52a'), 'InvoiceNo': 539321, 'StockCode': '85099C', 'Description': 'JUMBO  BAG BAROQUE BLACK WHITE', 'Quantity': 1, 'InvoiceDate': '12/16/2010', 'UnitPrice': 1.95, 'CustomerID': 14723, 'Country': 'United Kingdom'}\n",
      "{'_id': ObjectId('682aacbaf3fe068ca867dace'), 'InvoiceNo': 539453, 'StockCode': '85099C', 'Description': 'JUMBO  BAG BAROQUE BLACK WHITE', 'Quantity': 1, 'InvoiceDate': '12/17/2010', 'UnitPrice': 4.21, 'Country': 'United Kingdom'}\n",
      "{'_id': ObjectId('682aacbaf3fe068ca867dfa2'), 'InvoiceNo': 539647, 'StockCode': '85099C', 'Description': 'JUMBO  BAG BAROQUE BLACK WHITE', 'Quantity': 1, 'InvoiceDate': '12/20/2010', 'UnitPrice': 1.95, 'CustomerID': 15460, 'Country': 'United Kingdom'}\n",
      "{'_id': ObjectId('682aacbaf3fe068ca867e2aa'), 'InvoiceNo': 539750, 'StockCode': '85099C', 'Description': 'JUMBO  BAG BAROQUE BLACK WHITE', 'Quantity': 5, 'InvoiceDate': '12/21/2010', 'UnitPrice': 4.21, 'Country': 'United Kingdom'}\n",
      "{'_id': ObjectId('682aacbaf3fe068ca867e3cb'), 'InvoiceNo': 'C539950', 'StockCode': '85099C', 'Description': 'JUMBO  BAG BAROQUE BLACK WHITE', 'Quantity': -1, 'InvoiceDate': '12/23/2010', 'UnitPrice': 1.95, 'CustomerID': 13534, 'Country': 'United Kingdom'}\n",
      "{'_id': ObjectId('682aacbaf3fe068ca867e51d'), 'InvoiceNo': 539981, 'StockCode': '85099C', 'Description': 'JUMBO  BAG BAROQUE BLACK WHITE', 'Quantity': 10, 'InvoiceDate': '12/23/2010', 'UnitPrice': 1.95, 'CustomerID': 13304, 'Country': 'United Kingdom'}\n",
      "{'_id': ObjectId('682aacbaf3fe068ca867e7c6'), 'InvoiceNo': 540099, 'StockCode': '85099C', 'Description': 'JUMBO  BAG BAROQUE BLACK WHITE', 'Quantity': 20, 'InvoiceDate': '1/4/2011', 'UnitPrice': 1.95, 'CustomerID': 15808, 'Country': 'United Kingdom'}\n",
      "{'_id': ObjectId('682aacbaf3fe068ca867e81d'), 'InvoiceNo': 540149, 'StockCode': '85099C', 'Description': 'JUMBO  BAG BAROQUE BLACK WHITE', 'Quantity': 10, 'InvoiceDate': '1/5/2011', 'UnitPrice': 1.95, 'CustomerID': 12921, 'Country': 'United Kingdom'}\n",
      "{'_id': ObjectId('682aacbaf3fe068ca867e90d'), 'InvoiceNo': 540166, 'StockCode': '85099C', 'Description': 'JUMBO  BAG BAROQUE BLACK WHITE', 'Quantity': 100, 'InvoiceDate': '1/5/2011', 'UnitPrice': 1.65, 'CustomerID': 13629, 'Country': 'United Kingdom'}\n",
      "{'_id': ObjectId('682aacbaf3fe068ca867eab9'), 'InvoiceNo': 540255, 'StockCode': '85099C', 'Description': 'JUMBO  BAG BAROQUE BLACK WHITE', 'Quantity': 1, 'InvoiceDate': '1/5/2011', 'UnitPrice': 4.21, 'Country': 'United Kingdom'}\n",
      "{'_id': ObjectId('682aacbaf3fe068ca867ebbf'), 'InvoiceNo': 540277, 'StockCode': '85099C', 'Description': 'JUMBO  BAG BAROQUE BLACK WHITE', 'Quantity': 100, 'InvoiceDate': '1/6/2011', 'UnitPrice': 1.65, 'CustomerID': 14258, 'Country': 'United Kingdom'}\n",
      "{'_id': ObjectId('682aacbaf3fe068ca867ebdd'), 'InvoiceNo': 540278, 'StockCode': '85099C', 'Description': 'JUMBO  BAG BAROQUE BLACK WHITE', 'Quantity': 1, 'InvoiceDate': '1/6/2011', 'UnitPrice': 1.95, 'CustomerID': 15719, 'Country': 'United Kingdom'}\n",
      "{'_id': ObjectId('682aacbaf3fe068ca867ed3a'), 'InvoiceNo': 540353, 'StockCode': '85099C', 'Description': 'JUMBO  BAG BAROQUE BLACK WHITE', 'Quantity': 4, 'InvoiceDate': '1/6/2011', 'UnitPrice': 1.95, 'CustomerID': 13764, 'Country': 'United Kingdom'}\n",
      "{'_id': ObjectId('682aacbaf3fe068ca867ef3f'), 'InvoiceNo': 'C540417', 'StockCode': '85099C', 'Description': 'JUMBO  BAG BAROQUE BLACK WHITE', 'Quantity': -30, 'InvoiceDate': '1/7/2011', 'UnitPrice': 1.95, 'CustomerID': 13680, 'Country': 'United Kingdom'}\n",
      "{'_id': ObjectId('682aacbaf3fe068ca867f9fd'), 'InvoiceNo': 540821, 'StockCode': '85099C', 'Description': 'JUMBO  BAG BAROQUE BLACK WHITE', 'Quantity': 5, 'InvoiceDate': '1/11/2011', 'UnitPrice': 4.21, 'Country': 'United Kingdom'}\n",
      "{'_id': ObjectId('682aacbaf3fe068ca867fc38'), 'InvoiceNo': 540857, 'StockCode': '85099C', 'Description': 'JUMBO  BAG BAROQUE BLACK WHITE', 'Quantity': 10, 'InvoiceDate': '1/12/2011', 'UnitPrice': 1.95, 'CustomerID': 16779, 'Country': 'United Kingdom'}\n",
      "{'_id': ObjectId('682aacbaf3fe068ca867fdbc'), 'InvoiceNo': 540977, 'StockCode': '85099C', 'Description': 'JUMBO  BAG BAROQUE BLACK WHITE', 'Quantity': 2, 'InvoiceDate': '1/12/2011', 'UnitPrice': 4.21, 'Country': 'United Kingdom'}\n",
      "{'_id': ObjectId('682aacbaf3fe068ca867ffad'), 'InvoiceNo': 541005, 'StockCode': '85099C', 'Description': 'JUMBO  BAG BAROQUE BLACK WHITE', 'Quantity': 5, 'InvoiceDate': '1/13/2011', 'UnitPrice': 1.95, 'CustomerID': 16161, 'Country': 'United Kingdom'}\n",
      "{'_id': ObjectId('682aacbaf3fe068ca867ffb1'), 'InvoiceNo': 541006, 'StockCode': '85099C', 'Description': 'JUMBO  BAG BAROQUE BLACK WHITE', 'Quantity': 10, 'InvoiceDate': '1/13/2011', 'UnitPrice': 1.95, 'CustomerID': 13993, 'Country': 'United Kingdom'}\n",
      "{'_id': ObjectId('682aacbaf3fe068ca86804fb'), 'InvoiceNo': 541256, 'StockCode': '85099C', 'Description': 'JUMBO  BAG BAROQUE BLACK WHITE', 'Quantity': 10, 'InvoiceDate': '1/16/2011', 'UnitPrice': 1.95, 'CustomerID': 13048, 'Country': 'United Kingdom'}\n",
      "{'_id': ObjectId('682aacbaf3fe068ca8680506'), 'InvoiceNo': 541258, 'StockCode': '85099C', 'Description': 'JUMBO  BAG BAROQUE BLACK WHITE', 'Quantity': 4, 'InvoiceDate': '1/16/2011', 'UnitPrice': 1.95, 'CustomerID': 13634, 'Country': 'United Kingdom'}\n",
      "{'_id': ObjectId('682aacbaf3fe068ca868057d'), 'InvoiceNo': 541265, 'StockCode': '85099C', 'Description': 'JUMBO  BAG BAROQUE BLACK WHITE', 'Quantity': 3, 'InvoiceDate': '1/16/2011', 'UnitPrice': 1.95, 'CustomerID': 17609, 'Country': 'United Kingdom'}\n",
      "{'_id': ObjectId('682aacbaf3fe068ca8680633'), 'InvoiceNo': 541279, 'StockCode': '85099C', 'Description': 'JUMBO  BAG BAROQUE BLACK WHITE', 'Quantity': 10, 'InvoiceDate': '1/17/2011', 'UnitPrice': 1.95, 'CustomerID': 18223, 'Country': 'United Kingdom'}\n",
      "{'_id': ObjectId('682aacbaf3fe068ca8680dc2'), 'InvoiceNo': 541520, 'StockCode': '85099C', 'Description': 'JUMBO  BAG BAROQUE BLACK WHITE', 'Quantity': 10, 'InvoiceDate': '1/19/2011', 'UnitPrice': 1.95, 'CustomerID': 12422, 'Country': 'Australia'}\n",
      "{'_id': ObjectId('682aacbaf3fe068ca8680e08'), 'InvoiceNo': 541552, 'StockCode': '85099C', 'Description': 'JUMBO  BAG BAROQUE BLACK WHITE', 'Quantity': 10, 'InvoiceDate': '1/19/2011', 'UnitPrice': 1.95, 'CustomerID': 15039, 'Country': 'United Kingdom'}\n",
      "{'_id': ObjectId('682aacbaf3fe068ca8680e9b'), 'InvoiceNo': 541575, 'StockCode': '85099C', 'Description': 'JUMBO  BAG BAROQUE BLACK WHITE', 'Quantity': 2, 'InvoiceDate': '1/19/2011', 'UnitPrice': 1.95, 'CustomerID': 15311, 'Country': 'United Kingdom'}\n",
      "{'_id': ObjectId('682aacbaf3fe068ca8681309'), 'InvoiceNo': 541696, 'StockCode': '85099C', 'Description': 'JUMBO  BAG BAROQUE BLACK WHITE', 'Quantity': 1, 'InvoiceDate': '1/20/2011', 'UnitPrice': 4.13, 'Country': 'United Kingdom'}\n",
      "{'_id': ObjectId('682aacbaf3fe068ca86814b0'), 'InvoiceNo': 541810, 'StockCode': '85099C', 'Description': 'JUMBO  BAG BAROQUE BLACK WHITE', 'Quantity': 1, 'InvoiceDate': '1/21/2011', 'UnitPrice': 4.13, 'Country': 'United Kingdom'}\n",
      "{'_id': ObjectId('682aacbaf3fe068ca86814f5'), 'InvoiceNo': 541816, 'StockCode': '85099C', 'Description': 'JUMBO  BAG BAROQUE BLACK WHITE', 'Quantity': 6, 'InvoiceDate': '1/21/2011', 'UnitPrice': 1.95, 'CustomerID': 17799, 'Country': 'United Kingdom'}\n",
      "{'_id': ObjectId('682aacbaf3fe068ca8681811'), 'InvoiceNo': 541865, 'StockCode': '85099C', 'Description': 'JUMBO  BAG BAROQUE BLACK WHITE', 'Quantity': 100, 'InvoiceDate': '1/24/2011', 'UnitPrice': 1.65, 'CustomerID': 13068, 'Country': 'United Kingdom'}\n",
      "{'_id': ObjectId('682aacbaf3fe068ca8681907'), 'InvoiceNo': 541879, 'StockCode': '85099C', 'Description': 'JUMBO  BAG BAROQUE BLACK WHITE', 'Quantity': 1, 'InvoiceDate': '1/24/2011', 'UnitPrice': 4.13, 'Country': 'United Kingdom'}\n",
      "{'_id': ObjectId('682aacbaf3fe068ca8681933'), 'InvoiceNo': 541886, 'StockCode': '85099C', 'Description': 'JUMBO  BAG BAROQUE BLACK WHITE', 'Quantity': 20, 'InvoiceDate': '1/24/2011', 'UnitPrice': 1.95, 'CustomerID': 15039, 'Country': 'United Kingdom'}\n",
      "{'_id': ObjectId('682aacbaf3fe068ca8681be4'), 'InvoiceNo': 542005, 'StockCode': '85099C', 'Description': 'JUMBO  BAG BAROQUE BLACK WHITE', 'Quantity': 10, 'InvoiceDate': '1/25/2011', 'UnitPrice': 1.95, 'CustomerID': 14409, 'Country': 'United Kingdom'}\n",
      "{'_id': ObjectId('682aacbaf3fe068ca8681bf5'), 'InvoiceNo': 542006, 'StockCode': '85099C', 'Description': 'JUMBO  BAG BAROQUE BLACK WHITE', 'Quantity': 10, 'InvoiceDate': '1/25/2011', 'UnitPrice': 1.95, 'CustomerID': 15218, 'Country': 'United Kingdom'}\n",
      "{'_id': ObjectId('682aacbaf3fe068ca8682172'), 'InvoiceNo': 542320, 'StockCode': '85099C', 'Description': 'JUMBO  BAG BAROQUE BLACK WHITE', 'Quantity': 20, 'InvoiceDate': '1/27/2011', 'UnitPrice': 1.95, 'CustomerID': 14040, 'Country': 'United Kingdom'}\n",
      "{'_id': ObjectId('682aacbaf3fe068ca86821b2'), 'InvoiceNo': 542344, 'StockCode': '85099C', 'Description': 'JUMBO  BAG BAROQUE BLACK WHITE', 'Quantity': 1, 'InvoiceDate': '1/27/2011', 'UnitPrice': 4.13, 'Country': 'United Kingdom'}\n",
      "{'_id': ObjectId('682aacbaf3fe068ca8682216'), 'InvoiceNo': 542354, 'StockCode': '85099C', 'Description': 'JUMBO  BAG BAROQUE BLACK WHITE', 'Quantity': 10, 'InvoiceDate': '1/27/2011', 'UnitPrice': 1.95, 'CustomerID': 14709, 'Country': 'United Kingdom'}\n",
      "{'_id': ObjectId('682aacbaf3fe068ca86827d8'), 'InvoiceNo': 542625, 'StockCode': '85099C', 'Description': 'JUMBO  BAG BAROQUE BLACK WHITE', 'Quantity': 1, 'InvoiceDate': '1/31/2011', 'UnitPrice': 4.13, 'Country': 'United Kingdom'}\n",
      "{'_id': ObjectId('682aacbaf3fe068ca8682adf'), 'InvoiceNo': 542794, 'StockCode': '85099C', 'Description': 'JUMBO  BAG BAROQUE BLACK WHITE', 'Quantity': 2, 'InvoiceDate': '2/1/2011', 'UnitPrice': 4.13, 'Country': 'United Kingdom'}\n",
      "{'_id': ObjectId('682aacbaf3fe068ca8682c36'), 'InvoiceNo': 542895, 'StockCode': '85099C', 'Description': 'JUMBO  BAG BAROQUE BLACK WHITE', 'Quantity': 4, 'InvoiceDate': '2/1/2011', 'UnitPrice': 1.95, 'CustomerID': 14549, 'Country': 'United Kingdom'}\n",
      "{'_id': ObjectId('682aacbaf3fe068ca8682ce8'), 'InvoiceNo': 542906, 'StockCode': '85099C', 'Description': 'JUMBO  BAG BAROQUE BLACK WHITE', 'Quantity': 1, 'InvoiceDate': '2/1/2011', 'UnitPrice': 4.13, 'Country': 'United Kingdom'}\n",
      "{'_id': ObjectId('682aacbaf3fe068ca8682d25'), 'InvoiceNo': 542914, 'StockCode': '85099C', 'Description': 'JUMBO  BAG BAROQUE BLACK WHITE', 'Quantity': 8, 'InvoiceDate': '2/1/2011', 'UnitPrice': 1.95, 'CustomerID': 16161, 'Country': 'United Kingdom'}\n",
      "{'_id': ObjectId('682aacbaf3fe068ca8682e39'), 'InvoiceNo': 543000, 'StockCode': '85099C', 'Description': 'JUMBO  BAG BAROQUE BLACK WHITE', 'Quantity': 4, 'InvoiceDate': '2/2/2011', 'UnitPrice': 4.13, 'Country': 'United Kingdom'}\n",
      "{'_id': ObjectId('682aacbaf3fe068ca86830e2'), 'InvoiceNo': 543111, 'StockCode': '85099C', 'Description': 'JUMBO  BAG BAROQUE BLACK WHITE', 'Quantity': 3, 'InvoiceDate': '2/3/2011', 'UnitPrice': 1.95, 'CustomerID': 15719, 'Country': 'United Kingdom'}\n",
      "{'_id': ObjectId('682aacbaf3fe068ca8683219'), 'InvoiceNo': 543171, 'StockCode': '85099C', 'Description': 'JUMBO  BAG BAROQUE BLACK WHITE', 'Quantity': 8, 'InvoiceDate': '2/4/2011', 'UnitPrice': 4.13, 'Country': 'United Kingdom'}\n",
      "{'_id': ObjectId('682aacbaf3fe068ca868322e'), 'InvoiceNo': 543172, 'StockCode': '85099C', 'Description': 'JUMBO  BAG BAROQUE BLACK WHITE', 'Quantity': 3, 'InvoiceDate': '2/4/2011', 'UnitPrice': 4.13, 'Country': 'United Kingdom'}\n",
      "{'_id': ObjectId('682aacbaf3fe068ca8683487'), 'InvoiceNo': 543277, 'StockCode': '85099C', 'Description': 'JUMBO  BAG BAROQUE BLACK WHITE', 'Quantity': 10, 'InvoiceDate': '2/6/2011', 'UnitPrice': 1.95, 'CustomerID': 15808, 'Country': 'United Kingdom'}\n",
      "{'_id': ObjectId('682aacbaf3fe068ca8683725'), 'InvoiceNo': 543374, 'StockCode': '85099C', 'Description': 'JUMBO  BAG BAROQUE BLACK WHITE', 'Quantity': 10, 'InvoiceDate': '2/7/2011', 'UnitPrice': 1.95, 'CustomerID': 16945, 'Country': 'United Kingdom'}\n",
      "{'_id': ObjectId('682aacbaf3fe068ca86837c6'), 'InvoiceNo': 543399, 'StockCode': '85099C', 'Description': 'JUMBO  BAG BAROQUE BLACK WHITE', 'Quantity': 1, 'InvoiceDate': '2/8/2011', 'UnitPrice': 4.13, 'Country': 'United Kingdom'}\n",
      "{'_id': ObjectId('682aacbaf3fe068ca868385c'), 'InvoiceNo': 543450, 'StockCode': '85099C', 'Description': 'JUMBO  BAG BAROQUE BLACK WHITE', 'Quantity': 1, 'InvoiceDate': '2/8/2011', 'UnitPrice': 4.13, 'Country': 'United Kingdom'}\n",
      "{'_id': ObjectId('682aacbaf3fe068ca86838b6'), 'InvoiceNo': 543461, 'StockCode': '85099C', 'Description': 'JUMBO  BAG BAROQUE BLACK WHITE', 'Quantity': 4, 'InvoiceDate': '2/8/2011', 'UnitPrice': 4.13, 'Country': 'United Kingdom'}\n",
      "{'_id': ObjectId('682aacbaf3fe068ca8683aa0'), 'InvoiceNo': 543533, 'StockCode': '85099C', 'Description': 'JUMBO  BAG BAROQUE BLACK WHITE', 'Quantity': 7, 'InvoiceDate': '2/9/2011', 'UnitPrice': 4.13, 'Country': 'United Kingdom'}\n",
      "{'_id': ObjectId('682aacbaf3fe068ca8683ac7'), 'InvoiceNo': 543536, 'StockCode': '85099C', 'Description': 'JUMBO  BAG BAROQUE BLACK WHITE', 'Quantity': 5, 'InvoiceDate': '2/9/2011', 'UnitPrice': 1.95, 'Country': 'United Kingdom'}\n",
      "{'_id': ObjectId('682aacbbf3fe068ca8683b8a'), 'InvoiceNo': 543555, 'StockCode': '85099C', 'Description': 'JUMBO  BAG BAROQUE BLACK WHITE', 'Quantity': 10, 'InvoiceDate': '2/10/2011', 'UnitPrice': 1.95, 'CustomerID': 17686, 'Country': 'United Kingdom'}\n",
      "{'_id': ObjectId('682aacbbf3fe068ca86840c3'), 'InvoiceNo': 543831, 'StockCode': '85099C', 'Description': 'JUMBO  BAG BAROQUE BLACK WHITE', 'Quantity': 200, 'InvoiceDate': '2/14/2011', 'UnitPrice': 1.65, 'CustomerID': 15769, 'Country': 'United Kingdom'}\n",
      "{'_id': ObjectId('682aacbbf3fe068ca868419d'), 'InvoiceNo': 543916, 'StockCode': '85099C', 'Description': 'JUMBO  BAG BAROQUE BLACK WHITE', 'Quantity': 6, 'InvoiceDate': '2/14/2011', 'UnitPrice': 1.95, 'Country': 'United Kingdom'}\n",
      "{'_id': ObjectId('682aacbbf3fe068ca8684275'), 'InvoiceNo': 543985, 'StockCode': '85099C', 'Description': 'JUMBO  BAG BAROQUE BLACK WHITE', 'Quantity': 1, 'InvoiceDate': '2/15/2011', 'UnitPrice': 4.13, 'Country': 'United Kingdom'}\n",
      "{'_id': ObjectId('682aacbbf3fe068ca8684366'), 'InvoiceNo': 544051, 'StockCode': '85099C', 'Description': 'JUMBO  BAG BAROQUE BLACK WHITE', 'Quantity': 10, 'InvoiceDate': '2/15/2011', 'UnitPrice': 1.95, 'CustomerID': 16700, 'Country': 'United Kingdom'}\n",
      "{'_id': ObjectId('682aacbbf3fe068ca8684394'), 'InvoiceNo': 544060, 'StockCode': '85099C', 'Description': 'JUMBO  BAG BAROQUE BLACK WHITE', 'Quantity': 1, 'InvoiceDate': '2/15/2011', 'UnitPrice': 1.95, 'CustomerID': 13623, 'Country': 'United Kingdom'}\n",
      "{'_id': ObjectId('682aacbbf3fe068ca86843c3'), 'InvoiceNo': 544067, 'StockCode': '85099C', 'Description': 'JUMBO  BAG BAROQUE BLACK WHITE', 'Quantity': 4, 'InvoiceDate': '2/15/2011', 'UnitPrice': 1.95, 'CustomerID': 16431, 'Country': 'United Kingdom'}\n",
      "{'_id': ObjectId('682aacbbf3fe068ca8684762'), 'InvoiceNo': 544201, 'StockCode': '85099C', 'Description': 'JUMBO  BAG BAROQUE BLACK WHITE', 'Quantity': 5, 'InvoiceDate': '2/17/2011', 'UnitPrice': 4.13, 'Country': 'United Kingdom'}\n",
      "{'_id': ObjectId('682aacbbf3fe068ca868477b'), 'InvoiceNo': 544202, 'StockCode': '85099C', 'Description': 'JUMBO  BAG BAROQUE BLACK WHITE', 'Quantity': 1, 'InvoiceDate': '2/17/2011', 'UnitPrice': 4.13, 'Country': 'United Kingdom'}\n",
      "{'_id': ObjectId('682aacbbf3fe068ca86847a8'), 'InvoiceNo': 544204, 'StockCode': '85099C', 'Description': 'JUMBO  BAG BAROQUE BLACK WHITE', 'Quantity': 1, 'InvoiceDate': '2/17/2011', 'UnitPrice': 4.13, 'Country': 'United Kingdom'}\n",
      "{'_id': ObjectId('682aacbbf3fe068ca86847e4'), 'InvoiceNo': 544206, 'StockCode': '85099C', 'Description': 'JUMBO  BAG BAROQUE BLACK WHITE', 'Quantity': 3, 'InvoiceDate': '2/17/2011', 'UnitPrice': 4.13, 'Country': 'United Kingdom'}\n",
      "{'_id': ObjectId('682aacbbf3fe068ca868480a'), 'InvoiceNo': 544208, 'StockCode': '85099C', 'Description': 'JUMBO  BAG BAROQUE BLACK WHITE', 'Quantity': 2, 'InvoiceDate': '2/17/2011', 'UnitPrice': 4.13, 'Country': 'United Kingdom'}\n",
      "{'_id': ObjectId('682aacbbf3fe068ca8684a45'), 'InvoiceNo': 544323, 'StockCode': '85099C', 'Description': 'JUMBO  BAG BAROQUE BLACK WHITE', 'Quantity': 3, 'InvoiceDate': '2/17/2011', 'UnitPrice': 4.13, 'Country': 'United Kingdom'}\n",
      "{'_id': ObjectId('682aacbbf3fe068ca8684c1e'), 'InvoiceNo': 544434, 'StockCode': '85099C', 'Description': 'JUMBO  BAG BAROQUE BLACK WHITE', 'Quantity': 3, 'InvoiceDate': '2/18/2011', 'UnitPrice': 1.95, 'Country': 'United Kingdom'}\n",
      "{'_id': ObjectId('682aacbbf3fe068ca868511a'), 'InvoiceNo': 544646, 'StockCode': '85099C', 'Description': 'JUMBO  BAG BAROQUE BLACK WHITE', 'Quantity': 2, 'InvoiceDate': '2/22/2011', 'UnitPrice': 1.95, 'CustomerID': 17075, 'Country': 'United Kingdom'}\n",
      "{'_id': ObjectId('682aacbbf3fe068ca86854d7'), 'InvoiceNo': 544772, 'StockCode': '85099C', 'Description': 'JUMBO  BAG BAROQUE BLACK WHITE', 'Quantity': 4, 'InvoiceDate': '2/23/2011', 'UnitPrice': 4.13, 'Country': 'United Kingdom'}\n",
      "{'_id': ObjectId('682aacbbf3fe068ca8685ac1'), 'InvoiceNo': 545024, 'StockCode': '85099C', 'Description': 'JUMBO  BAG BAROQUE BLACK WHITE', 'Quantity': 4, 'InvoiceDate': '2/25/2011', 'UnitPrice': 4.13, 'Country': 'United Kingdom'}\n",
      "{'_id': ObjectId('682aacbbf3fe068ca8685ae5'), 'InvoiceNo': 545025, 'StockCode': '85099C', 'Description': 'JUMBO  BAG BAROQUE BLACK WHITE', 'Quantity': 7, 'InvoiceDate': '2/25/2011', 'UnitPrice': 4.13, 'Country': 'United Kingdom'}\n",
      "{'_id': ObjectId('682aacbbf3fe068ca8685dad'), 'InvoiceNo': 545085, 'StockCode': '85099C', 'Description': 'JUMBO  BAG BAROQUE BLACK WHITE', 'Quantity': 10, 'InvoiceDate': '2/28/2011', 'UnitPrice': 1.95, 'CustomerID': 15039, 'Country': 'United Kingdom'}\n",
      "{'_id': ObjectId('682aacbbf3fe068ca8686209'), 'InvoiceNo': 545317, 'StockCode': '85099C', 'Description': 'JUMBO  BAG BAROQUE BLACK WHITE', 'Quantity': 4, 'InvoiceDate': '3/1/2011', 'UnitPrice': 4.13, 'Country': 'United Kingdom'}\n",
      "{'_id': ObjectId('682aacbbf3fe068ca86863eb'), 'InvoiceNo': 545417, 'StockCode': '85099C', 'Description': 'JUMBO  BAG BAROQUE BLACK WHITE', 'Quantity': 10, 'InvoiceDate': '3/2/2011', 'UnitPrice': 1.95, 'CustomerID': 15622, 'Country': 'United Kingdom'}\n",
      "{'_id': ObjectId('682aacbbf3fe068ca86864b5'), 'InvoiceNo': 545460, 'StockCode': '85099C', 'Description': 'JUMBO  BAG BAROQUE BLACK WHITE', 'Quantity': 2, 'InvoiceDate': '3/2/2011', 'UnitPrice': 1.95, 'CustomerID': 13230, 'Country': 'United Kingdom'}\n",
      "{'_id': ObjectId('682aacbbf3fe068ca86866ae'), 'InvoiceNo': 545559, 'StockCode': '85099C', 'Description': 'JUMBO  BAG BAROQUE BLACK WHITE', 'Quantity': 5, 'InvoiceDate': '3/3/2011', 'UnitPrice': 1.95, 'CustomerID': 15005, 'Country': 'United Kingdom'}\n",
      "{'_id': ObjectId('682aacbbf3fe068ca8686773'), 'InvoiceNo': 545579, 'StockCode': '85099C', 'Description': 'JUMBO  BAG BAROQUE BLACK WHITE', 'Quantity': 10, 'InvoiceDate': '3/4/2011', 'UnitPrice': 1.95, 'CustomerID': 17508, 'Country': 'Greece'}\n",
      "{'_id': ObjectId('682aacbbf3fe068ca868677b'), 'InvoiceNo': 545580, 'StockCode': '85099C', 'Description': 'JUMBO  BAG BAROQUE BLACK WHITE', 'Quantity': 10, 'InvoiceDate': '3/4/2011', 'UnitPrice': 1.95, 'CustomerID': 13931, 'Country': 'United Kingdom'}\n",
      "{'_id': ObjectId('682aacbbf3fe068ca8686817'), 'InvoiceNo': 545602, 'StockCode': '85099C', 'Description': 'JUMBO  BAG BAROQUE BLACK WHITE', 'Quantity': 1, 'InvoiceDate': '3/4/2011', 'UnitPrice': 1.95, 'CustomerID': 17315, 'Country': 'United Kingdom'}\n",
      "{'_id': ObjectId('682aacbbf3fe068ca8686bb7'), 'InvoiceNo': 545714, 'StockCode': '85099C', 'Description': 'JUMBO  BAG BAROQUE BLACK WHITE', 'Quantity': 4, 'InvoiceDate': '3/7/2011', 'UnitPrice': 4.13, 'Country': 'United Kingdom'}\n",
      "{'_id': ObjectId('682aacbbf3fe068ca8686c04'), 'InvoiceNo': 545717, 'StockCode': '85099C', 'Description': 'JUMBO  BAG BAROQUE BLACK WHITE', 'Quantity': 2, 'InvoiceDate': '3/7/2011', 'UnitPrice': 4.13, 'Country': 'United Kingdom'}\n",
      "{'_id': ObjectId('682aacbbf3fe068ca8686c45'), 'InvoiceNo': 545721, 'StockCode': '85099C', 'Description': 'JUMBO  BAG BAROQUE BLACK WHITE', 'Quantity': 10, 'InvoiceDate': '3/7/2011', 'UnitPrice': 1.95, 'CustomerID': 15039, 'Country': 'United Kingdom'}\n",
      "{'_id': ObjectId('682aacbbf3fe068ca8686d80'), 'InvoiceNo': 545872, 'StockCode': '85099C', 'Description': 'JUMBO  BAG BAROQUE BLACK WHITE', 'Quantity': 2, 'InvoiceDate': '3/7/2011', 'UnitPrice': 1.95, 'CustomerID': 15752, 'Country': 'United Kingdom'}\n",
      "{'_id': ObjectId('682aacbbf3fe068ca8686f4b'), 'InvoiceNo': 545908, 'StockCode': '85099C', 'Description': 'JUMBO  BAG BAROQUE BLACK WHITE', 'Quantity': 20, 'InvoiceDate': '3/8/2011', 'UnitPrice': 1.95, 'CustomerID': 14709, 'Country': 'United Kingdom'}\n",
      "{'_id': ObjectId('682aacbbf3fe068ca86873f2'), 'InvoiceNo': 546119, 'StockCode': '85099C', 'Description': 'JUMBO  BAG BAROQUE BLACK WHITE', 'Quantity': 10, 'InvoiceDate': '3/9/2011', 'UnitPrice': 1.95, 'CustomerID': 16945, 'Country': 'United Kingdom'}\n",
      "{'_id': ObjectId('682aacbbf3fe068ca8687643'), 'InvoiceNo': 546261, 'StockCode': '85099C', 'Description': 'JUMBO  BAG BAROQUE BLACK WHITE', 'Quantity': 1, 'InvoiceDate': '3/10/2011', 'UnitPrice': 1.95, 'CustomerID': 17841, 'Country': 'United Kingdom'}\n",
      "{'_id': ObjectId('682aacbbf3fe068ca86878b5'), 'InvoiceNo': 546406, 'StockCode': '85099C', 'Description': 'JUMBO  BAG BAROQUE BLACK WHITE', 'Quantity': 2, 'InvoiceDate': '3/11/2011', 'UnitPrice': 4.13, 'Country': 'United Kingdom'}\n",
      "{'_id': ObjectId('682aacbbf3fe068ca8687d51'), 'InvoiceNo': 546650, 'StockCode': '85099C', 'Description': 'JUMBO  BAG BAROQUE BLACK WHITE', 'Quantity': 2, 'InvoiceDate': '3/15/2011', 'UnitPrice': 4.13, 'Country': 'United Kingdom'}\n",
      "{'_id': ObjectId('682aacbbf3fe068ca8687d87'), 'InvoiceNo': 546652, 'StockCode': '85099C', 'Description': 'JUMBO  BAG BAROQUE BLACK WHITE', 'Quantity': 3, 'InvoiceDate': '3/15/2011', 'UnitPrice': 4.13, 'Country': 'United Kingdom'}\n",
      "{'_id': ObjectId('682aacbbf3fe068ca8687d8f'), 'InvoiceNo': 546653, 'StockCode': '85099C', 'Description': 'JUMBO  BAG BAROQUE BLACK WHITE', 'Quantity': 6, 'InvoiceDate': '3/15/2011', 'UnitPrice': 4.13, 'Country': 'United Kingdom'}\n",
      "{'_id': ObjectId('682aacbbf3fe068ca8687db1'), 'InvoiceNo': 546654, 'StockCode': '85099C', 'Description': 'JUMBO  BAG BAROQUE BLACK WHITE', 'Quantity': 2, 'InvoiceDate': '3/15/2011', 'UnitPrice': 4.13, 'Country': 'United Kingdom'}\n",
      "{'_id': ObjectId('682aacbbf3fe068ca8687dd3'), 'InvoiceNo': 546656, 'StockCode': '85099C', 'Description': 'JUMBO  BAG BAROQUE BLACK WHITE', 'Quantity': 3, 'InvoiceDate': '3/15/2011', 'UnitPrice': 4.13, 'Country': 'United Kingdom'}\n",
      "{'_id': ObjectId('682aacbbf3fe068ca8687eb7'), 'InvoiceNo': 546685, 'StockCode': '85099C', 'Description': 'JUMBO  BAG BAROQUE BLACK WHITE', 'Quantity': 10, 'InvoiceDate': '3/16/2011', 'UnitPrice': 1.95, 'CustomerID': 15687, 'Country': 'United Kingdom'}\n",
      "{'_id': ObjectId('682aacbbf3fe068ca868821f'), 'InvoiceNo': 546884, 'StockCode': '85099C', 'Description': 'JUMBO  BAG BAROQUE BLACK WHITE', 'Quantity': 1, 'InvoiceDate': '3/17/2011', 'UnitPrice': 4.13, 'Country': 'United Kingdom'}\n",
      "{'_id': ObjectId('682aacbbf3fe068ca868871b'), 'InvoiceNo': 547033, 'StockCode': '85099C', 'Description': 'JUMBO  BAG BAROQUE BLACK WHITE', 'Quantity': 20, 'InvoiceDate': '3/20/2011', 'UnitPrice': 1.95, 'CustomerID': 15898, 'Country': 'United Kingdom'}\n",
      "{'_id': ObjectId('682aacbbf3fe068ca8688a22'), 'InvoiceNo': 547100, 'StockCode': '85099C', 'Description': 'JUMBO  BAG BAROQUE BLACK WHITE', 'Quantity': 10, 'InvoiceDate': '3/21/2011', 'UnitPrice': 1.95, 'CustomerID': 15615, 'Country': 'United Kingdom'}\n",
      "{'_id': ObjectId('682aacbbf3fe068ca8688a53'), 'InvoiceNo': 547103, 'StockCode': '85099C', 'Description': 'JUMBO  BAG BAROQUE BLACK WHITE', 'Quantity': 10, 'InvoiceDate': '3/21/2011', 'UnitPrice': 1.95, 'CustomerID': 15218, 'Country': 'United Kingdom'}\n",
      "{'_id': ObjectId('682aacbbf3fe068ca8688c47'), 'InvoiceNo': 547248, 'StockCode': '85099C', 'Description': 'JUMBO  BAG BAROQUE BLACK WHITE', 'Quantity': 4, 'InvoiceDate': '3/22/2011', 'UnitPrice': 4.13, 'Country': 'United Kingdom'}\n",
      "{'_id': ObjectId('682aacbbf3fe068ca8688dee'), 'InvoiceNo': 547359, 'StockCode': '85099C', 'Description': 'JUMBO  BAG BAROQUE BLACK WHITE', 'Quantity': 2, 'InvoiceDate': '3/22/2011', 'UnitPrice': 1.95, 'CustomerID': 15719, 'Country': 'United Kingdom'}\n",
      "{'_id': ObjectId('682aacbbf3fe068ca8688eda'), 'InvoiceNo': 547380, 'StockCode': '85099C', 'Description': 'JUMBO  BAG BAROQUE BLACK WHITE', 'Quantity': 3, 'InvoiceDate': '3/22/2011', 'UnitPrice': 1.95, 'CustomerID': 16809, 'Country': 'United Kingdom'}\n",
      "{'_id': ObjectId('682aacbbf3fe068ca8688f37'), 'InvoiceNo': 547385, 'StockCode': '85099C', 'Description': 'JUMBO  BAG BAROQUE BLACK WHITE', 'Quantity': 2, 'InvoiceDate': '3/22/2011', 'UnitPrice': 4.13, 'Country': 'United Kingdom'}\n",
      "{'_id': ObjectId('682aacbbf3fe068ca8689040'), 'InvoiceNo': 547397, 'StockCode': '85099C', 'Description': 'JUMBO  BAG BAROQUE BLACK WHITE', 'Quantity': 2, 'InvoiceDate': '3/22/2011', 'UnitPrice': 4.13, 'Country': 'United Kingdom'}\n",
      "{'_id': ObjectId('682aacbbf3fe068ca8689065'), 'InvoiceNo': 547399, 'StockCode': '85099C', 'Description': 'JUMBO  BAG BAROQUE BLACK WHITE', 'Quantity': 3, 'InvoiceDate': '3/22/2011', 'UnitPrice': 4.13, 'Country': 'United Kingdom'}\n",
      "{'_id': ObjectId('682aacbbf3fe068ca8689080'), 'InvoiceNo': 547400, 'StockCode': '85099C', 'Description': 'JUMBO  BAG BAROQUE BLACK WHITE', 'Quantity': 4, 'InvoiceDate': '3/22/2011', 'UnitPrice': 4.13, 'Country': 'United Kingdom'}\n",
      "{'_id': ObjectId('682aacbbf3fe068ca868924e'), 'InvoiceNo': 547537, 'StockCode': '85099C', 'Description': 'JUMBO  BAG BAROQUE BLACK WHITE', 'Quantity': 20, 'InvoiceDate': '3/23/2011', 'UnitPrice': 1.95, 'CustomerID': 13534, 'Country': 'United Kingdom'}\n",
      "{'_id': ObjectId('682aacbbf3fe068ca8689256'), 'InvoiceNo': 547538, 'StockCode': '85099C', 'Description': 'JUMBO  BAG BAROQUE BLACK WHITE', 'Quantity': 10, 'InvoiceDate': '3/23/2011', 'UnitPrice': 1.95, 'CustomerID': 13534, 'Country': 'United Kingdom'}\n",
      "{'_id': ObjectId('682aacbbf3fe068ca8689260'), 'InvoiceNo': 547541, 'StockCode': '85099C', 'Description': 'JUMBO  BAG BAROQUE BLACK WHITE', 'Quantity': 100, 'InvoiceDate': '3/23/2011', 'UnitPrice': 1.65, 'CustomerID': 14607, 'Country': 'United Kingdom'}\n",
      "{'_id': ObjectId('682aacbbf3fe068ca868929a'), 'InvoiceNo': 547547, 'StockCode': '85099C', 'Description': 'JUMBO  BAG BAROQUE BLACK WHITE', 'Quantity': 1, 'InvoiceDate': '3/23/2011', 'UnitPrice': 4.13, 'Country': 'United Kingdom'}\n",
      "{'_id': ObjectId('682aacbbf3fe068ca86892e7'), 'InvoiceNo': 547551, 'StockCode': '85099C', 'Description': 'JUMBO  BAG BAROQUE BLACK WHITE', 'Quantity': 3, 'InvoiceDate': '3/23/2011', 'UnitPrice': 4.13, 'Country': 'United Kingdom'}\n",
      "{'_id': ObjectId('682aacbbf3fe068ca8689401'), 'InvoiceNo': 547649, 'StockCode': '85099C', 'Description': 'JUMBO  BAG BAROQUE BLACK WHITE', 'Quantity': 2, 'InvoiceDate': '3/24/2011', 'UnitPrice': 1.95, 'CustomerID': 18118, 'Country': 'United Kingdom'}\n",
      "{'_id': ObjectId('682aacbbf3fe068ca868940b'), 'InvoiceNo': 547650, 'StockCode': '85099C', 'Description': 'JUMBO  BAG BAROQUE BLACK WHITE', 'Quantity': 1, 'InvoiceDate': '3/24/2011', 'UnitPrice': 1.95, 'CustomerID': 17059, 'Country': 'United Kingdom'}\n",
      "{'_id': ObjectId('682aacbbf3fe068ca8689554'), 'InvoiceNo': 547667, 'StockCode': '85099C', 'Description': 'JUMBO  BAG BAROQUE BLACK WHITE', 'Quantity': 20, 'InvoiceDate': '3/24/2011', 'UnitPrice': 1.95, 'CustomerID': 16700, 'Country': 'United Kingdom'}\n",
      "{'_id': ObjectId('682aacbbf3fe068ca8689841'), 'InvoiceNo': 547817, 'StockCode': '85099C', 'Description': 'JUMBO  BAG BAROQUE BLACK WHITE', 'Quantity': 3, 'InvoiceDate': '3/25/2011', 'UnitPrice': 1.95, 'CustomerID': 17946, 'Country': 'United Kingdom'}\n",
      "{'_id': ObjectId('682aacbbf3fe068ca8689847'), 'InvoiceNo': 547818, 'StockCode': '85099C', 'Description': 'JUMBO  BAG BAROQUE BLACK WHITE', 'Quantity': 1, 'InvoiceDate': '3/25/2011', 'UnitPrice': 1.95, 'CustomerID': 12748, 'Country': 'United Kingdom'}\n",
      "{'_id': ObjectId('682aacbbf3fe068ca8689a8e'), 'InvoiceNo': 547884, 'StockCode': '85099C', 'Description': 'JUMBO  BAG BAROQUE BLACK WHITE', 'Quantity': 10, 'InvoiceDate': '3/28/2011', 'UnitPrice': 1.95, 'CustomerID': 13481, 'Country': 'United Kingdom'}\n",
      "{'_id': ObjectId('682aacbbf3fe068ca8689ec4'), 'InvoiceNo': 548157, 'StockCode': '85099C', 'Description': 'JUMBO  BAG BAROQUE BLACK WHITE', 'Quantity': 60, 'InvoiceDate': '3/29/2011', 'UnitPrice': 1.65, 'CustomerID': 14298, 'Country': 'United Kingdom'}\n",
      "{'_id': ObjectId('682aacbbf3fe068ca868a324'), 'InvoiceNo': 548327, 'StockCode': '85099C', 'Description': 'JUMBO  BAG BAROQUE BLACK WHITE', 'Quantity': 2, 'InvoiceDate': '3/30/2011', 'UnitPrice': 2.08, 'CustomerID': 16788, 'Country': 'United Kingdom'}\n",
      "{'_id': ObjectId('682aacbbf3fe068ca868a726'), 'InvoiceNo': 548516, 'StockCode': '85099C', 'Description': 'JUMBO  BAG BAROQUE BLACK WHITE', 'Quantity': 6, 'InvoiceDate': '3/31/2011', 'UnitPrice': 4.13, 'Country': 'United Kingdom'}\n",
      "{'_id': ObjectId('682aacbbf3fe068ca868a7ac'), 'InvoiceNo': 548529, 'StockCode': '85099C', 'Description': 'JUMBO  BAG BAROQUE BLACK WHITE', 'Quantity': 10, 'InvoiceDate': '3/31/2011', 'UnitPrice': 1.95, 'CustomerID': 18223, 'Country': 'United Kingdom'}\n",
      "{'_id': ObjectId('682aacbbf3fe068ca868a7e8'), 'InvoiceNo': 548544, 'StockCode': '85099C', 'Description': 'JUMBO  BAG BAROQUE BLACK WHITE', 'Quantity': 3, 'InvoiceDate': '3/31/2011', 'UnitPrice': 2.08, 'CustomerID': 14525, 'Country': 'United Kingdom'}\n",
      "{'_id': ObjectId('682aacbbf3fe068ca868ad1d'), 'InvoiceNo': 548796, 'StockCode': '85099C', 'Description': 'JUMBO  BAG BAROQUE BLACK WHITE', 'Quantity': 5, 'InvoiceDate': '4/4/2011', 'UnitPrice': 2.08, 'CustomerID': 15752, 'Country': 'United Kingdom'}\n",
      "{'_id': ObjectId('682aacbbf3fe068ca868ae95'), 'InvoiceNo': 548893, 'StockCode': '85099C', 'Description': 'JUMBO  BAG BAROQUE BLACK WHITE', 'Quantity': 1, 'InvoiceDate': '4/4/2011', 'UnitPrice': 4.13, 'Country': 'United Kingdom'}\n",
      "{'_id': ObjectId('682aacbbf3fe068ca868b19c'), 'InvoiceNo': 549044, 'StockCode': '85099C', 'Description': 'JUMBO  BAG BAROQUE BLACK WHITE', 'Quantity': 10, 'InvoiceDate': '4/6/2011', 'UnitPrice': 1.95, 'CustomerID': 16161, 'Country': 'United Kingdom'}\n",
      "{'_id': ObjectId('682aacbbf3fe068ca868b1e2'), 'InvoiceNo': 549059, 'StockCode': '85099C', 'Description': 'JUMBO  BAG BAROQUE BLACK WHITE', 'Quantity': 1, 'InvoiceDate': '4/6/2011', 'UnitPrice': 2.08, 'CustomerID': 15529, 'Country': 'United Kingdom'}\n",
      "{'_id': ObjectId('682aacbbf3fe068ca868b417'), 'InvoiceNo': 549196, 'StockCode': '85099C', 'Description': 'JUMBO  BAG BAROQUE BLACK WHITE', 'Quantity': 10, 'InvoiceDate': '4/7/2011', 'UnitPrice': 2.08, 'CustomerID': 14911, 'Country': 'EIRE'}\n",
      "{'_id': ObjectId('682aacbbf3fe068ca868b80d'), 'InvoiceNo': 549424, 'StockCode': '85099C', 'Description': 'JUMBO  BAG BAROQUE BLACK WHITE', 'Quantity': 10, 'InvoiceDate': '4/8/2011', 'UnitPrice': 1.95, 'CustomerID': 15367, 'Country': 'United Kingdom'}\n",
      "{'_id': ObjectId('682aacbbf3fe068ca868b895'), 'InvoiceNo': 549449, 'StockCode': '85099C', 'Description': 'JUMBO  BAG BAROQUE BLACK WHITE', 'Quantity': 10, 'InvoiceDate': '4/8/2011', 'UnitPrice': 2.08, 'CustomerID': 14227, 'Country': 'United Kingdom'}\n",
      "{'_id': ObjectId('682aacbbf3fe068ca868bda1'), 'InvoiceNo': 549732, 'StockCode': '85099C', 'Description': 'JUMBO  BAG BAROQUE BLACK WHITE', 'Quantity': 10, 'InvoiceDate': '4/11/2011', 'UnitPrice': 2.08, 'CustomerID': 15615, 'Country': 'United Kingdom'}\n",
      "{'_id': ObjectId('682aacbbf3fe068ca868c3c7'), 'InvoiceNo': 550130, 'StockCode': '85099C', 'Description': 'JUMBO  BAG BAROQUE BLACK WHITE', 'Quantity': 1, 'InvoiceDate': '4/14/2011', 'UnitPrice': 2.08, 'CustomerID': 14390, 'Country': 'United Kingdom'}\n",
      "{'_id': ObjectId('682aacbbf3fe068ca868c435'), 'InvoiceNo': 550144, 'StockCode': '85099C', 'Description': 'JUMBO  BAG BAROQUE BLACK WHITE', 'Quantity': 1, 'InvoiceDate': '4/14/2011', 'UnitPrice': 2.08, 'CustomerID': 16520, 'Country': 'United Kingdom'}\n",
      "{'_id': ObjectId('682aacbbf3fe068ca868c4c0'), 'InvoiceNo': 550169, 'StockCode': '85099C', 'Description': 'JUMBO  BAG BAROQUE BLACK WHITE', 'Quantity': 10, 'InvoiceDate': '4/14/2011', 'UnitPrice': 2.08, 'CustomerID': 14482, 'Country': 'United Kingdom'}\n",
      "{'_id': ObjectId('682aacbbf3fe068ca868c620'), 'InvoiceNo': 550206, 'StockCode': '85099C', 'Description': 'JUMBO  BAG BAROQUE BLACK WHITE', 'Quantity': 1, 'InvoiceDate': '4/15/2011', 'UnitPrice': 4.13, 'Country': 'United Kingdom'}\n",
      "{'_id': ObjectId('682aacbbf3fe068ca868c695'), 'InvoiceNo': 550210, 'StockCode': '85099C', 'Description': 'JUMBO  BAG BAROQUE BLACK WHITE', 'Quantity': 2, 'InvoiceDate': '4/15/2011', 'UnitPrice': 4.13, 'Country': 'United Kingdom'}\n",
      "{'_id': ObjectId('682aacbbf3fe068ca868c82d'), 'InvoiceNo': 550298, 'StockCode': '85099C', 'Description': 'JUMBO  BAG BAROQUE BLACK WHITE', 'Quantity': 6, 'InvoiceDate': '4/15/2011', 'UnitPrice': 2.08, 'CustomerID': 17346, 'Country': 'United Kingdom'}\n",
      "{'_id': ObjectId('682aacbbf3fe068ca868cb4a'), 'InvoiceNo': 550457, 'StockCode': '85099C', 'Description': 'JUMBO  BAG BAROQUE BLACK WHITE', 'Quantity': 100, 'InvoiceDate': '4/18/2011', 'UnitPrice': 1.79, 'CustomerID': 13798, 'Country': 'United Kingdom'}\n",
      "{'_id': ObjectId('682aacbbf3fe068ca868cfa5'), 'InvoiceNo': 550500, 'StockCode': '85099C', 'Description': 'JUMBO  BAG BAROQUE BLACK WHITE', 'Quantity': 1, 'InvoiceDate': '4/18/2011', 'UnitPrice': 4.13, 'Country': 'United Kingdom'}\n",
      "{'_id': ObjectId('682aacbbf3fe068ca868d152'), 'InvoiceNo': 550541, 'StockCode': '85099C', 'Description': 'JUMBO  BAG BAROQUE BLACK WHITE', 'Quantity': 3, 'InvoiceDate': '4/19/2011', 'UnitPrice': 4.13, 'Country': 'United Kingdom'}\n",
      "{'_id': ObjectId('682aacbcf3fe068ca868da11'), 'InvoiceNo': 551003, 'StockCode': '85099C', 'Description': 'JUMBO  BAG BAROQUE BLACK WHITE', 'Quantity': 20, 'InvoiceDate': '4/26/2011', 'UnitPrice': 2.08, 'CustomerID': 16456, 'Country': 'United Kingdom'}\n",
      "{'_id': ObjectId('682aacbcf3fe068ca868da4f'), 'InvoiceNo': 551005, 'StockCode': '85099C', 'Description': 'JUMBO  BAG BAROQUE BLACK WHITE', 'Quantity': 2, 'InvoiceDate': '4/26/2011', 'UnitPrice': 4.13, 'Country': 'United Kingdom'}\n",
      "{'_id': ObjectId('682aacbcf3fe068ca868da65'), 'InvoiceNo': 551006, 'StockCode': '85099C', 'Description': 'JUMBO  BAG BAROQUE BLACK WHITE', 'Quantity': 5, 'InvoiceDate': '4/26/2011', 'UnitPrice': 4.13, 'Country': 'United Kingdom'}\n",
      "{'_id': ObjectId('682aacbcf3fe068ca868daab'), 'InvoiceNo': 551009, 'StockCode': '85099C', 'Description': 'JUMBO  BAG BAROQUE BLACK WHITE', 'Quantity': 6, 'InvoiceDate': '4/26/2011', 'UnitPrice': 4.13, 'Country': 'United Kingdom'}\n",
      "{'_id': ObjectId('682aacbcf3fe068ca868daba'), 'InvoiceNo': 551010, 'StockCode': '85099C', 'Description': 'JUMBO  BAG BAROQUE BLACK WHITE', 'Quantity': 2, 'InvoiceDate': '4/26/2011', 'UnitPrice': 4.13, 'Country': 'United Kingdom'}\n",
      "{'_id': ObjectId('682aacbcf3fe068ca868db88'), 'InvoiceNo': 551056, 'StockCode': '85099C', 'Description': 'JUMBO  BAG BAROQUE BLACK WHITE', 'Quantity': 1, 'InvoiceDate': '4/26/2011', 'UnitPrice': 2.08, 'CustomerID': 16442, 'Country': 'United Kingdom'}\n",
      "{'_id': ObjectId('682aacbcf3fe068ca868dba6'), 'InvoiceNo': 551057, 'StockCode': '85099C', 'Description': 'JUMBO  BAG BAROQUE BLACK WHITE', 'Quantity': 2, 'InvoiceDate': '4/26/2011', 'UnitPrice': 2.08, 'CustomerID': 16942, 'Country': 'United Kingdom'}\n",
      "{'_id': ObjectId('682aacbcf3fe068ca868dc8b'), 'InvoiceNo': 551152, 'StockCode': '85099C', 'Description': 'JUMBO  BAG BAROQUE BLACK WHITE', 'Quantity': 2, 'InvoiceDate': '4/26/2011', 'UnitPrice': 2.08, 'CustomerID': 13230, 'Country': 'United Kingdom'}\n",
      "{'_id': ObjectId('682aacbcf3fe068ca868dd7b'), 'InvoiceNo': 551174, 'StockCode': '85099C', 'Description': 'JUMBO  BAG BAROQUE BLACK WHITE', 'Quantity': 2, 'InvoiceDate': '4/26/2011', 'UnitPrice': 4.13, 'Country': 'United Kingdom'}\n",
      "{'_id': ObjectId('682aacbcf3fe068ca868dda2'), 'InvoiceNo': 551189, 'StockCode': '85099C', 'Description': 'JUMBO  BAG BAROQUE BLACK WHITE', 'Quantity': 200, 'InvoiceDate': '4/27/2011', 'UnitPrice': 1.74, 'CustomerID': 16029, 'Country': 'United Kingdom'}\n",
      "{'_id': ObjectId('682aacbcf3fe068ca868dfd7'), 'InvoiceNo': 551339, 'StockCode': '85099C', 'Description': 'JUMBO  BAG BAROQUE BLACK WHITE', 'Quantity': 1, 'InvoiceDate': '4/27/2011', 'UnitPrice': 4.13, 'Country': 'United Kingdom'}\n",
      "{'_id': ObjectId('682aacbcf3fe068ca868e148'), 'InvoiceNo': 551414, 'StockCode': '85099C', 'Description': 'JUMBO  BAG BAROQUE BLACK WHITE', 'Quantity': 10, 'InvoiceDate': '4/28/2011', 'UnitPrice': 2.08, 'CustomerID': 15622, 'Country': 'United Kingdom'}\n",
      "{'_id': ObjectId('682aacbcf3fe068ca868e3d6'), 'InvoiceNo': 551558, 'StockCode': '85099C', 'Description': 'JUMBO  BAG BAROQUE BLACK WHITE', 'Quantity': 2, 'InvoiceDate': '5/3/2011', 'UnitPrice': 2.08, 'CustomerID': 17841, 'Country': 'United Kingdom'}\n",
      "{'_id': ObjectId('682aacbcf3fe068ca868e6fa'), 'InvoiceNo': 551810, 'StockCode': '85099C', 'Description': 'JUMBO  BAG BAROQUE BLACK WHITE', 'Quantity': 2, 'InvoiceDate': '5/4/2011', 'UnitPrice': 2.08, 'CustomerID': 15719, 'Country': 'United Kingdom'}\n",
      "{'_id': ObjectId('682aacbcf3fe068ca868e75e'), 'InvoiceNo': 551821, 'StockCode': '85099C', 'Description': 'JUMBO  BAG BAROQUE BLACK WHITE', 'Quantity': 5, 'InvoiceDate': '5/4/2011', 'UnitPrice': 2.08, 'CustomerID': 16942, 'Country': 'United Kingdom'}\n",
      "{'_id': ObjectId('682aacbcf3fe068ca868e7ff'), 'InvoiceNo': 551855, 'StockCode': '85099C', 'Description': 'JUMBO  BAG BAROQUE BLACK WHITE', 'Quantity': 3, 'InvoiceDate': '5/4/2011', 'UnitPrice': 2.08, 'CustomerID': 12836, 'Country': 'United Kingdom'}\n",
      "{'_id': ObjectId('682aacbcf3fe068ca868ea7b'), 'InvoiceNo': 551995, 'StockCode': '85099C', 'Description': 'JUMBO  BAG BAROQUE BLACK WHITE', 'Quantity': 6, 'InvoiceDate': '5/5/2011', 'UnitPrice': 2.08, 'Country': 'United Kingdom'}\n",
      "{'_id': ObjectId('682aacbcf3fe068ca868ed02'), 'InvoiceNo': 552061, 'StockCode': '85099C', 'Description': 'JUMBO  BAG BAROQUE BLACK WHITE', 'Quantity': 10, 'InvoiceDate': '5/6/2011', 'UnitPrice': 2.08, 'CustomerID': 13001, 'Country': 'United Kingdom'}\n",
      "{'_id': ObjectId('682aacbcf3fe068ca868ed26'), 'InvoiceNo': 552078, 'StockCode': '85099C', 'Description': 'JUMBO  BAG BAROQUE BLACK WHITE', 'Quantity': 10, 'InvoiceDate': '5/6/2011', 'UnitPrice': 2.08, 'CustomerID': 16748, 'Country': 'United Kingdom'}\n",
      "{'_id': ObjectId('682aacbcf3fe068ca868ef37'), 'InvoiceNo': 552232, 'StockCode': '85099C', 'Description': 'JUMBO  BAG BAROQUE BLACK WHITE', 'Quantity': 2, 'InvoiceDate': '5/6/2011', 'UnitPrice': 4.13, 'Country': 'United Kingdom'}\n",
      "{'_id': ObjectId('682aacbcf3fe068ca868f0e4'), 'InvoiceNo': 552274, 'StockCode': '85099C', 'Description': 'JUMBO  BAG BAROQUE BLACK WHITE', 'Quantity': 20, 'InvoiceDate': '5/8/2011', 'UnitPrice': 2.08, 'CustomerID': 16523, 'Country': 'United Kingdom'}\n",
      "{'_id': ObjectId('682aacbcf3fe068ca868f1c4'), 'InvoiceNo': 552290, 'StockCode': '85099C', 'Description': 'JUMBO  BAG BAROQUE BLACK WHITE', 'Quantity': 1, 'InvoiceDate': '5/8/2011', 'UnitPrice': 2.08, 'CustomerID': 16007, 'Country': 'United Kingdom'}\n",
      "{'_id': ObjectId('682aacbcf3fe068ca868f2c7'), 'InvoiceNo': 552315, 'StockCode': '85099C', 'Description': 'JUMBO  BAG BAROQUE BLACK WHITE', 'Quantity': 10, 'InvoiceDate': '5/8/2011', 'UnitPrice': 2.08, 'CustomerID': 12700, 'Country': 'France'}\n",
      "{'_id': ObjectId('682aacbcf3fe068ca868f539'), 'InvoiceNo': 552493, 'StockCode': '85099C', 'Description': 'JUMBO  BAG BAROQUE BLACK WHITE', 'Quantity': 1, 'InvoiceDate': '5/9/2011', 'UnitPrice': 4.13, 'Country': 'United Kingdom'}\n",
      "{'_id': ObjectId('682aacbcf3fe068ca868f603'), 'InvoiceNo': 552514, 'StockCode': '85099C', 'Description': 'JUMBO  BAG BAROQUE BLACK WHITE', 'Quantity': 7, 'InvoiceDate': '5/9/2011', 'UnitPrice': 2.08, 'Country': 'United Kingdom'}\n",
      "{'_id': ObjectId('682aacbcf3fe068ca868f8e2'), 'InvoiceNo': 552660, 'StockCode': '85099C', 'Description': 'JUMBO  BAG BAROQUE BLACK WHITE', 'Quantity': 3, 'InvoiceDate': '5/10/2011', 'UnitPrice': 4.13, 'Country': 'United Kingdom'}\n",
      "{'_id': ObjectId('682aacbcf3fe068ca868f93f'), 'InvoiceNo': 552666, 'StockCode': '85099C', 'Description': 'JUMBO  BAG BAROQUE BLACK WHITE', 'Quantity': 3, 'InvoiceDate': '5/10/2011', 'UnitPrice': 4.13, 'Country': 'United Kingdom'}\n",
      "{'_id': ObjectId('682aacbcf3fe068ca868f98b'), 'InvoiceNo': 552670, 'StockCode': '85099C', 'Description': 'JUMBO  BAG BAROQUE BLACK WHITE', 'Quantity': 1, 'InvoiceDate': '5/10/2011', 'UnitPrice': 4.13, 'Country': 'United Kingdom'}\n",
      "{'_id': ObjectId('682aacbcf3fe068ca868f9a4'), 'InvoiceNo': 552671, 'StockCode': '85099C', 'Description': 'JUMBO  BAG BAROQUE BLACK WHITE', 'Quantity': 6, 'InvoiceDate': '5/10/2011', 'UnitPrice': 4.13, 'Country': 'United Kingdom'}\n",
      "{'_id': ObjectId('682aacbcf3fe068ca868f9da'), 'InvoiceNo': 552673, 'StockCode': '85099C', 'Description': 'JUMBO  BAG BAROQUE BLACK WHITE', 'Quantity': 1, 'InvoiceDate': '5/10/2011', 'UnitPrice': 4.13, 'Country': 'United Kingdom'}\n",
      "{'_id': ObjectId('682aacbcf3fe068ca868fa0b'), 'InvoiceNo': 552675, 'StockCode': '85099C', 'Description': 'JUMBO  BAG BAROQUE BLACK WHITE', 'Quantity': 1, 'InvoiceDate': '5/10/2011', 'UnitPrice': 4.13, 'Country': 'United Kingdom'}\n",
      "{'_id': ObjectId('682aacbcf3fe068ca868fa42'), 'InvoiceNo': 552677, 'StockCode': '85099C', 'Description': 'JUMBO  BAG BAROQUE BLACK WHITE', 'Quantity': 2, 'InvoiceDate': '5/10/2011', 'UnitPrice': 4.13, 'Country': 'United Kingdom'}\n",
      "{'_id': ObjectId('682aacbcf3fe068ca868fa89'), 'InvoiceNo': 552683, 'StockCode': '85099C', 'Description': 'JUMBO  BAG BAROQUE BLACK WHITE', 'Quantity': 1, 'InvoiceDate': '5/10/2011', 'UnitPrice': 4.13, 'Country': 'United Kingdom'}\n",
      "{'_id': ObjectId('682aacbcf3fe068ca868fa9a'), 'InvoiceNo': 552684, 'StockCode': '85099C', 'Description': 'JUMBO  BAG BAROQUE BLACK WHITE', 'Quantity': 2, 'InvoiceDate': '5/10/2011', 'UnitPrice': 4.13, 'Country': 'United Kingdom'}\n",
      "{'_id': ObjectId('682aacbcf3fe068ca868fac2'), 'InvoiceNo': 552687, 'StockCode': '85099C', 'Description': 'JUMBO  BAG BAROQUE BLACK WHITE', 'Quantity': 7, 'InvoiceDate': '5/10/2011', 'UnitPrice': 4.13, 'Country': 'United Kingdom'}\n",
      "{'_id': ObjectId('682aacbcf3fe068ca868fcfe'), 'InvoiceNo': 552821, 'StockCode': '85099C', 'Description': 'JUMBO  BAG BAROQUE BLACK WHITE', 'Quantity': 3, 'InvoiceDate': '5/11/2011', 'UnitPrice': 2.08, 'CustomerID': 18118, 'Country': 'United Kingdom'}\n",
      "{'_id': ObjectId('682aacbcf3fe068ca869033e'), 'InvoiceNo': 553061, 'StockCode': '85099C', 'Description': 'JUMBO  BAG BAROQUE BLACK WHITE', 'Quantity': 2, 'InvoiceDate': '5/13/2011', 'UnitPrice': 2.08, 'CustomerID': 17238, 'Country': 'United Kingdom'}\n",
      "{'_id': ObjectId('682aacbcf3fe068ca8690373'), 'InvoiceNo': 553074, 'StockCode': '85099C', 'Description': 'JUMBO  BAG BAROQUE BLACK WHITE', 'Quantity': 1, 'InvoiceDate': '5/13/2011', 'UnitPrice': 2.08, 'CustomerID': 15529, 'Country': 'United Kingdom'}\n",
      "{'_id': ObjectId('682aacbcf3fe068ca869083b'), 'InvoiceNo': 553351, 'StockCode': '85099C', 'Description': 'JUMBO  BAG BAROQUE BLACK WHITE', 'Quantity': 1, 'InvoiceDate': '5/16/2011', 'UnitPrice': 2.08, 'CustomerID': 18118, 'Country': 'United Kingdom'}\n",
      "{'_id': ObjectId('682aacbcf3fe068ca8690850'), 'InvoiceNo': 553356, 'StockCode': '85099C', 'Description': 'JUMBO  BAG BAROQUE BLACK WHITE', 'Quantity': 10, 'InvoiceDate': '5/16/2011', 'UnitPrice': 2.08, 'CustomerID': 14038, 'Country': 'United Kingdom'}\n",
      "{'_id': ObjectId('682aacbcf3fe068ca869094d'), 'InvoiceNo': 553387, 'StockCode': '85099C', 'Description': 'JUMBO  BAG BAROQUE BLACK WHITE', 'Quantity': 3, 'InvoiceDate': '5/16/2011', 'UnitPrice': 4.13, 'Country': 'United Kingdom'}\n",
      "{'_id': ObjectId('682aacbcf3fe068ca8690bec'), 'InvoiceNo': 553522, 'StockCode': '85099C', 'Description': 'JUMBO  BAG BAROQUE BLACK WHITE', 'Quantity': 3, 'InvoiceDate': '5/17/2011', 'UnitPrice': 2.08, 'CustomerID': 15005, 'Country': 'United Kingdom'}\n",
      "{'_id': ObjectId('682aacbcf3fe068ca8690cb1'), 'InvoiceNo': 553541, 'StockCode': '85099C', 'Description': 'JUMBO  BAG BAROQUE BLACK WHITE', 'Quantity': 7, 'InvoiceDate': '5/17/2011', 'UnitPrice': 4.13, 'Country': 'United Kingdom'}\n",
      "{'_id': ObjectId('682aacbcf3fe068ca8690e0e'), 'InvoiceNo': 553572, 'StockCode': '85099C', 'Description': 'JUMBO  BAG BAROQUE BLACK WHITE', 'Quantity': 10, 'InvoiceDate': '5/18/2011', 'UnitPrice': 2.08, 'CustomerID': 18223, 'Country': 'United Kingdom'}\n",
      "{'_id': ObjectId('682aacbcf3fe068ca8690f2b'), 'InvoiceNo': 553678, 'StockCode': '85099C', 'Description': 'JUMBO  BAG BAROQUE BLACK WHITE', 'Quantity': 10, 'InvoiceDate': '5/18/2011', 'UnitPrice': 1.95, 'CustomerID': 14009, 'Country': 'United Kingdom'}\n",
      "{'_id': ObjectId('682aacbcf3fe068ca869108b'), 'InvoiceNo': 553727, 'StockCode': '85099C', 'Description': 'JUMBO  BAG BAROQUE BLACK WHITE', 'Quantity': 20, 'InvoiceDate': '5/18/2011', 'UnitPrice': 2.08, 'CustomerID': 13531, 'Country': 'United Kingdom'}\n",
      "{'_id': ObjectId('682aacbcf3fe068ca869114d'), 'InvoiceNo': 553766, 'StockCode': '85099C', 'Description': 'JUMBO  BAG BAROQUE BLACK WHITE', 'Quantity': 2, 'InvoiceDate': '5/19/2011', 'UnitPrice': 4.13, 'Country': 'United Kingdom'}\n",
      "{'_id': ObjectId('682aacbcf3fe068ca8691421'), 'InvoiceNo': 553908, 'StockCode': '85099C', 'Description': 'JUMBO  BAG BAROQUE BLACK WHITE', 'Quantity': 10, 'InvoiceDate': '5/19/2011', 'UnitPrice': 2.08, 'CustomerID': 18177, 'Country': 'United Kingdom'}\n",
      "{'_id': ObjectId('682aacbcf3fe068ca86917a4'), 'InvoiceNo': 554090, 'StockCode': '85099C', 'Description': 'JUMBO  BAG BAROQUE BLACK WHITE', 'Quantity': 2, 'InvoiceDate': '5/22/2011', 'UnitPrice': 2.08, 'CustomerID': 17315, 'Country': 'United Kingdom'}\n",
      "{'_id': ObjectId('682aacbcf3fe068ca8691889'), 'InvoiceNo': 554099, 'StockCode': '85099C', 'Description': 'JUMBO  BAG BAROQUE BLACK WHITE', 'Quantity': 50, 'InvoiceDate': '5/22/2011', 'UnitPrice': 2.08, 'CustomerID': 16341, 'Country': 'United Kingdom'}\n",
      "{'_id': ObjectId('682aacbcf3fe068ca8691b35'), 'InvoiceNo': 554265, 'StockCode': '85099C', 'Description': 'JUMBO  BAG BAROQUE BLACK WHITE', 'Quantity': 1, 'InvoiceDate': '5/23/2011', 'UnitPrice': 2.08, 'Country': 'United Kingdom'}\n",
      "{'_id': ObjectId('682aacbcf3fe068ca8691bd5'), 'InvoiceNo': 554283, 'StockCode': '85099C', 'Description': 'JUMBO  BAG BAROQUE BLACK WHITE', 'Quantity': 10, 'InvoiceDate': '5/23/2011', 'UnitPrice': 2.08, 'CustomerID': 17686, 'Country': 'United Kingdom'}\n",
      "{'_id': ObjectId('682aacbcf3fe068ca8691ce0'), 'InvoiceNo': 554347, 'StockCode': '85099C', 'Description': 'JUMBO  BAG BAROQUE BLACK WHITE', 'Quantity': 30, 'InvoiceDate': '5/24/2011', 'UnitPrice': 2.08, 'CustomerID': 16523, 'Country': 'United Kingdom'}\n",
      "{'_id': ObjectId('682aacbcf3fe068ca8691da2'), 'InvoiceNo': 554376, 'StockCode': '85099C', 'Description': 'JUMBO  BAG BAROQUE BLACK WHITE', 'Quantity': 3, 'InvoiceDate': '5/24/2011', 'UnitPrice': 2.08, 'CustomerID': 15719, 'Country': 'United Kingdom'}\n",
      "{'_id': ObjectId('682aacbcf3fe068ca8691f72'), 'InvoiceNo': 554512, 'StockCode': '85099C', 'Description': 'JUMBO  BAG BAROQUE BLACK WHITE', 'Quantity': 1, 'InvoiceDate': '5/24/2011', 'UnitPrice': 4.13, 'Country': 'United Kingdom'}\n",
      "{'_id': ObjectId('682aacbcf3fe068ca869216e'), 'InvoiceNo': 554647, 'StockCode': '85099C', 'Description': 'JUMBO  BAG BAROQUE BLACK WHITE', 'Quantity': 100, 'InvoiceDate': '5/25/2011', 'UnitPrice': 1.79, 'CustomerID': 14705, 'Country': 'United Kingdom'}\n",
      "{'_id': ObjectId('682aacbcf3fe068ca86921c3'), 'InvoiceNo': 554663, 'StockCode': '85099C', 'Description': 'JUMBO  BAG BAROQUE BLACK WHITE', 'Quantity': 4, 'InvoiceDate': '5/25/2011', 'UnitPrice': 2.08, 'CustomerID': 14985, 'Country': 'United Kingdom'}\n",
      "{'_id': ObjectId('682aacbcf3fe068ca86923f1'), 'InvoiceNo': 554815, 'StockCode': '85099C', 'Description': 'JUMBO  BAG BAROQUE BLACK WHITE', 'Quantity': 100, 'InvoiceDate': '5/26/2011', 'UnitPrice': 1.79, 'CustomerID': 13798, 'Country': 'United Kingdom'}\n",
      "{'_id': ObjectId('682aacbcf3fe068ca8692555'), 'InvoiceNo': 554919, 'StockCode': '85099C', 'Description': 'JUMBO  BAG BAROQUE BLACK WHITE', 'Quantity': 100, 'InvoiceDate': '5/27/2011', 'UnitPrice': 1.79, 'CustomerID': 13225, 'Country': 'United Kingdom'}\n",
      "{'_id': ObjectId('682aacbcf3fe068ca8692918'), 'InvoiceNo': 555101, 'StockCode': '85099C', 'Description': 'JUMBO  BAG BAROQUE BLACK WHITE', 'Quantity': 10, 'InvoiceDate': '5/31/2011', 'UnitPrice': 2.08, 'CustomerID': 13070, 'Country': 'United Kingdom'}\n",
      "{'_id': ObjectId('682aacbcf3fe068ca869296e'), 'InvoiceNo': 555110, 'StockCode': '85099C', 'Description': 'JUMBO  BAG BAROQUE BLACK WHITE', 'Quantity': 1, 'InvoiceDate': '5/31/2011', 'UnitPrice': 2.08, 'CustomerID': 17841, 'Country': 'United Kingdom'}\n",
      "{'_id': ObjectId('682aacbcf3fe068ca8692a50'), 'InvoiceNo': 555149, 'StockCode': '85099C', 'Description': 'JUMBO  BAG BAROQUE BLACK WHITE', 'Quantity': 1, 'InvoiceDate': '5/31/2011', 'UnitPrice': 4.13, 'Country': 'United Kingdom'}\n",
      "{'_id': ObjectId('682aacbcf3fe068ca8692d39'), 'InvoiceNo': 555277, 'StockCode': '85099C', 'Description': 'JUMBO  BAG BAROQUE BLACK WHITE', 'Quantity': 1, 'InvoiceDate': '6/1/2011', 'UnitPrice': 4.13, 'Country': 'United Kingdom'}\n",
      "{'_id': ObjectId('682aacbcf3fe068ca8692ed2'), 'InvoiceNo': 555344, 'StockCode': '85099C', 'Description': 'JUMBO  BAG BAROQUE BLACK WHITE', 'Quantity': 100, 'InvoiceDate': '6/2/2011', 'UnitPrice': 1.79, 'CustomerID': 15311, 'Country': 'United Kingdom'}\n",
      "{'_id': ObjectId('682aacbcf3fe068ca8693150'), 'InvoiceNo': 555477, 'StockCode': '85099C', 'Description': 'JUMBO  BAG BAROQUE BLACK WHITE', 'Quantity': 10, 'InvoiceDate': '6/3/2011', 'UnitPrice': 2.08, 'CustomerID': 12359, 'Country': 'Cyprus'}\n",
      "{'_id': ObjectId('682aacbcf3fe068ca86933dd'), 'InvoiceNo': 555552, 'StockCode': '85099C', 'Description': 'JUMBO  BAG BAROQUE BLACK WHITE', 'Quantity': 2, 'InvoiceDate': '6/5/2011', 'UnitPrice': 2.08, 'CustomerID': 13610, 'Country': 'United Kingdom'}\n",
      "{'_id': ObjectId('682aacbcf3fe068ca8693619'), 'InvoiceNo': 555631, 'StockCode': '85099C', 'Description': 'JUMBO  BAG BAROQUE BLACK WHITE', 'Quantity': 1, 'InvoiceDate': '6/6/2011', 'UnitPrice': 2.08, 'CustomerID': 18118, 'Country': 'United Kingdom'}\n",
      "{'_id': ObjectId('682aacbcf3fe068ca869368f'), 'InvoiceNo': 555644, 'StockCode': '85099C', 'Description': 'JUMBO  BAG BAROQUE BLACK WHITE', 'Quantity': 1, 'InvoiceDate': '6/6/2011', 'UnitPrice': 2.08, 'CustomerID': 16520, 'Country': 'United Kingdom'}\n",
      "{'_id': ObjectId('682aacbcf3fe068ca8693711'), 'InvoiceNo': 555691, 'StockCode': '85099C', 'Description': 'JUMBO  BAG BAROQUE BLACK WHITE', 'Quantity': 10, 'InvoiceDate': '6/6/2011', 'UnitPrice': 2.08, 'CustomerID': 12843, 'Country': 'United Kingdom'}\n",
      "{'_id': ObjectId('682aacbcf3fe068ca8693723'), 'InvoiceNo': 555703, 'StockCode': '85099C', 'Description': 'JUMBO  BAG BAROQUE BLACK WHITE', 'Quantity': 10, 'InvoiceDate': '6/6/2011', 'UnitPrice': 2.08, 'CustomerID': 15379, 'Country': 'United Kingdom'}\n",
      "{'_id': ObjectId('682aacbcf3fe068ca86938f1'), 'InvoiceNo': 555841, 'StockCode': '85099C', 'Description': 'JUMBO  BAG BAROQUE BLACK WHITE', 'Quantity': 1, 'InvoiceDate': '6/7/2011', 'UnitPrice': 2.08, 'CustomerID': 14583, 'Country': 'United Kingdom'}\n",
      "{'_id': ObjectId('682aacbcf3fe068ca8693a2c'), 'InvoiceNo': 555857, 'StockCode': '85099C', 'Description': 'JUMBO  BAG BAROQUE BLACK WHITE', 'Quantity': 2, 'InvoiceDate': '6/7/2011', 'UnitPrice': 2.08, 'CustomerID': 16393, 'Country': 'United Kingdom'}\n",
      "{'_id': ObjectId('682aacbcf3fe068ca8693b27'), 'InvoiceNo': 555924, 'StockCode': '85099C', 'Description': 'JUMBO  BAG BAROQUE BLACK WHITE', 'Quantity': 1, 'InvoiceDate': '6/7/2011', 'UnitPrice': 4.13, 'Country': 'United Kingdom'}\n",
      "{'_id': ObjectId('682aacbcf3fe068ca8693cb0'), 'InvoiceNo': 556023, 'StockCode': '85099C', 'Description': 'JUMBO  BAG BAROQUE BLACK WHITE', 'Quantity': 4, 'InvoiceDate': '6/8/2011', 'UnitPrice': 2.08, 'CustomerID': 14527, 'Country': 'United Kingdom'}\n",
      "{'_id': ObjectId('682aacbcf3fe068ca86940f9'), 'InvoiceNo': 556189, 'StockCode': '85099C', 'Description': 'JUMBO  BAG BAROQUE BLACK WHITE', 'Quantity': 10, 'InvoiceDate': '6/9/2011', 'UnitPrice': 2.08, 'CustomerID': 15615, 'Country': 'United Kingdom'}\n",
      "{'_id': ObjectId('682aacbcf3fe068ca86944bf'), 'InvoiceNo': 556416, 'StockCode': '85099C', 'Description': 'JUMBO  BAG BAROQUE BLACK WHITE', 'Quantity': 10, 'InvoiceDate': '6/10/2011', 'UnitPrice': 2.08, 'CustomerID': 15527, 'Country': 'United Kingdom'}\n",
      "{'_id': ObjectId('682aacbcf3fe068ca8694614'), 'InvoiceNo': 556469, 'StockCode': '85099C', 'Description': 'JUMBO  BAG BAROQUE BLACK WHITE', 'Quantity': 20, 'InvoiceDate': '6/12/2011', 'UnitPrice': 2.08, 'CustomerID': 12516, 'Country': 'Germany'}\n",
      "{'_id': ObjectId('682aacbcf3fe068ca8694b0f'), 'InvoiceNo': 556721, 'StockCode': '85099C', 'Description': 'JUMBO  BAG BAROQUE BLACK WHITE', 'Quantity': 10, 'InvoiceDate': '6/14/2011', 'UnitPrice': 2.08, 'CustomerID': 15218, 'Country': 'United Kingdom'}\n",
      "{'_id': ObjectId('682aacbcf3fe068ca8694f1c'), 'InvoiceNo': 556890, 'StockCode': '85099C', 'Description': 'JUMBO  BAG BAROQUE BLACK WHITE', 'Quantity': 10, 'InvoiceDate': '6/15/2011', 'UnitPrice': 2.08, 'CustomerID': 17581, 'Country': 'United Kingdom'}\n",
      "{'_id': ObjectId('682aacbcf3fe068ca86950ea'), 'InvoiceNo': 556932, 'StockCode': '85099C', 'Description': 'JUMBO  BAG BAROQUE BLACK WHITE', 'Quantity': 5, 'InvoiceDate': '6/15/2011', 'UnitPrice': 4.13, 'Country': 'United Kingdom'}\n",
      "{'_id': ObjectId('682aacbcf3fe068ca8695102'), 'InvoiceNo': 556935, 'StockCode': '85099C', 'Description': 'JUMBO  BAG BAROQUE BLACK WHITE', 'Quantity': 10, 'InvoiceDate': '6/15/2011', 'UnitPrice': 2.08, 'CustomerID': 17651, 'Country': 'United Kingdom'}\n",
      "{'_id': ObjectId('682aacbcf3fe068ca8695238'), 'InvoiceNo': 557020, 'StockCode': '85099C', 'Description': 'JUMBO  BAG BAROQUE BLACK WHITE', 'Quantity': 2, 'InvoiceDate': '6/16/2011', 'UnitPrice': 2.08, 'CustomerID': 13246, 'Country': 'United Kingdom'}\n",
      "{'_id': ObjectId('682aacbcf3fe068ca8695661'), 'InvoiceNo': 557263, 'StockCode': '85099C', 'Description': 'JUMBO  BAG BAROQUE BLACK WHITE', 'Quantity': 100, 'InvoiceDate': '6/19/2011', 'UnitPrice': 1.79, 'CustomerID': 14646, 'Country': 'Netherlands'}\n",
      "{'_id': ObjectId('682aacbcf3fe068ca869596b'), 'InvoiceNo': 557389, 'StockCode': '85099C', 'Description': 'JUMBO  BAG BAROQUE BLACK WHITE', 'Quantity': 3, 'InvoiceDate': '6/20/2011', 'UnitPrice': 2.08, 'CustomerID': 15921, 'Country': 'United Kingdom'}\n",
      "{'_id': ObjectId('682aacbcf3fe068ca8695c32'), 'InvoiceNo': 557502, 'StockCode': '85099C', 'Description': 'JUMBO  BAG BAROQUE BLACK WHITE', 'Quantity': 1, 'InvoiceDate': '6/20/2011', 'UnitPrice': 4.13, 'Country': 'United Kingdom'}\n",
      "{'_id': ObjectId('682aacbcf3fe068ca8695d42'), 'InvoiceNo': 557615, 'StockCode': '85099C', 'Description': 'JUMBO  BAG BAROQUE BLACK WHITE', 'Quantity': 20, 'InvoiceDate': '6/21/2011', 'UnitPrice': 2.08, 'CustomerID': 15498, 'Country': 'United Kingdom'}\n",
      "{'_id': ObjectId('682aacbcf3fe068ca8695fe9'), 'InvoiceNo': 557745, 'StockCode': '85099C', 'Description': 'JUMBO  BAG BAROQUE BLACK WHITE', 'Quantity': 4, 'InvoiceDate': '6/22/2011', 'UnitPrice': 2.08, 'CustomerID': 15750, 'Country': 'United Kingdom'}\n",
      "{'_id': ObjectId('682aacbcf3fe068ca8696017'), 'InvoiceNo': 557748, 'StockCode': '85099C', 'Description': 'JUMBO  BAG BAROQUE BLACK WHITE', 'Quantity': 4, 'InvoiceDate': '6/22/2011', 'UnitPrice': 2.08, 'CustomerID': 14527, 'Country': 'United Kingdom'}\n",
      "{'_id': ObjectId('682aacbcf3fe068ca86960d1'), 'InvoiceNo': 557772, 'StockCode': '85099C', 'Description': 'JUMBO  BAG BAROQUE BLACK WHITE', 'Quantity': 10, 'InvoiceDate': '6/22/2011', 'UnitPrice': 2.08, 'CustomerID': 16458, 'Country': 'United Kingdom'}\n",
      "{'_id': ObjectId('682aacbcf3fe068ca8696304'), 'InvoiceNo': 557886, 'StockCode': '85099C', 'Description': 'JUMBO  BAG BAROQUE BLACK WHITE', 'Quantity': 4, 'InvoiceDate': '6/23/2011', 'UnitPrice': 2.08, 'CustomerID': 17799, 'Country': 'United Kingdom'}\n",
      "{'_id': ObjectId('682aacbcf3fe068ca869647a'), 'InvoiceNo': 'C557945', 'StockCode': '85099C', 'Description': 'JUMBO  BAG BAROQUE BLACK WHITE', 'Quantity': -1, 'InvoiceDate': '6/23/2011', 'UnitPrice': 2.08, 'CustomerID': 18223, 'Country': 'United Kingdom'}\n",
      "{'_id': ObjectId('682aacbcf3fe068ca869656e'), 'InvoiceNo': 557972, 'StockCode': '85099C', 'Description': 'JUMBO  BAG BAROQUE BLACK WHITE', 'Quantity': 10, 'InvoiceDate': '6/24/2011', 'UnitPrice': 2.08, 'CustomerID': 12500, 'Country': 'Germany'}\n",
      "{'_id': ObjectId('682aacbdf3fe068ca8696768'), 'InvoiceNo': 558085, 'StockCode': '85099C', 'Description': 'JUMBO  BAG BAROQUE BLACK WHITE', 'Quantity': 20, 'InvoiceDate': '6/26/2011', 'UnitPrice': 2.08, 'CustomerID': 13021, 'Country': 'United Kingdom'}\n",
      "{'_id': ObjectId('682aacbdf3fe068ca86969e1'), 'InvoiceNo': 558198, 'StockCode': '85099C', 'Description': 'JUMBO  BAG BAROQUE BLACK WHITE', 'Quantity': 2, 'InvoiceDate': '6/27/2011', 'UnitPrice': 2.08, 'CustomerID': 14104, 'Country': 'United Kingdom'}\n",
      "{'_id': ObjectId('682aacbdf3fe068ca8696dc6'), 'InvoiceNo': 558447, 'StockCode': '85099C', 'Description': 'JUMBO  BAG BAROQUE BLACK WHITE', 'Quantity': 100, 'InvoiceDate': '6/29/2011', 'UnitPrice': 1.79, 'CustomerID': 15311, 'Country': 'United Kingdom'}\n",
      "{'_id': ObjectId('682aacbdf3fe068ca8697048'), 'InvoiceNo': 558538, 'StockCode': '85099C', 'Description': 'JUMBO  BAG BAROQUE BLACK WHITE', 'Quantity': 2, 'InvoiceDate': '6/30/2011', 'UnitPrice': 2.08, 'CustomerID': 15005, 'Country': 'United Kingdom'}\n",
      "{'_id': ObjectId('682aacbdf3fe068ca869753a'), 'InvoiceNo': 558756, 'StockCode': '85099C', 'Description': 'JUMBO  BAG BAROQUE BLACK WHITE', 'Quantity': 20, 'InvoiceDate': '7/3/2011', 'UnitPrice': 2.08, 'CustomerID': 12843, 'Country': 'United Kingdom'}\n",
      "{'_id': ObjectId('682aacbdf3fe068ca869771f'), 'InvoiceNo': 558777, 'StockCode': '85099C', 'Description': 'JUMBO  BAG BAROQUE BLACK WHITE', 'Quantity': 22, 'InvoiceDate': '7/4/2011', 'UnitPrice': 2.08, 'Country': 'United Kingdom'}\n",
      "{'_id': ObjectId('682aacbdf3fe068ca8697cc8'), 'InvoiceNo': 559052, 'StockCode': '85099C', 'Description': 'JUMBO  BAG BAROQUE BLACK WHITE', 'Quantity': 4, 'InvoiceDate': '7/5/2011', 'UnitPrice': 4.13, 'Country': 'United Kingdom'}\n",
      "{'_id': ObjectId('682aacbdf3fe068ca8697ef1'), 'InvoiceNo': 559068, 'StockCode': '85099C', 'Description': 'JUMBO  BAG BAROQUE BLACK WHITE', 'Quantity': 2, 'InvoiceDate': '7/6/2011', 'UnitPrice': 2.08, 'CustomerID': 17841, 'Country': 'United Kingdom'}\n",
      "{'_id': ObjectId('682aacbdf3fe068ca86982a9'), 'InvoiceNo': 559289, 'StockCode': '85099C', 'Description': 'JUMBO  BAG BAROQUE BLACK WHITE', 'Quantity': 6, 'InvoiceDate': '7/7/2011', 'UnitPrice': 2.08, 'CustomerID': 15719, 'Country': 'United Kingdom'}\n",
      "{'_id': ObjectId('682aacbdf3fe068ca8698504'), 'InvoiceNo': 559338, 'StockCode': '85099C', 'Description': 'JUMBO  BAG BAROQUE BLACK WHITE', 'Quantity': 3, 'InvoiceDate': '7/7/2011', 'UnitPrice': 4.13, 'Country': 'United Kingdom'}\n",
      "{'_id': ObjectId('682aacbdf3fe068ca8698eb2'), 'InvoiceNo': 559802, 'StockCode': '85099C', 'Description': 'JUMBO  BAG BAROQUE BLACK WHITE', 'Quantity': 4, 'InvoiceDate': '7/12/2011', 'UnitPrice': 4.13, 'Country': 'United Kingdom'}\n",
      "{'_id': ObjectId('682aacbdf3fe068ca86990f1'), 'InvoiceNo': 559831, 'StockCode': '85099C', 'Description': 'JUMBO  BAG BAROQUE BLACK WHITE', 'Quantity': 20, 'InvoiceDate': '7/13/2011', 'UnitPrice': 2.08, 'CustomerID': 14709, 'Country': 'United Kingdom'}\n",
      "{'_id': ObjectId('682aacbdf3fe068ca869913d'), 'InvoiceNo': 559865, 'StockCode': '85099C', 'Description': 'JUMBO  BAG BAROQUE BLACK WHITE', 'Quantity': 10, 'InvoiceDate': '7/13/2011', 'UnitPrice': 2.08, 'CustomerID': 14409, 'Country': 'United Kingdom'}\n",
      "{'_id': ObjectId('682aacbdf3fe068ca869917a'), 'InvoiceNo': 559876, 'StockCode': '85099C', 'Description': 'JUMBO  BAG BAROQUE BLACK WHITE', 'Quantity': 2, 'InvoiceDate': '7/13/2011', 'UnitPrice': 2.08, 'CustomerID': 15752, 'Country': 'United Kingdom'}\n",
      "{'_id': ObjectId('682aacbdf3fe068ca8699467'), 'InvoiceNo': 559937, 'StockCode': '85099C', 'Description': 'JUMBO  BAG BAROQUE BLACK WHITE', 'Quantity': 10, 'InvoiceDate': '7/14/2011', 'UnitPrice': 2.08, 'CustomerID': 13577, 'Country': 'United Kingdom'}\n",
      "{'_id': ObjectId('682aacbdf3fe068ca869949d'), 'InvoiceNo': 559951, 'StockCode': '85099C', 'Description': 'JUMBO  BAG BAROQUE BLACK WHITE', 'Quantity': 10, 'InvoiceDate': '7/14/2011', 'UnitPrice': 2.08, 'CustomerID': 14847, 'Country': 'United Kingdom'}\n",
      "{'_id': ObjectId('682aacbdf3fe068ca86998db'), 'InvoiceNo': 560225, 'StockCode': '85099C', 'Description': 'JUMBO  BAG BAROQUE BLACK WHITE', 'Quantity': 2, 'InvoiceDate': '7/15/2011', 'UnitPrice': 4.13, 'Country': 'United Kingdom'}\n",
      "{'_id': ObjectId('682aacbdf3fe068ca8699c89'), 'InvoiceNo': 560292, 'StockCode': '85099C', 'Description': 'JUMBO  BAG BAROQUE BLACK WHITE', 'Quantity': 1, 'InvoiceDate': '7/18/2011', 'UnitPrice': 4.13, 'Country': 'United Kingdom'}\n",
      "{'_id': ObjectId('682aacbdf3fe068ca8699ed4'), 'InvoiceNo': 560426, 'StockCode': '85099C', 'Description': 'JUMBO  BAG BAROQUE BLACK WHITE', 'Quantity': 10, 'InvoiceDate': '7/18/2011', 'UnitPrice': 2.08, 'CustomerID': 14038, 'Country': 'United Kingdom'}\n",
      "{'_id': ObjectId('682aacbdf3fe068ca869a330'), 'InvoiceNo': 560580, 'StockCode': '85099C', 'Description': 'JUMBO  BAG BAROQUE BLACK WHITE', 'Quantity': 100, 'InvoiceDate': '7/19/2011', 'UnitPrice': 1.79, 'CustomerID': 14088, 'Country': 'United Kingdom'}\n",
      "{'_id': ObjectId('682aacbdf3fe068ca869a464'), 'InvoiceNo': 560689, 'StockCode': '85099C', 'Description': 'JUMBO  BAG BAROQUE BLACK WHITE', 'Quantity': 10, 'InvoiceDate': '7/20/2011', 'UnitPrice': 2.08, 'CustomerID': 15039, 'Country': 'United Kingdom'}\n",
      "{'_id': ObjectId('682aacbdf3fe068ca869a481'), 'InvoiceNo': 560691, 'StockCode': '85099C', 'Description': 'JUMBO  BAG BAROQUE BLACK WHITE', 'Quantity': 10, 'InvoiceDate': '7/20/2011', 'UnitPrice': 2.08, 'CustomerID': 13136, 'Country': 'United Kingdom'}\n",
      "{'_id': ObjectId('682aacbdf3fe068ca869a516'), 'InvoiceNo': 560712, 'StockCode': '85099C', 'Description': 'JUMBO  BAG BAROQUE BLACK WHITE', 'Quantity': 2, 'InvoiceDate': '7/20/2011', 'UnitPrice': 2.08, 'CustomerID': 14456, 'Country': 'United Kingdom'}\n",
      "{'_id': ObjectId('682aacbdf3fe068ca869a7ea'), 'InvoiceNo': 560779, 'StockCode': '85099C', 'Description': 'JUMBO  BAG BAROQUE BLACK WHITE', 'Quantity': 3, 'InvoiceDate': '7/21/2011', 'UnitPrice': 4.13, 'Country': 'United Kingdom'}\n",
      "{'_id': ObjectId('682aacbdf3fe068ca869a8a7'), 'InvoiceNo': 560834, 'StockCode': '85099C', 'Description': 'JUMBO  BAG BAROQUE BLACK WHITE', 'Quantity': 20, 'InvoiceDate': '7/21/2011', 'UnitPrice': 2.08, 'CustomerID': 16523, 'Country': 'United Kingdom'}\n",
      "{'_id': ObjectId('682aacbdf3fe068ca869ac15'), 'InvoiceNo': 560942, 'StockCode': '85099C', 'Description': 'JUMBO  BAG BAROQUE BLACK WHITE', 'Quantity': 2, 'InvoiceDate': '7/22/2011', 'UnitPrice': 2.08, 'CustomerID': 15005, 'Country': 'United Kingdom'}\n",
      "{'_id': ObjectId('682aacbdf3fe068ca869acff'), 'InvoiceNo': 561006, 'StockCode': '85099C', 'Description': 'JUMBO  BAG BAROQUE BLACK WHITE', 'Quantity': 10, 'InvoiceDate': '7/22/2011', 'UnitPrice': 2.08, 'CustomerID': 16161, 'Country': 'United Kingdom'}\n",
      "{'_id': ObjectId('682aacbdf3fe068ca869ae47'), 'InvoiceNo': 561042, 'StockCode': '85099C', 'Description': 'JUMBO  BAG BAROQUE BLACK WHITE', 'Quantity': 10, 'InvoiceDate': '7/24/2011', 'UnitPrice': 2.08, 'CustomerID': 16305, 'Country': 'United Kingdom'}\n",
      "{'_id': ObjectId('682aacbdf3fe068ca869af0f'), 'InvoiceNo': 561075, 'StockCode': '85099C', 'Description': 'JUMBO  BAG BAROQUE BLACK WHITE', 'Quantity': 10, 'InvoiceDate': '7/24/2011', 'UnitPrice': 2.08, 'CustomerID': 16458, 'Country': 'United Kingdom'}\n",
      "{'_id': ObjectId('682aacbdf3fe068ca869b237'), 'InvoiceNo': 561209, 'StockCode': '85099C', 'Description': 'JUMBO  BAG BAROQUE BLACK WHITE', 'Quantity': 1, 'InvoiceDate': '7/25/2011', 'UnitPrice': 2.08, 'Country': 'United Kingdom'}\n",
      "{'_id': ObjectId('682aacbdf3fe068ca869b37c'), 'InvoiceNo': 561224, 'StockCode': '85099C', 'Description': 'JUMBO  BAG BAROQUE BLACK WHITE', 'Quantity': 100, 'InvoiceDate': '7/26/2011', 'UnitPrice': 1.79, 'CustomerID': 13629, 'Country': 'United Kingdom'}\n",
      "{'_id': ObjectId('682aacbdf3fe068ca869b48b'), 'InvoiceNo': 561331, 'StockCode': '85099C', 'Description': 'JUMBO  BAG BAROQUE BLACK WHITE', 'Quantity': 4, 'InvoiceDate': '7/26/2011', 'UnitPrice': 2.08, 'CustomerID': 16809, 'Country': 'United Kingdom'}\n",
      "{'_id': ObjectId('682aacbdf3fe068ca869ba2e'), 'InvoiceNo': 561650, 'StockCode': '85099C', 'Description': 'JUMBO  BAG BAROQUE BLACK WHITE', 'Quantity': 10, 'InvoiceDate': '7/28/2011', 'UnitPrice': 2.08, 'CustomerID': 15329, 'Country': 'United Kingdom'}\n",
      "{'_id': ObjectId('682aacbdf3fe068ca869bb3d'), 'InvoiceNo': 561685, 'StockCode': '85099C', 'Description': 'JUMBO  BAG BAROQUE BLACK WHITE', 'Quantity': 10, 'InvoiceDate': '7/28/2011', 'UnitPrice': 2.08, 'CustomerID': 14315, 'Country': 'United Kingdom'}\n",
      "{'_id': ObjectId('682aacbdf3fe068ca869bc43'), 'InvoiceNo': 561773, 'StockCode': '85099C', 'Description': 'JUMBO  BAG BAROQUE BLACK WHITE', 'Quantity': 1, 'InvoiceDate': '7/29/2011', 'UnitPrice': 2.08, 'CustomerID': 17841, 'Country': 'United Kingdom'}\n",
      "{'_id': ObjectId('682aacbdf3fe068ca869c207'), 'InvoiceNo': 562031, 'StockCode': '85099C', 'Description': 'JUMBO  BAG BAROQUE BLACK WHITE', 'Quantity': 1, 'InvoiceDate': '8/1/2011', 'UnitPrice': 2.08, 'CustomerID': 16984, 'Country': 'United Kingdom'}\n",
      "{'_id': ObjectId('682aacbdf3fe068ca869c3ad'), 'InvoiceNo': 562101, 'StockCode': '85099C', 'Description': 'JUMBO  BAG BAROQUE BLACK WHITE', 'Quantity': 10, 'InvoiceDate': '8/2/2011', 'UnitPrice': 2.08, 'CustomerID': 13850, 'Country': 'United Kingdom'}\n",
      "{'_id': ObjectId('682aacbdf3fe068ca869c584'), 'InvoiceNo': 562146, 'StockCode': '85099C', 'Description': 'JUMBO  BAG BAROQUE BLACK WHITE', 'Quantity': 10, 'InvoiceDate': '8/3/2011', 'UnitPrice': 2.08, 'CustomerID': 17675, 'Country': 'United Kingdom'}\n",
      "{'_id': ObjectId('682aacbdf3fe068ca869c8cb'), 'InvoiceNo': 562342, 'StockCode': '85099C', 'Description': 'JUMBO  BAG BAROQUE BLACK WHITE', 'Quantity': 10, 'InvoiceDate': '8/4/2011', 'UnitPrice': 2.08, 'CustomerID': 16929, 'Country': 'United Kingdom'}\n",
      "{'_id': ObjectId('682aacbdf3fe068ca869c9ac'), 'InvoiceNo': 562376, 'StockCode': '85099C', 'Description': 'JUMBO  BAG BAROQUE BLACK WHITE', 'Quantity': 10, 'InvoiceDate': '8/4/2011', 'UnitPrice': 2.08, 'CustomerID': 15254, 'Country': 'United Kingdom'}\n",
      "{'_id': ObjectId('682aacbdf3fe068ca869cb63'), 'InvoiceNo': 562444, 'StockCode': '85099C', 'Description': 'JUMBO  BAG BAROQUE BLACK WHITE', 'Quantity': 2, 'InvoiceDate': '8/4/2011', 'UnitPrice': 2.08, 'CustomerID': 14713, 'Country': 'United Kingdom'}\n",
      "{'_id': ObjectId('682aacbdf3fe068ca869cbf5'), 'InvoiceNo': 562460, 'StockCode': '85099C', 'Description': 'JUMBO  BAG BAROQUE BLACK WHITE', 'Quantity': 1, 'InvoiceDate': '8/5/2011', 'UnitPrice': 2.08, 'CustomerID': 17841, 'Country': 'United Kingdom'}\n",
      "{'_id': ObjectId('682aacbdf3fe068ca869cddb'), 'InvoiceNo': 562553, 'StockCode': '85099C', 'Description': 'JUMBO  BAG BAROQUE BLACK WHITE', 'Quantity': 1, 'InvoiceDate': '8/5/2011', 'UnitPrice': 4.13, 'Country': 'United Kingdom'}\n",
      "{'_id': ObjectId('682aacbdf3fe068ca869d038'), 'InvoiceNo': 562615, 'StockCode': '85099C', 'Description': 'JUMBO  BAG BAROQUE BLACK WHITE', 'Quantity': 10, 'InvoiceDate': '8/8/2011', 'UnitPrice': 2.08, 'CustomerID': 16458, 'Country': 'United Kingdom'}\n",
      "{'_id': ObjectId('682aacbdf3fe068ca869d088'), 'InvoiceNo': 562652, 'StockCode': '85099C', 'Description': 'JUMBO  BAG BAROQUE BLACK WHITE', 'Quantity': 10, 'InvoiceDate': '8/8/2011', 'UnitPrice': 2.08, 'CustomerID': 14844, 'Country': 'United Kingdom'}\n",
      "{'_id': ObjectId('682aacbdf3fe068ca869d14e'), 'InvoiceNo': 562711, 'StockCode': '85099C', 'Description': 'JUMBO  BAG BAROQUE BLACK WHITE', 'Quantity': 1, 'InvoiceDate': '8/8/2011', 'UnitPrice': 2.08, 'CustomerID': 16788, 'Country': 'United Kingdom'}\n",
      "{'_id': ObjectId('682aacbdf3fe068ca869d1ac'), 'InvoiceNo': 562715, 'StockCode': '85099C', 'Description': 'JUMBO  BAG BAROQUE BLACK WHITE', 'Quantity': 1, 'InvoiceDate': '8/8/2011', 'UnitPrice': 4.13, 'Country': 'United Kingdom'}\n",
      "{'_id': ObjectId('682aacbdf3fe068ca869d23e'), 'InvoiceNo': 562717, 'StockCode': '85099C', 'Description': 'JUMBO  BAG BAROQUE BLACK WHITE', 'Quantity': 4, 'InvoiceDate': '8/8/2011', 'UnitPrice': 4.13, 'Country': 'United Kingdom'}\n",
      "{'_id': ObjectId('682aacbdf3fe068ca869e629'), 'InvoiceNo': 563615, 'StockCode': '85099C', 'Description': 'JUMBO  BAG BAROQUE BLACK WHITE', 'Quantity': 10, 'InvoiceDate': '8/18/2011', 'UnitPrice': 2.08, 'CustomerID': 16945, 'Country': 'United Kingdom'}\n",
      "{'_id': ObjectId('682aacbdf3fe068ca869e6b9'), 'InvoiceNo': 563661, 'StockCode': '85099C', 'Description': 'JUMBO  BAG BAROQUE BLACK WHITE', 'Quantity': 10, 'InvoiceDate': '8/18/2011', 'UnitPrice': 2.08, 'CustomerID': 13048, 'Country': 'United Kingdom'}\n",
      "{'_id': ObjectId('682aacbdf3fe068ca869ea37'), 'InvoiceNo': 563900, 'StockCode': '85099C', 'Description': 'JUMBO  BAG BAROQUE BLACK WHITE', 'Quantity': 200, 'InvoiceDate': '8/21/2011', 'UnitPrice': 1.79, 'CustomerID': 14566, 'Country': 'Channel Islands'}\n",
      "{'_id': ObjectId('682aacbdf3fe068ca869ebb9'), 'InvoiceNo': 563928, 'StockCode': '85099C', 'Description': 'JUMBO  BAG BAROQUE BLACK WHITE', 'Quantity': 2, 'InvoiceDate': '8/21/2011', 'UnitPrice': 2.08, 'CustomerID': 17059, 'Country': 'United Kingdom'}\n",
      "{'_id': ObjectId('682aacbdf3fe068ca869ec5e'), 'InvoiceNo': 563940, 'StockCode': '85099C', 'Description': 'JUMBO  BAG BAROQUE BLACK WHITE', 'Quantity': 10, 'InvoiceDate': '8/22/2011', 'UnitPrice': 2.08, 'CustomerID': 17416, 'Country': 'United Kingdom'}\n",
      "{'_id': ObjectId('682aacbdf3fe068ca869f216'), 'InvoiceNo': 564221, 'StockCode': '85099C', 'Description': 'JUMBO  BAG BAROQUE BLACK WHITE', 'Quantity': 3, 'InvoiceDate': '8/24/2011', 'UnitPrice': 4.13, 'Country': 'United Kingdom'}\n",
      "{'_id': ObjectId('682aacbdf3fe068ca869f2ff'), 'InvoiceNo': 564304, 'StockCode': '85099C', 'Description': 'JUMBO  BAG BAROQUE BLACK WHITE', 'Quantity': 10, 'InvoiceDate': '8/24/2011', 'UnitPrice': 2.08, 'CustomerID': 14527, 'Country': 'United Kingdom'}\n",
      "{'_id': ObjectId('682aacbdf3fe068ca869f4f8'), 'InvoiceNo': 564356, 'StockCode': '85099C', 'Description': 'JUMBO  BAG BAROQUE BLACK WHITE', 'Quantity': 2, 'InvoiceDate': '8/24/2011', 'UnitPrice': 2.08, 'CustomerID': 13969, 'Country': 'United Kingdom'}\n",
      "{'_id': ObjectId('682aacbdf3fe068ca869f8b0'), 'InvoiceNo': 564639, 'StockCode': '85099C', 'Description': 'JUMBO  BAG BAROQUE BLACK WHITE', 'Quantity': 6, 'InvoiceDate': '8/26/2011', 'UnitPrice': 2.08, 'CustomerID': 18036, 'Country': 'United Kingdom'}\n",
      "{'_id': ObjectId('682aacbdf3fe068ca869f8b2'), 'InvoiceNo': 564639, 'StockCode': '85099C', 'Description': 'JUMBO  BAG BAROQUE BLACK WHITE', 'Quantity': 2, 'InvoiceDate': '8/26/2011', 'UnitPrice': 2.08, 'CustomerID': 18036, 'Country': 'United Kingdom'}\n",
      "{'_id': ObjectId('682aacbef3fe068ca869fcb0'), 'InvoiceNo': 564754, 'StockCode': '85099C', 'Description': 'JUMBO  BAG BAROQUE BLACK WHITE', 'Quantity': 1, 'InvoiceDate': '8/30/2011', 'UnitPrice': 4.13, 'Country': 'United Kingdom'}\n",
      "{'_id': ObjectId('682aacbef3fe068ca869fd19'), 'InvoiceNo': 564755, 'StockCode': '85099C', 'Description': 'JUMBO  BAG BAROQUE BLACK WHITE', 'Quantity': 2, 'InvoiceDate': '8/30/2011', 'UnitPrice': 4.13, 'Country': 'United Kingdom'}\n",
      "{'_id': ObjectId('682aacbef3fe068ca869fef1'), 'InvoiceNo': 564817, 'StockCode': '85099C', 'Description': 'JUMBO  BAG BAROQUE BLACK WHITE', 'Quantity': 1, 'InvoiceDate': '8/30/2011', 'UnitPrice': 4.13, 'Country': 'United Kingdom'}\n",
      "{'_id': ObjectId('682aacbef3fe068ca869ffd7'), 'InvoiceNo': 564820, 'StockCode': '85099C', 'Description': 'JUMBO  BAG BAROQUE BLACK WHITE', 'Quantity': 1, 'InvoiceDate': '8/30/2011', 'UnitPrice': 4.13, 'Country': 'United Kingdom'}\n",
      "{'_id': ObjectId('682aacbef3fe068ca86a023b'), 'InvoiceNo': 564850, 'StockCode': '85099C', 'Description': 'JUMBO  BAG BAROQUE BLACK WHITE', 'Quantity': 40, 'InvoiceDate': '8/30/2011', 'UnitPrice': 2.08, 'CustomerID': 17298, 'Country': 'United Kingdom'}\n",
      "{'_id': ObjectId('682aacbef3fe068ca86a02d0'), 'InvoiceNo': 564857, 'StockCode': '85099C', 'Description': 'JUMBO  BAG BAROQUE BLACK WHITE', 'Quantity': 16, 'InvoiceDate': '8/31/2011', 'UnitPrice': 4.13, 'Country': 'United Kingdom'}\n",
      "{'_id': ObjectId('682aacbef3fe068ca86a0362'), 'InvoiceNo': 'C564946', 'StockCode': '85099C', 'Description': 'JUMBO  BAG BAROQUE BLACK WHITE', 'Quantity': -1, 'InvoiceDate': '8/31/2011', 'UnitPrice': 2.08, 'CustomerID': 13534, 'Country': 'United Kingdom'}\n",
      "{'_id': ObjectId('682aacbef3fe068ca86a0670'), 'InvoiceNo': 565150, 'StockCode': '85099C', 'Description': 'JUMBO  BAG BAROQUE BLACK WHITE', 'Quantity': 20, 'InvoiceDate': '9/1/2011', 'UnitPrice': 1.79, 'CustomerID': 14298, 'Country': 'United Kingdom'}\n",
      "{'_id': ObjectId('682aacbef3fe068ca86a0970'), 'InvoiceNo': 565238, 'StockCode': '85099C', 'Description': 'JUMBO  BAG BAROQUE BLACK WHITE', 'Quantity': 10, 'InvoiceDate': '9/2/2011', 'UnitPrice': 2.08, 'CustomerID': 16945, 'Country': 'United Kingdom'}\n",
      "{'_id': ObjectId('682aacbef3fe068ca86a09a7'), 'InvoiceNo': 565248, 'StockCode': '85099C', 'Description': 'JUMBO  BAG BAROQUE BLACK WHITE', 'Quantity': 1, 'InvoiceDate': '9/2/2011', 'UnitPrice': 2.08, 'CustomerID': 15860, 'Country': 'United Kingdom'}\n",
      "{'_id': ObjectId('682aacbef3fe068ca86a09ee'), 'InvoiceNo': 565286, 'StockCode': '85099C', 'Description': 'JUMBO  BAG BAROQUE BLACK WHITE', 'Quantity': 6, 'InvoiceDate': '9/2/2011', 'UnitPrice': 4.13, 'Country': 'United Kingdom'}\n",
      "{'_id': ObjectId('682aacbef3fe068ca86a0c6f'), 'InvoiceNo': 565408, 'StockCode': '85099C', 'Description': 'JUMBO  BAG BAROQUE BLACK WHITE', 'Quantity': 2, 'InvoiceDate': '9/4/2011', 'UnitPrice': 2.08, 'CustomerID': 16813, 'Country': 'United Kingdom'}\n",
      "{'_id': ObjectId('682aacbef3fe068ca86a0d8a'), 'InvoiceNo': 565431, 'StockCode': '85099C', 'Description': 'JUMBO  BAG BAROQUE BLACK WHITE', 'Quantity': 2, 'InvoiceDate': '9/4/2011', 'UnitPrice': 2.08, 'CustomerID': 14965, 'Country': 'United Kingdom'}\n",
      "{'_id': ObjectId('682aacbef3fe068ca86a13f9'), 'InvoiceNo': 565776, 'StockCode': '85099C', 'Description': 'JUMBO  BAG BAROQUE BLACK WHITE', 'Quantity': 100, 'InvoiceDate': '9/6/2011', 'UnitPrice': 1.79, 'CustomerID': 15311, 'Country': 'United Kingdom'}\n",
      "{'_id': ObjectId('682aacbef3fe068ca86a14cc'), 'InvoiceNo': 565835, 'StockCode': '85099C', 'Description': 'JUMBO  BAG BAROQUE BLACK WHITE', 'Quantity': 1, 'InvoiceDate': '9/7/2011', 'UnitPrice': 2.08, 'CustomerID': 14452, 'Country': 'United Kingdom'}\n",
      "{'_id': ObjectId('682aacbef3fe068ca86a155c'), 'InvoiceNo': 565840, 'StockCode': '85099C', 'Description': 'JUMBO  BAG BAROQUE BLACK WHITE', 'Quantity': 3, 'InvoiceDate': '9/7/2011', 'UnitPrice': 4.13, 'Country': 'United Kingdom'}\n",
      "{'_id': ObjectId('682aacbef3fe068ca86a164d'), 'InvoiceNo': 565847, 'StockCode': '85099C', 'Description': 'JUMBO  BAG BAROQUE BLACK WHITE', 'Quantity': 34, 'InvoiceDate': '9/7/2011', 'UnitPrice': 4.13, 'Country': 'United Kingdom'}\n",
      "{'_id': ObjectId('682aacbef3fe068ca86a174c'), 'InvoiceNo': 565915, 'StockCode': '85099C', 'Description': 'JUMBO  BAG BAROQUE BLACK WHITE', 'Quantity': 5, 'InvoiceDate': '9/7/2011', 'UnitPrice': 2.08, 'CustomerID': 15752, 'Country': 'United Kingdom'}\n",
      "{'_id': ObjectId('682aacbef3fe068ca86a1841'), 'InvoiceNo': 565919, 'StockCode': '85099C', 'Description': 'JUMBO  BAG BAROQUE BLACK WHITE', 'Quantity': 1, 'InvoiceDate': '9/7/2011', 'UnitPrice': 4.13, 'Country': 'United Kingdom'}\n",
      "{'_id': ObjectId('682aacbef3fe068ca86a1996'), 'InvoiceNo': 566008, 'StockCode': '85099C', 'Description': 'JUMBO  BAG BAROQUE BLACK WHITE', 'Quantity': 2, 'InvoiceDate': '9/8/2011', 'UnitPrice': 2.08, 'CustomerID': 16426, 'Country': 'United Kingdom'}\n",
      "{'_id': ObjectId('682aacbef3fe068ca86a1d04'), 'InvoiceNo': 566171, 'StockCode': '85099C', 'Description': 'JUMBO  BAG BAROQUE BLACK WHITE', 'Quantity': 1, 'InvoiceDate': '9/9/2011', 'UnitPrice': 2.08, 'CustomerID': 18118, 'Country': 'United Kingdom'}\n",
      "{'_id': ObjectId('682aacbef3fe068ca86a1d67'), 'InvoiceNo': 566191, 'StockCode': '85099C', 'Description': 'JUMBO  BAG BAROQUE BLACK WHITE', 'Quantity': 10, 'InvoiceDate': '9/9/2011', 'UnitPrice': 2.08, 'CustomerID': 14388, 'Country': 'United Kingdom'}\n",
      "{'_id': ObjectId('682aacbef3fe068ca86a1de6'), 'InvoiceNo': 566199, 'StockCode': '85099C', 'Description': 'JUMBO  BAG BAROQUE BLACK WHITE', 'Quantity': 20, 'InvoiceDate': '9/9/2011', 'UnitPrice': 2.08, 'CustomerID': 14824, 'Country': 'United Kingdom'}\n",
      "{'_id': ObjectId('682aacbef3fe068ca86a2201'), 'InvoiceNo': 566290, 'StockCode': '85099C', 'Description': 'JUMBO  BAG BAROQUE BLACK WHITE', 'Quantity': 2, 'InvoiceDate': '9/11/2011', 'UnitPrice': 2.08, 'CustomerID': 14456, 'Country': 'United Kingdom'}\n",
      "{'_id': ObjectId('682aacbef3fe068ca86a25b3'), 'InvoiceNo': 566446, 'StockCode': '85099C', 'Description': 'JUMBO  BAG BAROQUE BLACK WHITE', 'Quantity': 4, 'InvoiceDate': '9/12/2011', 'UnitPrice': 4.13, 'Country': 'United Kingdom'}\n",
      "{'_id': ObjectId('682aacbef3fe068ca86a266c'), 'InvoiceNo': 566482, 'StockCode': '85099C', 'Description': 'JUMBO  BAG BAROQUE BLACK WHITE', 'Quantity': 10, 'InvoiceDate': '9/13/2011', 'UnitPrice': 2.08, 'CustomerID': 16609, 'Country': 'United Kingdom'}\n",
      "{'_id': ObjectId('682aacbef3fe068ca86a28b4'), 'InvoiceNo': 566577, 'StockCode': '85099C', 'Description': 'JUMBO  BAG BAROQUE BLACK WHITE', 'Quantity': 9, 'InvoiceDate': '9/13/2011', 'UnitPrice': 4.13, 'Country': 'United Kingdom'}\n",
      "{'_id': ObjectId('682aacbef3fe068ca86a2990'), 'InvoiceNo': 566597, 'StockCode': '85099C', 'Description': 'JUMBO  BAG BAROQUE BLACK WHITE', 'Quantity': 10, 'InvoiceDate': '9/13/2011', 'UnitPrice': 2.08, 'CustomerID': 14194, 'Country': 'United Kingdom'}\n",
      "{'_id': ObjectId('682aacbef3fe068ca86a2a33'), 'InvoiceNo': 566602, 'StockCode': '85099C', 'Description': 'JUMBO  BAG BAROQUE BLACK WHITE', 'Quantity': 1, 'InvoiceDate': '9/13/2011', 'UnitPrice': 4.13, 'Country': 'United Kingdom'}\n",
      "{'_id': ObjectId('682aacbef3fe068ca86a2a68'), 'InvoiceNo': 566603, 'StockCode': '85099C', 'Description': 'JUMBO  BAG BAROQUE BLACK WHITE', 'Quantity': 1, 'InvoiceDate': '9/13/2011', 'UnitPrice': 4.13, 'Country': 'United Kingdom'}\n",
      "{'_id': ObjectId('682aacbef3fe068ca86a2c6a'), 'InvoiceNo': 566726, 'StockCode': '85099C', 'Description': 'JUMBO  BAG BAROQUE BLACK WHITE', 'Quantity': 2, 'InvoiceDate': '9/14/2011', 'UnitPrice': 2.08, 'CustomerID': 15021, 'Country': 'United Kingdom'}\n",
      "{'_id': ObjectId('682aacbef3fe068ca86a2e42'), 'InvoiceNo': 566787, 'StockCode': '85099C', 'Description': 'JUMBO  BAG BAROQUE BLACK WHITE', 'Quantity': 6, 'InvoiceDate': '9/15/2011', 'UnitPrice': 4.13, 'Country': 'United Kingdom'}\n",
      "{'_id': ObjectId('682aacbef3fe068ca86a3093'), 'InvoiceNo': 566930, 'StockCode': '85099C', 'Description': 'JUMBO  BAG BAROQUE BLACK WHITE', 'Quantity': 10, 'InvoiceDate': '9/15/2011', 'UnitPrice': 2.08, 'CustomerID': 15417, 'Country': 'United Kingdom'}\n",
      "{'_id': ObjectId('682aacbef3fe068ca86a3286'), 'InvoiceNo': 566981, 'StockCode': '85099C', 'Description': 'JUMBO  BAG BAROQUE BLACK WHITE', 'Quantity': 10, 'InvoiceDate': '9/16/2011', 'UnitPrice': 2.08, 'CustomerID': 15498, 'Country': 'United Kingdom'}\n",
      "{'_id': ObjectId('682aacbef3fe068ca86a35f8'), 'InvoiceNo': 567180, 'StockCode': '85099C', 'Description': 'JUMBO  BAG BAROQUE BLACK WHITE', 'Quantity': 2, 'InvoiceDate': '9/18/2011', 'UnitPrice': 2.08, 'CustomerID': 17802, 'Country': 'United Kingdom'}\n",
      "{'_id': ObjectId('682aacbef3fe068ca86a399f'), 'InvoiceNo': 567333, 'StockCode': '85099C', 'Description': 'JUMBO  BAG BAROQUE BLACK WHITE', 'Quantity': 20, 'InvoiceDate': '9/19/2011', 'UnitPrice': 2.08, 'CustomerID': 14282, 'Country': 'United Kingdom'}\n",
      "{'_id': ObjectId('682aacbef3fe068ca86a3cf1'), 'InvoiceNo': 567507, 'StockCode': '85099C', 'Description': 'JUMBO  BAG BAROQUE BLACK WHITE', 'Quantity': 21, 'InvoiceDate': '9/20/2011', 'UnitPrice': 4.13, 'Country': 'United Kingdom'}\n",
      "{'_id': ObjectId('682aacbef3fe068ca86a3ee7'), 'InvoiceNo': 567635, 'StockCode': '85099C', 'Description': 'JUMBO  BAG BAROQUE BLACK WHITE', 'Quantity': 20, 'InvoiceDate': '9/21/2011', 'UnitPrice': 2.08, 'CustomerID': 16523, 'Country': 'United Kingdom'}\n",
      "{'_id': ObjectId('682aacbef3fe068ca86a4142'), 'InvoiceNo': 567667, 'StockCode': '85099C', 'Description': 'JUMBO  BAG BAROQUE BLACK WHITE', 'Quantity': 1, 'InvoiceDate': '9/21/2011', 'UnitPrice': 4.13, 'Country': 'United Kingdom'}\n",
      "{'_id': ObjectId('682aacbef3fe068ca86a4472'), 'InvoiceNo': 567794, 'StockCode': '85099C', 'Description': 'JUMBO  BAG BAROQUE BLACK WHITE', 'Quantity': 20, 'InvoiceDate': '9/22/2011', 'UnitPrice': 1.79, 'CustomerID': 17581, 'Country': 'United Kingdom'}\n",
      "{'_id': ObjectId('682aacbef3fe068ca86a46d0'), 'InvoiceNo': 567879, 'StockCode': '85099C', 'Description': 'JUMBO  BAG BAROQUE BLACK WHITE', 'Quantity': 10, 'InvoiceDate': '9/22/2011', 'UnitPrice': 2.08, 'CustomerID': 16161, 'Country': 'United Kingdom'}\n",
      "{'_id': ObjectId('682aacbef3fe068ca86a4797'), 'InvoiceNo': 567901, 'StockCode': '85099C', 'Description': 'JUMBO  BAG BAROQUE BLACK WHITE', 'Quantity': 6, 'InvoiceDate': '9/22/2011', 'UnitPrice': 2.08, 'Country': 'United Kingdom'}\n",
      "{'_id': ObjectId('682aacbef3fe068ca86a4b0e'), 'InvoiceNo': 568057, 'StockCode': '85099C', 'Description': 'JUMBO  BAG BAROQUE BLACK WHITE', 'Quantity': 7, 'InvoiceDate': '9/23/2011', 'UnitPrice': 4.13, 'Country': 'United Kingdom'}\n",
      "{'_id': ObjectId('682aacbef3fe068ca86a4ba9'), 'InvoiceNo': 568061, 'StockCode': '85099C', 'Description': 'JUMBO  BAG BAROQUE BLACK WHITE', 'Quantity': 1, 'InvoiceDate': '9/23/2011', 'UnitPrice': 2.08, 'CustomerID': 16910, 'Country': 'United Kingdom'}\n",
      "{'_id': ObjectId('682aacbef3fe068ca86a5630'), 'InvoiceNo': 568428, 'StockCode': '85099C', 'Description': 'JUMBO  BAG BAROQUE BLACK WHITE', 'Quantity': 1, 'InvoiceDate': '9/27/2011', 'UnitPrice': 2.08, 'CustomerID': 14419, 'Country': 'United Kingdom'}\n",
      "{'_id': ObjectId('682aacbef3fe068ca86a573a'), 'InvoiceNo': 568527, 'StockCode': '85099C', 'Description': 'JUMBO  BAG BAROQUE BLACK WHITE', 'Quantity': 10, 'InvoiceDate': '9/27/2011', 'UnitPrice': 2.08, 'CustomerID': 13178, 'Country': 'United Kingdom'}\n",
      "{'_id': ObjectId('682aacbef3fe068ca86a5a97'), 'InvoiceNo': 568667, 'StockCode': '85099C', 'Description': 'JUMBO  BAG BAROQUE BLACK WHITE', 'Quantity': 2, 'InvoiceDate': '9/28/2011', 'UnitPrice': 2.08, 'CustomerID': 14606, 'Country': 'United Kingdom'}\n",
      "{'_id': ObjectId('682aacbef3fe068ca86a5dbb'), 'InvoiceNo': 568719, 'StockCode': '85099C', 'Description': 'JUMBO  BAG BAROQUE BLACK WHITE', 'Quantity': 1, 'InvoiceDate': '9/28/2011', 'UnitPrice': 4.13, 'Country': 'United Kingdom'}\n",
      "{'_id': ObjectId('682aacbef3fe068ca86a5f27'), 'InvoiceNo': 568801, 'StockCode': '85099C', 'Description': 'JUMBO  BAG BAROQUE BLACK WHITE', 'Quantity': 20, 'InvoiceDate': '9/29/2011', 'UnitPrice': 2.08, 'CustomerID': 14475, 'Country': 'United Kingdom'}\n",
      "{'_id': ObjectId('682aacbef3fe068ca86a6271'), 'InvoiceNo': 568989, 'StockCode': '85099C', 'Description': 'JUMBO  BAG BAROQUE BLACK WHITE', 'Quantity': 10, 'InvoiceDate': '9/29/2011', 'UnitPrice': 2.08, 'CustomerID': 14709, 'Country': 'United Kingdom'}\n",
      "{'_id': ObjectId('682aacbef3fe068ca86a62ab'), 'InvoiceNo': 568993, 'StockCode': '85099C', 'Description': 'JUMBO  BAG BAROQUE BLACK WHITE', 'Quantity': 10, 'InvoiceDate': '9/29/2011', 'UnitPrice': 2.08, 'CustomerID': 15062, 'Country': 'United Kingdom'}\n",
      "{'_id': ObjectId('682aacbef3fe068ca86a62be'), 'InvoiceNo': 568995, 'StockCode': '85099C', 'Description': 'JUMBO  BAG BAROQUE BLACK WHITE', 'Quantity': 10, 'InvoiceDate': '9/29/2011', 'UnitPrice': 2.08, 'CustomerID': 16779, 'Country': 'United Kingdom'}\n",
      "{'_id': ObjectId('682aacbef3fe068ca86a6623'), 'InvoiceNo': 569137, 'StockCode': '85099C', 'Description': 'JUMBO  BAG BAROQUE BLACK WHITE', 'Quantity': 6, 'InvoiceDate': '9/30/2011', 'UnitPrice': 4.13, 'Country': 'United Kingdom'}\n",
      "{'_id': ObjectId('682aacbef3fe068ca86a67ea'), 'InvoiceNo': 569220, 'StockCode': '85099C', 'Description': 'JUMBO  BAG BAROQUE BLACK WHITE', 'Quantity': 1, 'InvoiceDate': '10/2/2011', 'UnitPrice': 2.08, 'CustomerID': 16007, 'Country': 'United Kingdom'}\n",
      "{'_id': ObjectId('682aacbef3fe068ca86a6d86'), 'InvoiceNo': 569372, 'StockCode': '85099C', 'Description': 'JUMBO  BAG BAROQUE BLACK WHITE', 'Quantity': 1, 'InvoiceDate': '10/3/2011', 'UnitPrice': 4.13, 'Country': 'United Kingdom'}\n",
      "{'_id': ObjectId('682aacbef3fe068ca86a7b72'), 'InvoiceNo': 569866, 'StockCode': '85099C', 'Description': 'JUMBO  BAG BAROQUE BLACK WHITE', 'Quantity': 20, 'InvoiceDate': '10/6/2011', 'UnitPrice': 2.08, 'CustomerID': 12757, 'Country': 'Portugal'}\n",
      "{'_id': ObjectId('682aacbef3fe068ca86a80b3'), 'InvoiceNo': 570103, 'StockCode': '85099C', 'Description': 'JUMBO  BAG BAROQUE BLACK WHITE', 'Quantity': 4, 'InvoiceDate': '10/7/2011', 'UnitPrice': 2.08, 'CustomerID': 15719, 'Country': 'United Kingdom'}\n",
      "{'_id': ObjectId('682aacbef3fe068ca86a80eb'), 'InvoiceNo': 570111, 'StockCode': '85099C', 'Description': 'JUMBO  BAG BAROQUE BLACK WHITE', 'Quantity': 2, 'InvoiceDate': '10/7/2011', 'UnitPrice': 2.08, 'CustomerID': 15005, 'Country': 'United Kingdom'}\n",
      "{'_id': ObjectId('682aacbef3fe068ca86a8148'), 'InvoiceNo': 570121, 'StockCode': '85099C', 'Description': 'JUMBO  BAG BAROQUE BLACK WHITE', 'Quantity': 10, 'InvoiceDate': '10/7/2011', 'UnitPrice': 2.08, 'CustomerID': 13419, 'Country': 'United Kingdom'}\n",
      "{'_id': ObjectId('682aacbef3fe068ca86a8373'), 'InvoiceNo': 'C570203', 'StockCode': '85099C', 'Description': 'JUMBO  BAG BAROQUE BLACK WHITE', 'Quantity': -2, 'InvoiceDate': '10/7/2011', 'UnitPrice': 1.79, 'CustomerID': 15311, 'Country': 'United Kingdom'}\n",
      "{'_id': ObjectId('682aacbef3fe068ca86a84e2'), 'InvoiceNo': 570229, 'StockCode': '85099C', 'Description': 'JUMBO  BAG BAROQUE BLACK WHITE', 'Quantity': 1, 'InvoiceDate': '10/9/2011', 'UnitPrice': 2.08, 'CustomerID': 15756, 'Country': 'United Kingdom'}\n",
      "{'_id': ObjectId('682aacbef3fe068ca86a8b74'), 'InvoiceNo': 570482, 'StockCode': '85099C', 'Description': 'JUMBO  BAG BAROQUE BLACK WHITE', 'Quantity': 1, 'InvoiceDate': '10/10/2011', 'UnitPrice': 2.08, 'CustomerID': 17459, 'Country': 'United Kingdom'}\n",
      "{'_id': ObjectId('682aacbff3fe068ca86a907c'), 'InvoiceNo': 570688, 'StockCode': '85099C', 'Description': 'JUMBO  BAG BAROQUE BLACK WHITE', 'Quantity': 2, 'InvoiceDate': '10/11/2011', 'UnitPrice': 4.13, 'Country': 'United Kingdom'}\n",
      "{'_id': ObjectId('682aacbff3fe068ca86a924f'), 'InvoiceNo': 570797, 'StockCode': '85099C', 'Description': 'JUMBO  BAG BAROQUE BLACK WHITE', 'Quantity': 100, 'InvoiceDate': '10/12/2011', 'UnitPrice': 1.79, 'CustomerID': 15311, 'Country': 'United Kingdom'}\n",
      "{'_id': ObjectId('682aacbff3fe068ca86a93fc'), 'InvoiceNo': 570864, 'StockCode': '85099C', 'Description': 'JUMBO  BAG BAROQUE BLACK WHITE', 'Quantity': 10, 'InvoiceDate': '10/12/2011', 'UnitPrice': 2.08, 'CustomerID': 16945, 'Country': 'United Kingdom'}\n",
      "{'_id': ObjectId('682aacbff3fe068ca86a9541'), 'InvoiceNo': 570872, 'StockCode': '85099C', 'Description': 'JUMBO  BAG BAROQUE BLACK WHITE', 'Quantity': 6, 'InvoiceDate': '10/12/2011', 'UnitPrice': 4.13, 'Country': 'United Kingdom'}\n",
      "{'_id': ObjectId('682aacbff3fe068ca86a963e'), 'InvoiceNo': 571006, 'StockCode': '85099C', 'Description': 'JUMBO  BAG BAROQUE BLACK WHITE', 'Quantity': 10, 'InvoiceDate': '10/13/2011', 'UnitPrice': 2.08, 'CustomerID': 17063, 'Country': 'United Kingdom'}\n",
      "{'_id': ObjectId('682aacbff3fe068ca86a989c'), 'InvoiceNo': 571061, 'StockCode': '85099C', 'Description': 'JUMBO  BAG BAROQUE BLACK WHITE', 'Quantity': 7, 'InvoiceDate': '10/13/2011', 'UnitPrice': 4.13, 'Country': 'United Kingdom'}\n",
      "{'_id': ObjectId('682aacbff3fe068ca86a9abf'), 'InvoiceNo': 571184, 'StockCode': '85099C', 'Description': 'JUMBO  BAG BAROQUE BLACK WHITE', 'Quantity': 20, 'InvoiceDate': '10/14/2011', 'UnitPrice': 2.08, 'CustomerID': 15478, 'Country': 'United Kingdom'}\n",
      "{'_id': ObjectId('682aacbff3fe068ca86a9d8f'), 'InvoiceNo': 571263, 'StockCode': '85099C', 'Description': 'JUMBO  BAG BAROQUE BLACK WHITE', 'Quantity': 10, 'InvoiceDate': '10/16/2011', 'UnitPrice': 2.08, 'CustomerID': 14910, 'Country': 'United Kingdom'}\n",
      "{'_id': ObjectId('682aacbff3fe068ca86aa000'), 'InvoiceNo': 571299, 'StockCode': '85099C', 'Description': 'JUMBO  BAG BAROQUE BLACK WHITE', 'Quantity': 100, 'InvoiceDate': '10/17/2011', 'UnitPrice': 1.79, 'CustomerID': 13798, 'Country': 'United Kingdom'}\n",
      "{'_id': ObjectId('682aacbff3fe068ca86aa065'), 'InvoiceNo': 571305, 'StockCode': '85099C', 'Description': 'JUMBO  BAG BAROQUE BLACK WHITE', 'Quantity': 5, 'InvoiceDate': '10/17/2011', 'UnitPrice': 4.13, 'Country': 'United Kingdom'}\n",
      "{'_id': ObjectId('682aacbff3fe068ca86aa455'), 'InvoiceNo': 571497, 'StockCode': '85099C', 'Description': 'JUMBO  BAG BAROQUE BLACK WHITE', 'Quantity': 20, 'InvoiceDate': '10/17/2011', 'UnitPrice': 2.08, 'CustomerID': 14841, 'Country': 'United Kingdom'}\n",
      "{'_id': ObjectId('682aacbff3fe068ca86aa74f'), 'InvoiceNo': 571654, 'StockCode': '85099C', 'Description': 'JUMBO  BAG BAROQUE BLACK WHITE', 'Quantity': 4, 'InvoiceDate': '10/18/2011', 'UnitPrice': 2.08, 'CustomerID': 18118, 'Country': 'United Kingdom'}\n",
      "{'_id': ObjectId('682aacbff3fe068ca86aa817'), 'InvoiceNo': 571671, 'StockCode': '85099C', 'Description': 'JUMBO  BAG BAROQUE BLACK WHITE', 'Quantity': 4, 'InvoiceDate': '10/18/2011', 'UnitPrice': 2.08, 'CustomerID': 16940, 'Country': 'United Kingdom'}\n",
      "{'_id': ObjectId('682aacbff3fe068ca86aa96b'), 'InvoiceNo': 571703, 'StockCode': '85099C', 'Description': 'JUMBO  BAG BAROQUE BLACK WHITE', 'Quantity': 1, 'InvoiceDate': '10/18/2011', 'UnitPrice': 2.08, 'Country': 'United Kingdom'}\n",
      "{'_id': ObjectId('682aacbff3fe068ca86aab3b'), 'InvoiceNo': 571716, 'StockCode': '85099C', 'Description': 'JUMBO  BAG BAROQUE BLACK WHITE', 'Quantity': 5, 'InvoiceDate': '10/18/2011', 'UnitPrice': 2.08, 'Country': 'United Kingdom'}\n",
      "{'_id': ObjectId('682aacbff3fe068ca86aaca8'), 'InvoiceNo': 571797, 'StockCode': '85099C', 'Description': 'JUMBO  BAG BAROQUE BLACK WHITE', 'Quantity': 9, 'InvoiceDate': '10/19/2011', 'UnitPrice': 4.13, 'Country': 'United Kingdom'}\n",
      "{'_id': ObjectId('682aacbff3fe068ca86aada0'), 'InvoiceNo': 571846, 'StockCode': '85099C', 'Description': 'JUMBO  BAG BAROQUE BLACK WHITE', 'Quantity': 1, 'InvoiceDate': '10/19/2011', 'UnitPrice': 2.08, 'CustomerID': 17841, 'Country': 'United Kingdom'}\n",
      "{'_id': ObjectId('682aacbff3fe068ca86aadfb'), 'InvoiceNo': 571852, 'StockCode': '85099C', 'Description': 'JUMBO  BAG BAROQUE BLACK WHITE', 'Quantity': 10, 'InvoiceDate': '10/19/2011', 'UnitPrice': 2.08, 'CustomerID': 14273, 'Country': 'United Kingdom'}\n",
      "{'_id': ObjectId('682aacbff3fe068ca86ab0e2'), 'InvoiceNo': 572028, 'StockCode': '85099C', 'Description': 'JUMBO  BAG BAROQUE BLACK WHITE', 'Quantity': 10, 'InvoiceDate': '10/20/2011', 'UnitPrice': 2.08, 'CustomerID': 15296, 'Country': 'United Kingdom'}\n",
      "{'_id': ObjectId('682aacbff3fe068ca86abe07'), 'InvoiceNo': 572541, 'StockCode': '85099C', 'Description': 'JUMBO  BAG BAROQUE BLACK WHITE', 'Quantity': 3, 'InvoiceDate': '10/24/2011', 'UnitPrice': 2.08, 'CustomerID': 17315, 'Country': 'United Kingdom'}\n",
      "{'_id': ObjectId('682aacbff3fe068ca86ac070'), 'InvoiceNo': 572553, 'StockCode': '85099C', 'Description': 'JUMBO  BAG BAROQUE BLACK WHITE', 'Quantity': 2, 'InvoiceDate': '10/24/2011', 'UnitPrice': 4.13, 'Country': 'United Kingdom'}\n",
      "{'_id': ObjectId('682aacbff3fe068ca86ac14b'), 'InvoiceNo': 572650, 'StockCode': '85099C', 'Description': 'JUMBO  BAG BAROQUE BLACK WHITE', 'Quantity': 2, 'InvoiceDate': '10/25/2011', 'UnitPrice': 2.08, 'CustomerID': 15506, 'Country': 'United Kingdom'}\n",
      "{'_id': ObjectId('682aacbff3fe068ca86ac5fa'), 'InvoiceNo': 572843, 'StockCode': '85099C', 'Description': 'JUMBO  BAG BAROQUE BLACK WHITE', 'Quantity': 10, 'InvoiceDate': '10/26/2011', 'UnitPrice': 2.08, 'CustomerID': 14315, 'Country': 'United Kingdom'}\n",
      "{'_id': ObjectId('682aacbff3fe068ca86acc65'), 'InvoiceNo': 573122, 'StockCode': '85099C', 'Description': 'JUMBO  BAG BAROQUE BLACK WHITE', 'Quantity': 3, 'InvoiceDate': '10/27/2011', 'UnitPrice': 2.08, 'CustomerID': 14357, 'Country': 'United Kingdom'}\n",
      "{'_id': ObjectId('682aacbff3fe068ca86ad341'), 'InvoiceNo': 573347, 'StockCode': '85099C', 'Description': 'JUMBO  BAG BAROQUE BLACK WHITE', 'Quantity': 3, 'InvoiceDate': '10/30/2011', 'UnitPrice': 2.08, 'CustomerID': 13137, 'Country': 'United Kingdom'}\n",
      "{'_id': ObjectId('682aacbff3fe068ca86ad651'), 'InvoiceNo': 573406, 'StockCode': '85099C', 'Description': 'JUMBO  BAG BAROQUE BLACK WHITE', 'Quantity': 10, 'InvoiceDate': '10/30/2011', 'UnitPrice': 2.08, 'CustomerID': 14112, 'Country': 'United Kingdom'}\n",
      "{'_id': ObjectId('682aacbff3fe068ca86adcde'), 'InvoiceNo': 573585, 'StockCode': '85099C', 'Description': 'JUMBO  BAG BAROQUE BLACK WHITE', 'Quantity': 6, 'InvoiceDate': '10/31/2011', 'UnitPrice': 4.13, 'Country': 'United Kingdom'}\n",
      "{'_id': ObjectId('682aacbff3fe068ca86ae42b'), 'InvoiceNo': 574070, 'StockCode': '85099C', 'Description': 'JUMBO  BAG BAROQUE BLACK WHITE', 'Quantity': 10, 'InvoiceDate': '11/2/2011', 'UnitPrice': 2.08, 'CustomerID': 16748, 'Country': 'United Kingdom'}\n",
      "{'_id': ObjectId('682aacbff3fe068ca86aec0f'), 'InvoiceNo': 574353, 'StockCode': '85099C', 'Description': 'JUMBO  BAG BAROQUE BLACK WHITE', 'Quantity': 5, 'InvoiceDate': '11/4/2011', 'UnitPrice': 2.08, 'CustomerID': 14659, 'Country': 'United Kingdom'}\n",
      "{'_id': ObjectId('682aacbff3fe068ca86af0e2'), 'InvoiceNo': 574587, 'StockCode': '85099C', 'Description': 'JUMBO  BAG BAROQUE BLACK WHITE', 'Quantity': 10, 'InvoiceDate': '11/6/2011', 'UnitPrice': 2.08, 'CustomerID': 14936, 'Country': 'Channel Islands'}\n",
      "{'_id': ObjectId('682aacbff3fe068ca86af1b5'), 'InvoiceNo': 574659, 'StockCode': '85099C', 'Description': 'JUMBO  BAG BAROQUE BLACK WHITE', 'Quantity': 2, 'InvoiceDate': '11/6/2011', 'UnitPrice': 2.08, 'CustomerID': 16942, 'Country': 'United Kingdom'}\n",
      "{'_id': ObjectId('682aacbff3fe068ca86af3a5'), 'InvoiceNo': 574684, 'StockCode': '85099C', 'Description': 'JUMBO  BAG BAROQUE BLACK WHITE', 'Quantity': 10, 'InvoiceDate': '11/6/2011', 'UnitPrice': 1.79, 'CustomerID': 17581, 'Country': 'United Kingdom'}\n",
      "{'_id': ObjectId('682aacbff3fe068ca86af7d6'), 'InvoiceNo': 574756, 'StockCode': '85099C', 'Description': 'JUMBO  BAG BAROQUE BLACK WHITE', 'Quantity': 20, 'InvoiceDate': '11/7/2011', 'UnitPrice': 2.08, 'CustomerID': 13534, 'Country': 'United Kingdom'}\n",
      "{'_id': ObjectId('682aacbff3fe068ca86af93d'), 'InvoiceNo': 574863, 'StockCode': '85099C', 'Description': 'JUMBO  BAG BAROQUE BLACK WHITE', 'Quantity': 4, 'InvoiceDate': '11/7/2011', 'UnitPrice': 2.08, 'CustomerID': 15719, 'Country': 'United Kingdom'}\n",
      "{'_id': ObjectId('682aacbff3fe068ca86afe0f'), 'InvoiceNo': 'C575042', 'StockCode': '85099C', 'Description': 'JUMBO  BAG BAROQUE BLACK WHITE', 'Quantity': -1, 'InvoiceDate': '11/8/2011', 'UnitPrice': 2.08, 'CustomerID': 16764, 'Country': 'United Kingdom'}\n",
      "{'_id': ObjectId('682aacbff3fe068ca86afee3'), 'InvoiceNo': 575070, 'StockCode': '85099C', 'Description': 'JUMBO  BAG BAROQUE BLACK WHITE', 'Quantity': 3, 'InvoiceDate': '11/8/2011', 'UnitPrice': 2.08, 'CustomerID': 17841, 'Country': 'United Kingdom'}\n",
      "{'_id': ObjectId('682aacbff3fe068ca86afefb'), 'InvoiceNo': 575070, 'StockCode': '85099C', 'Description': 'JUMBO  BAG BAROQUE BLACK WHITE', 'Quantity': 6, 'InvoiceDate': '11/8/2011', 'UnitPrice': 2.08, 'CustomerID': 17841, 'Country': 'United Kingdom'}\n",
      "{'_id': ObjectId('682aacbff3fe068ca86aff17'), 'InvoiceNo': 575071, 'StockCode': '85099C', 'Description': 'JUMBO  BAG BAROQUE BLACK WHITE', 'Quantity': 10, 'InvoiceDate': '11/8/2011', 'UnitPrice': 2.08, 'CustomerID': 12990, 'Country': 'United Kingdom'}\n",
      "{'_id': ObjectId('682aacbff3fe068ca86aff49'), 'InvoiceNo': 575073, 'StockCode': '85099C', 'Description': 'JUMBO  BAG BAROQUE BLACK WHITE', 'Quantity': 4, 'InvoiceDate': '11/8/2011', 'UnitPrice': 2.08, 'CustomerID': 13975, 'Country': 'United Kingdom'}\n",
      "{'_id': ObjectId('682aacbff3fe068ca86b03a8'), 'InvoiceNo': 575181, 'StockCode': '85099C', 'Description': 'JUMBO  BAG BAROQUE BLACK WHITE', 'Quantity': 10, 'InvoiceDate': '11/9/2011', 'UnitPrice': 2.08, 'CustomerID': 14709, 'Country': 'United Kingdom'}\n",
      "{'_id': ObjectId('682aacbff3fe068ca86b04d9'), 'InvoiceNo': 'C575224', 'StockCode': '85099C', 'Description': 'JUMBO  BAG BAROQUE BLACK WHITE', 'Quantity': -100, 'InvoiceDate': '11/9/2011', 'UnitPrice': 1.79, 'CustomerID': 17511, 'Country': 'United Kingdom'}\n",
      "{'_id': ObjectId('682aacbff3fe068ca86b06f4'), 'InvoiceNo': 575418, 'StockCode': '85099C', 'Description': 'JUMBO  BAG BAROQUE BLACK WHITE', 'Quantity': 10, 'InvoiceDate': '11/9/2011', 'UnitPrice': 2.08, 'CustomerID': 16986, 'Country': 'United Kingdom'}\n",
      "{'_id': ObjectId('682aacbff3fe068ca86b114d'), 'InvoiceNo': 575760, 'StockCode': '85099C', 'Description': 'JUMBO  BAG BAROQUE BLACK WHITE', 'Quantity': 3, 'InvoiceDate': '11/11/2011', 'UnitPrice': 2.08, 'CustomerID': 15965, 'Country': 'United Kingdom'}\n",
      "{'_id': ObjectId('682aacbff3fe068ca86b161b'), 'InvoiceNo': 575919, 'StockCode': '85099C', 'Description': 'JUMBO  BAG BAROQUE BLACK WHITE', 'Quantity': 100, 'InvoiceDate': '11/11/2011', 'UnitPrice': 1.79, 'CustomerID': 15311, 'Country': 'United Kingdom'}\n",
      "{'_id': ObjectId('682aacbff3fe068ca86b205a'), 'InvoiceNo': 576255, 'StockCode': '85099C', 'Description': 'JUMBO  BAG BAROQUE BLACK WHITE', 'Quantity': 1, 'InvoiceDate': '11/14/2011', 'UnitPrice': 2.08, 'CustomerID': 15993, 'Country': 'United Kingdom'}\n",
      "{'_id': ObjectId('682aacc0f3fe068ca86b23c7'), 'InvoiceNo': 576359, 'StockCode': '85099C', 'Description': 'JUMBO  BAG BAROQUE BLACK WHITE', 'Quantity': 100, 'InvoiceDate': '11/14/2011', 'UnitPrice': 1.79, 'CustomerID': 14680, 'Country': 'United Kingdom'}\n",
      "{'_id': ObjectId('682aacc0f3fe068ca86b2485'), 'InvoiceNo': 576381, 'StockCode': '85099C', 'Description': 'JUMBO  BAG BAROQUE BLACK WHITE', 'Quantity': 10, 'InvoiceDate': '11/15/2011', 'UnitPrice': 2.08, 'CustomerID': 12839, 'Country': 'United Kingdom'}\n",
      "{'_id': ObjectId('682aacc0f3fe068ca86b26cb'), 'InvoiceNo': 576587, 'StockCode': '85099C', 'Description': 'JUMBO  BAG BAROQUE BLACK WHITE', 'Quantity': 4, 'InvoiceDate': '11/15/2011', 'UnitPrice': 2.08, 'CustomerID': 18123, 'Country': 'United Kingdom'}\n",
      "{'_id': ObjectId('682aacc0f3fe068ca86b2b5d'), 'InvoiceNo': 576644, 'StockCode': '85099C', 'Description': 'JUMBO  BAG BAROQUE BLACK WHITE', 'Quantity': 4, 'InvoiceDate': '11/16/2011', 'UnitPrice': 4.13, 'Country': 'United Kingdom'}\n",
      "{'_id': ObjectId('682aacc0f3fe068ca86b2c24'), 'InvoiceNo': 576654, 'StockCode': '85099C', 'Description': 'JUMBO  BAG BAROQUE BLACK WHITE', 'Quantity': 5, 'InvoiceDate': '11/16/2011', 'UnitPrice': 2.08, 'CustomerID': 15584, 'Country': 'United Kingdom'}\n",
      "{'_id': ObjectId('682aacc0f3fe068ca86b2e0a'), 'InvoiceNo': 576768, 'StockCode': '85099C', 'Description': 'JUMBO  BAG BAROQUE BLACK WHITE', 'Quantity': 100, 'InvoiceDate': '11/16/2011', 'UnitPrice': 1.79, 'CustomerID': 13408, 'Country': 'United Kingdom'}\n",
      "{'_id': ObjectId('682aacc0f3fe068ca86b2e37'), 'InvoiceNo': 576775, 'StockCode': '85099C', 'Description': 'JUMBO  BAG BAROQUE BLACK WHITE', 'Quantity': 100, 'InvoiceDate': '11/16/2011', 'UnitPrice': 1.79, 'CustomerID': 13629, 'Country': 'United Kingdom'}\n",
      "{'_id': ObjectId('682aacc0f3fe068ca86b34f9'), 'InvoiceNo': 577016, 'StockCode': '85099C', 'Description': 'JUMBO  BAG BAROQUE BLACK WHITE', 'Quantity': 10, 'InvoiceDate': '11/17/2011', 'UnitPrice': 2.08, 'CustomerID': 17095, 'Country': 'United Kingdom'}\n",
      "{'_id': ObjectId('682aacc0f3fe068ca86b3961'), 'InvoiceNo': 577099, 'StockCode': '85099C', 'Description': 'JUMBO  BAG BAROQUE BLACK WHITE', 'Quantity': 10, 'InvoiceDate': '11/17/2011', 'UnitPrice': 2.08, 'CustomerID': 13313, 'Country': 'United Kingdom'}\n",
      "{'_id': ObjectId('682aacc0f3fe068ca86b4030'), 'InvoiceNo': 577410, 'StockCode': '85099C', 'Description': 'JUMBO  BAG BAROQUE BLACK WHITE', 'Quantity': 3, 'InvoiceDate': '11/20/2011', 'UnitPrice': 2.08, 'CustomerID': 14664, 'Country': 'United Kingdom'}\n",
      "{'_id': ObjectId('682aacc0f3fe068ca86b44f3'), 'InvoiceNo': 577535, 'StockCode': '85099C', 'Description': 'JUMBO  BAG BAROQUE BLACK WHITE', 'Quantity': 1, 'InvoiceDate': '11/20/2011', 'UnitPrice': 2.08, 'CustomerID': 14071, 'Country': 'United Kingdom'}\n",
      "{'_id': ObjectId('682aacc0f3fe068ca86b48ad'), 'InvoiceNo': 577736, 'StockCode': '85099C', 'Description': 'JUMBO  BAG BAROQUE BLACK WHITE', 'Quantity': 1, 'InvoiceDate': '11/21/2011', 'UnitPrice': 2.08, 'CustomerID': 14606, 'Country': 'United Kingdom'}\n",
      "{'_id': ObjectId('682aacc0f3fe068ca86b49e6'), 'InvoiceNo': 577768, 'StockCode': '85099C', 'Description': 'JUMBO  BAG BAROQUE BLACK WHITE', 'Quantity': 1, 'InvoiceDate': '11/21/2011', 'UnitPrice': 4.13, 'Country': 'United Kingdom'}\n",
      "{'_id': ObjectId('682aacc0f3fe068ca86b5179'), 'InvoiceNo': 578065, 'StockCode': '85099C', 'Description': 'JUMBO  BAG BAROQUE BLACK WHITE', 'Quantity': 2, 'InvoiceDate': '11/22/2011', 'UnitPrice': 4.13, 'Country': 'United Kingdom'}\n",
      "{'_id': ObjectId('682aacc0f3fe068ca86b5755'), 'InvoiceNo': 578255, 'StockCode': '85099C', 'Description': 'JUMBO  BAG BAROQUE BLACK WHITE', 'Quantity': 2, 'InvoiceDate': '11/23/2011', 'UnitPrice': 2.08, 'CustomerID': 14675, 'Country': 'United Kingdom'}\n",
      "{'_id': ObjectId('682aacc0f3fe068ca86b5f7f'), 'InvoiceNo': 578513, 'StockCode': '85099C', 'Description': 'JUMBO  BAG BAROQUE BLACK WHITE', 'Quantity': 20, 'InvoiceDate': '11/24/2011', 'UnitPrice': 2.08, 'CustomerID': 16609, 'Country': 'United Kingdom'}\n",
      "{'_id': ObjectId('682aacc0f3fe068ca86b5fb7'), 'InvoiceNo': 578516, 'StockCode': '85099C', 'Description': 'JUMBO  BAG BAROQUE BLACK WHITE', 'Quantity': 10, 'InvoiceDate': '11/24/2011', 'UnitPrice': 2.08, 'CustomerID': 14591, 'Country': 'United Kingdom'}\n",
      "{'_id': ObjectId('682aacc0f3fe068ca86b5fd0'), 'InvoiceNo': 578518, 'StockCode': '85099C', 'Description': 'JUMBO  BAG BAROQUE BLACK WHITE', 'Quantity': 3, 'InvoiceDate': '11/24/2011', 'UnitPrice': 2.08, 'CustomerID': 14606, 'Country': 'United Kingdom'}\n",
      "{'_id': ObjectId('682aacc0f3fe068ca86b6166'), 'InvoiceNo': 578627, 'StockCode': '85099C', 'Description': 'JUMBO  BAG BAROQUE BLACK WHITE', 'Quantity': 10, 'InvoiceDate': '11/24/2011', 'UnitPrice': 2.08, 'CustomerID': 14709, 'Country': 'United Kingdom'}\n",
      "{'_id': ObjectId('682aacc0f3fe068ca86b6896'), 'InvoiceNo': 578852, 'StockCode': '85099C', 'Description': 'JUMBO  BAG BAROQUE BLACK WHITE', 'Quantity': 2, 'InvoiceDate': '11/27/2011', 'UnitPrice': 2.08, 'CustomerID': 17841, 'Country': 'United Kingdom'}\n",
      "{'_id': ObjectId('682aacc0f3fe068ca86b6ec2'), 'InvoiceNo': 579116, 'StockCode': '85099C', 'Description': 'JUMBO  BAG BAROQUE BLACK WHITE', 'Quantity': 4, 'InvoiceDate': '11/28/2011', 'UnitPrice': 2.08, 'CustomerID': 17346, 'Country': 'United Kingdom'}\n",
      "{'_id': ObjectId('682aacc0f3fe068ca86b7285'), 'InvoiceNo': 579187, 'StockCode': '85099C', 'Description': 'JUMBO  BAG BAROQUE BLACK WHITE', 'Quantity': 1, 'InvoiceDate': '11/28/2011', 'UnitPrice': 4.13, 'Country': 'United Kingdom'}\n",
      "{'_id': ObjectId('682aacc0f3fe068ca86b7460'), 'InvoiceNo': 579281, 'StockCode': '85099C', 'Description': 'JUMBO  BAG BAROQUE BLACK WHITE', 'Quantity': 20, 'InvoiceDate': '11/29/2011', 'UnitPrice': 2.08, 'CustomerID': 12375, 'Country': 'Finland'}\n",
      "{'_id': ObjectId('682aacc0f3fe068ca86b755b'), 'InvoiceNo': 579297, 'StockCode': '85099C', 'Description': 'JUMBO  BAG BAROQUE BLACK WHITE', 'Quantity': 5, 'InvoiceDate': '11/29/2011', 'UnitPrice': 4.13, 'Country': 'United Kingdom'}\n",
      "{'_id': ObjectId('682aacc0f3fe068ca86b7635'), 'InvoiceNo': 579403, 'StockCode': '85099C', 'Description': 'JUMBO  BAG BAROQUE BLACK WHITE', 'Quantity': 10, 'InvoiceDate': '11/29/2011', 'UnitPrice': 2.08, 'CustomerID': 14503, 'Country': 'United Kingdom'}\n",
      "{'_id': ObjectId('682aacc0f3fe068ca86b76dd'), 'InvoiceNo': 579430, 'StockCode': '85099C', 'Description': 'JUMBO  BAG BAROQUE BLACK WHITE', 'Quantity': 1, 'InvoiceDate': '11/29/2011', 'UnitPrice': 2.08, 'CustomerID': 12748, 'Country': 'United Kingdom'}\n",
      "{'_id': ObjectId('682aacc0f3fe068ca86b778d'), 'InvoiceNo': 579457, 'StockCode': '85099C', 'Description': 'JUMBO  BAG BAROQUE BLACK WHITE', 'Quantity': 30, 'InvoiceDate': '11/29/2011', 'UnitPrice': 2.08, 'CustomerID': 14824, 'Country': 'United Kingdom'}\n",
      "{'_id': ObjectId('682aacc0f3fe068ca86b78bf'), 'InvoiceNo': 579471, 'StockCode': '85099C', 'Description': 'JUMBO  BAG BAROQUE BLACK WHITE', 'Quantity': 5, 'InvoiceDate': '11/29/2011', 'UnitPrice': 4.13, 'Country': 'United Kingdom'}\n",
      "{'_id': ObjectId('682aacc0f3fe068ca86b791a'), 'InvoiceNo': 579491, 'StockCode': '85099C', 'Description': 'JUMBO  BAG BAROQUE BLACK WHITE', 'Quantity': 4, 'InvoiceDate': '11/29/2011', 'UnitPrice': 2.08, 'CustomerID': 14723, 'Country': 'United Kingdom'}\n",
      "{'_id': ObjectId('682aacc0f3fe068ca86b7d1b'), 'InvoiceNo': 579546, 'StockCode': '85099C', 'Description': 'JUMBO  BAG BAROQUE BLACK WHITE', 'Quantity': 10, 'InvoiceDate': '11/30/2011', 'UnitPrice': 2.08, 'Country': 'United Kingdom'}\n",
      "{'_id': ObjectId('682aacc0f3fe068ca86b7f76'), 'InvoiceNo': 579694, 'StockCode': '85099C', 'Description': 'JUMBO  BAG BAROQUE BLACK WHITE', 'Quantity': 1, 'InvoiceDate': '11/30/2011', 'UnitPrice': 4.13, 'Country': 'United Kingdom'}\n",
      "{'_id': ObjectId('682aacc0f3fe068ca86b8027'), 'InvoiceNo': 579751, 'StockCode': '85099C', 'Description': 'JUMBO  BAG BAROQUE BLACK WHITE', 'Quantity': 2, 'InvoiceDate': '11/30/2011', 'UnitPrice': 4.13, 'Country': 'United Kingdom'}\n",
      "{'_id': ObjectId('682aacc0f3fe068ca86b81bd'), 'InvoiceNo': 579784, 'StockCode': '85099C', 'Description': 'JUMBO  BAG BAROQUE BLACK WHITE', 'Quantity': 100, 'InvoiceDate': '11/30/2011', 'UnitPrice': 1.79, 'CustomerID': 14258, 'Country': 'United Kingdom'}\n",
      "{'_id': ObjectId('682aacc0f3fe068ca86b8353'), 'InvoiceNo': 'C579926', 'StockCode': '85099C', 'Description': 'JUMBO  BAG BAROQUE BLACK WHITE', 'Quantity': -1, 'InvoiceDate': '12/1/2011', 'UnitPrice': 2.08, 'CustomerID': 14389, 'Country': 'United Kingdom'}\n",
      "{'_id': ObjectId('682aacc0f3fe068ca86b8482'), 'InvoiceNo': 580032, 'StockCode': '85099C', 'Description': 'JUMBO  BAG BAROQUE BLACK WHITE', 'Quantity': 5, 'InvoiceDate': '12/1/2011', 'UnitPrice': 2.08, 'CustomerID': 14659, 'Country': 'United Kingdom'}\n",
      "{'_id': ObjectId('682aacc0f3fe068ca86b848e'), 'InvoiceNo': 580033, 'StockCode': '85099C', 'Description': 'JUMBO  BAG BAROQUE BLACK WHITE', 'Quantity': 20, 'InvoiceDate': '12/1/2011', 'UnitPrice': 2.08, 'CustomerID': 14282, 'Country': 'United Kingdom'}\n",
      "{'_id': ObjectId('682aacc0f3fe068ca86b8521'), 'InvoiceNo': 580055, 'StockCode': '85099C', 'Description': 'JUMBO  BAG BAROQUE BLACK WHITE', 'Quantity': 30, 'InvoiceDate': '12/1/2011', 'UnitPrice': 1.79, 'CustomerID': 14298, 'Country': 'United Kingdom'}\n",
      "{'_id': ObjectId('682aacc0f3fe068ca86b85ae'), 'InvoiceNo': 580088, 'StockCode': '85099C', 'Description': 'JUMBO  BAG BAROQUE BLACK WHITE', 'Quantity': 10, 'InvoiceDate': '12/1/2011', 'UnitPrice': 2.08, 'CustomerID': 17115, 'Country': 'United Kingdom'}\n",
      "{'_id': ObjectId('682aacc0f3fe068ca86b93ab'), 'InvoiceNo': 580610, 'StockCode': '85099C', 'Description': 'JUMBO  BAG BAROQUE BLACK WHITE', 'Quantity': 3, 'InvoiceDate': '12/5/2011', 'UnitPrice': 4.13, 'Country': 'United Kingdom'}\n",
      "{'_id': ObjectId('682aacc0f3fe068ca86b9424'), 'InvoiceNo': 580612, 'StockCode': '85099C', 'Description': 'JUMBO  BAG BAROQUE BLACK WHITE', 'Quantity': 4, 'InvoiceDate': '12/5/2011', 'UnitPrice': 4.13, 'Country': 'United Kingdom'}\n",
      "{'_id': ObjectId('682aacc0f3fe068ca86b9cbf'), 'InvoiceNo': 580733, 'StockCode': '85099C', 'Description': 'JUMBO  BAG BAROQUE BLACK WHITE', 'Quantity': 10, 'InvoiceDate': '12/6/2011', 'UnitPrice': 2.08, 'CustomerID': 16929, 'Country': 'United Kingdom'}\n",
      "{'_id': ObjectId('682aacc0f3fe068ca86ba026'), 'InvoiceNo': 580911, 'StockCode': '85099C', 'Description': 'JUMBO  BAG BAROQUE BLACK WHITE', 'Quantity': 10, 'InvoiceDate': '12/6/2011', 'UnitPrice': 2.08, 'CustomerID': 14503, 'Country': 'United Kingdom'}\n",
      "{'_id': ObjectId('682aacc0f3fe068ca86ba17c'), 'InvoiceNo': 580981, 'StockCode': '85099C', 'Description': 'JUMBO  BAG BAROQUE BLACK WHITE', 'Quantity': 10, 'InvoiceDate': '12/6/2011', 'UnitPrice': 2.08, 'CustomerID': 16201, 'Country': 'United Kingdom'}\n",
      "{'_id': ObjectId('682aacc0f3fe068ca86ba478'), 'InvoiceNo': 581023, 'StockCode': '85099C', 'Description': 'JUMBO  BAG BAROQUE BLACK WHITE', 'Quantity': 4, 'InvoiceDate': '12/7/2011', 'UnitPrice': 4.13, 'Country': 'United Kingdom'}\n",
      "{'_id': ObjectId('682aacc0f3fe068ca86ba4b2'), 'InvoiceNo': 'C581071', 'StockCode': '85099C', 'Description': 'JUMBO  BAG BAROQUE BLACK WHITE', 'Quantity': -1, 'InvoiceDate': '12/7/2011', 'UnitPrice': 2.08, 'CustomerID': 12375, 'Country': 'Finland'}\n",
      "{'_id': ObjectId('682aacc0f3fe068ca86ba6ec'), 'InvoiceNo': 581167, 'StockCode': '85099C', 'Description': 'JUMBO  BAG BAROQUE BLACK WHITE', 'Quantity': 10, 'InvoiceDate': '12/7/2011', 'UnitPrice': 2.08, 'CustomerID': 13534, 'Country': 'United Kingdom'}\n",
      "{'_id': ObjectId('682aacc0f3fe068ca86ba965'), 'InvoiceNo': 581217, 'StockCode': '85099C', 'Description': 'JUMBO  BAG BAROQUE BLACK WHITE', 'Quantity': 2, 'InvoiceDate': '12/8/2011', 'UnitPrice': 4.13, 'Country': 'United Kingdom'}\n",
      "{'_id': ObjectId('682aacc0f3fe068ca86baaee'), 'InvoiceNo': 581219, 'StockCode': '85099C', 'Description': 'JUMBO  BAG BAROQUE BLACK WHITE', 'Quantity': 5, 'InvoiceDate': '12/8/2011', 'UnitPrice': 4.13, 'Country': 'United Kingdom'}\n",
      "{'_id': ObjectId('682aacc0f3fe068ca86baf12'), 'InvoiceNo': 581421, 'StockCode': '85099C', 'Description': 'JUMBO  BAG BAROQUE BLACK WHITE', 'Quantity': 10, 'InvoiceDate': '12/8/2011', 'UnitPrice': 2.08, 'CustomerID': 15898, 'Country': 'United Kingdom'}\n"
     ]
    }
   ],
   "source": [
    "# Details of sales where the description is \"JUMBO  BAG BAROQUE BLACK WHITE\"\n",
    "JUMBO_BAG_BAROQUE_BLACK_WHITE = collection.find({\"Description\": \"JUMBO  BAG BAROQUE BLACK WHITE\"})\n",
    "\n",
    "### Complete the code using a for loop\n",
    "print(\"Sales with description 'JUMBO_BAG_BAROQUE_BLACK_WHITE':\")\n",
    "for doc in JUMBO_BAG_BAROQUE_BLACK_WHITE:\n",
    "    print(doc)"
   ]
  },
  {
   "cell_type": "markdown",
   "id": "98d07b2e",
   "metadata": {},
   "source": [
    "#### Additional Task:\n",
    "\n",
    "To explore the dataset further. We can find the total revenue generated, find the most popular products, or analyze sales trends over time. \n",
    "\n",
    "Here is one example."
   ]
  },
  {
   "cell_type": "code",
   "execution_count": 75,
   "id": "17679fe1",
   "metadata": {},
   "outputs": [
    {
     "name": "stdout",
     "output_type": "stream",
     "text": [
      "Total revenue generated: 4683254.93\n"
     ]
    }
   ],
   "source": [
    "# Additional Task: Find total revenue generated\n",
    "total_revenue = collection.aggregate([\n",
    "    {\"$project\": {\"total_price\": {\"$multiply\": [\"$Quantity\", \"$UnitPrice\"]}}},\n",
    "    {\"$group\": {\"_id\": None, \"total_revenue\": {\"$sum\": \"$total_price\"}}}\n",
    "])\n",
    "\n",
    "for result in total_revenue:\n",
    "    print(\"Total revenue generated:\", result[\"total_revenue\"])"
   ]
  },
  {
   "cell_type": "markdown",
   "id": "82cf722e",
   "metadata": {},
   "source": [
    "#### What does the code above do?  \n",
    "Search online and explain how the `$project` and `$group` states work."
   ]
  },
  {
   "cell_type": "markdown",
   "id": "10017d55-88a1-483b-89ce-4917b7e87e8c",
   "metadata": {},
   "source": [
    "This code calculates the total revenue generated from all sales stored in the MongoDB collection online_sales.\n",
    "\n",
    "It uses MongoDB’s aggregation framework to:\n",
    "\n",
    "Multiply Quantity and UnitPrice to get the revenue for each sale.\n",
    "\n",
    "Sum all those revenues to compute the total.\n",
    "\n",
    "\n",
    "- $project is used to reshape each document.\n",
    "\n",
    "- In this case, it creates a new field called total_price by multiplying the values of Quantity and UnitPrice.\n",
    "\n",
    "- Only the total_price field is kept in the result (other fields are excluded unless explicitly included).\n",
    "\n",
    "  \n",
    "\n",
    "- $group is used to group documents and perform aggregate calculations.\n",
    "\n",
    "- _id: None tells MongoDB to group all documents into one group.\n",
    "\n",
    "- It sums up all values of the total_price field and stores it as total_revenue.\n"
   ]
  },
  {
   "cell_type": "markdown",
   "id": "9b8fb9d2",
   "metadata": {},
   "source": [
    "#### This is how you can get the total revenue in France. "
   ]
  },
  {
   "cell_type": "code",
   "execution_count": 80,
   "id": "ab640b48",
   "metadata": {},
   "outputs": [
    {
     "name": "stdout",
     "output_type": "stream",
     "text": [
      "Total revenue generated in France: 101429.75\n"
     ]
    }
   ],
   "source": [
    "total_revenue_france = collection.aggregate([\n",
    "    {\"$match\": {\"Country\": \"France\"}},\n",
    "    {\"$project\": {\"total_price\": {\"$multiply\": [\"$Quantity\", \"$UnitPrice\"]}}},\n",
    "    {\"$group\": {\"_id\": None, \"total_revenue\": {\"$sum\": \"$total_price\"}}}\n",
    "])\n",
    "\n",
    "for result in total_revenue_france:\n",
    "    print(\"Total revenue generated in France:\", result[\"total_revenue\"])"
   ]
  },
  {
   "cell_type": "markdown",
   "id": "c434601b",
   "metadata": {},
   "source": [
    "Note: The `$match` stage filters the documents where the \"Country\" field is \"France\"."
   ]
  },
  {
   "cell_type": "markdown",
   "id": "92eccd6f",
   "metadata": {},
   "source": [
    "#### Get the total revenue in Italy"
   ]
  },
  {
   "cell_type": "code",
   "execution_count": 82,
   "id": "8cf57666",
   "metadata": {},
   "outputs": [
    {
     "name": "stdout",
     "output_type": "stream",
     "text": [
      "Total revenue generated in Italy: 8162.29\n"
     ]
    }
   ],
   "source": [
    "total_revenue_italy = collection.aggregate([\n",
    "    {\"$match\": {\"Country\": \"Italy\"}},\n",
    "    {\"$project\": {\"total_price\": {\"$multiply\": [\"$Quantity\", \"$UnitPrice\"]}}},\n",
    "    {\"$group\": {\"_id\": None, \"total_revenue\": {\"$sum\": \"$total_price\"}}}\n",
    "])\n",
    "\n",
    "for result in total_revenue_italy:\n",
    "    print(\"Total revenue generated in Italy:\", result[\"total_revenue\"])"
   ]
  },
  {
   "cell_type": "markdown",
   "id": "ea923c85",
   "metadata": {},
   "source": [
    "#### Find the most popular product"
   ]
  },
  {
   "cell_type": "code",
   "execution_count": 84,
   "id": "8e6fbee4",
   "metadata": {},
   "outputs": [
    {
     "name": "stdout",
     "output_type": "stream",
     "text": [
      "Most popular product:\n",
      "[{'_id': 'WORLD WAR 2 GLIDERS ASSTD DESIGNS', 'total_quantity': 27443}]\n"
     ]
    }
   ],
   "source": [
    "# Aggregate to find the most popular product\n",
    "pipeline = [\n",
    "    {\"$group\": {\"_id\": \"$Description\", \"total_quantity\": {\"$sum\": \"$Quantity\"}}},\n",
    "    {\"$sort\": {\"total_quantity\": -1}},\n",
    "    {\"$limit\": 1}\n",
    "]\n",
    "\n",
    "most_popular_product = list(collection.aggregate(pipeline))\n",
    "\n",
    "print(\"Most popular product:\")\n",
    "print(most_popular_product)"
   ]
  },
  {
   "cell_type": "markdown",
   "id": "4457f2a2",
   "metadata": {},
   "source": [
    "#### $group stage: \n",
    "- This stage groups documents in the collection by the \"Description\" field. For each unique description, it calculates the total quantity sold by summing up the values of the \"Quantity\" field. The result is a set of grouped documents where each document contains the description (_id) and the total quantity sold (total_quantity).\n",
    "\n",
    "#### $sort stage: \n",
    "- This stage sorts the grouped documents in descending order based on the \"total_quantity\" field. This puts the documents with the highest total quantity sold at the beginning.\n",
    "\n",
    "#### $limit stage: \n",
    "- This stage limits the number of documents in the result to 1, effectively returning only the document with the highest total quantity sold."
   ]
  },
  {
   "cell_type": "markdown",
   "id": "9e4af099",
   "metadata": {},
   "source": [
    "### The second most popular item\n",
    "To find the second most popular item, we can adjust the pipeline to skip the first document (most popular item) and limit the result to only one document."
   ]
  },
  {
   "cell_type": "code",
   "execution_count": 86,
   "id": "d379f8a2",
   "metadata": {},
   "outputs": [
    {
     "name": "stdout",
     "output_type": "stream",
     "text": [
      "Second most popular product:\n",
      "[{'_id': 'JUMBO BAG RED RETROSPOT', 'total_quantity': 23566}]\n"
     ]
    }
   ],
   "source": [
    "pipeline = [\n",
    "    {\"$group\": {\"_id\": \"$Description\", \"total_quantity\": {\"$sum\": \"$Quantity\"}}},\n",
    "    {\"$sort\": {\"total_quantity\": -1}},\n",
    "    {\"$skip\": 1},  # We can skip the first document (most popular item)\n",
    "    {\"$limit\": 1}  # We can limit the result to only one document\n",
    "]\n",
    "\n",
    "second_most_popular_product = list(collection.aggregate(pipeline))\n",
    "\n",
    "print(\"Second most popular product:\")\n",
    "print(second_most_popular_product)\n"
   ]
  },
  {
   "cell_type": "markdown",
   "id": "cbab37b7",
   "metadata": {},
   "source": [
    "### The third most popular item. \n",
    "Find the third most popular item."
   ]
  },
  {
   "cell_type": "code",
   "execution_count": 88,
   "id": "437bc9f1",
   "metadata": {},
   "outputs": [
    {
     "name": "stdout",
     "output_type": "stream",
     "text": [
      "Third most popular product:\n",
      "[{'_id': 'PACK OF 72 RETROSPOT CAKE CASES', 'total_quantity': 20707}]\n"
     ]
    }
   ],
   "source": [
    "# Your code goes here\n",
    "pipeline = [\n",
    "    {\"$group\": {\"_id\": \"$Description\", \"total_quantity\": {\"$sum\": \"$Quantity\"}}},\n",
    "    {\"$sort\": {\"total_quantity\": -1}},\n",
    "    {\"$skip\": 2},  # Skip the first two most popular items\n",
    "    {\"$limit\": 1}  # Get only the third most popular item\n",
    "]\n",
    "\n",
    "third_most_popular_product = list(collection.aggregate(pipeline))\n",
    "\n",
    "print(\"Third most popular product:\")\n",
    "print(third_most_popular_product)\n"
   ]
  },
  {
   "cell_type": "markdown",
   "id": "2f19b88d",
   "metadata": {},
   "source": [
    "#### Update Data:\n",
    "\n",
    "- Update some records where the country is \"United Kingdom\":\n",
    "- Set the country to \"UK\"."
   ]
  },
  {
   "cell_type": "code",
   "execution_count": 90,
   "id": "e8ef2c66",
   "metadata": {},
   "outputs": [
    {
     "data": {
      "text/plain": [
       "UpdateResult({'n': 247738, 'nModified': 247738, 'ok': 1.0, 'updatedExisting': True}, acknowledged=True)"
      ]
     },
     "execution_count": 90,
     "metadata": {},
     "output_type": "execute_result"
    }
   ],
   "source": [
    "# Update records where the country is \"United Kingdom\" to \"UK\"\n",
    "collection.update_many({\"Country\": \"United Kingdom\"}, {\"$set\": {\"Country\": \"UK\"}})"
   ]
  },
  {
   "cell_type": "markdown",
   "id": "edb003f2",
   "metadata": {},
   "source": [
    "#### Update data: \n",
    "- Update records where the description is \"ALARM CLOCK BAKELIKE PINK\":\n",
    "- Change the description to \"ALARM CLOCK - PINK BAKELIKE\"."
   ]
  },
  {
   "cell_type": "code",
   "execution_count": 92,
   "id": "768d57e8",
   "metadata": {},
   "outputs": [
    {
     "data": {
      "text/plain": [
       "UpdateResult({'n': 389, 'nModified': 389, 'ok': 1.0, 'updatedExisting': True}, acknowledged=True)"
      ]
     },
     "execution_count": 92,
     "metadata": {},
     "output_type": "execute_result"
    }
   ],
   "source": [
    "collection.update_many(\n",
    "    {\"Description\": \"ALARM CLOCK BAKELIKE PINK\"},\n",
    "    {\"$set\": {\"Description\": \"ALARM CLOCK - PINK BAKELIKE\"}}\n",
    ")"
   ]
  },
  {
   "cell_type": "code",
   "execution_count": null,
   "id": "e5ff51b5-e6f2-485d-a64c-395d8b28cac8",
   "metadata": {},
   "outputs": [],
   "source": []
  }
 ],
 "metadata": {
  "kernelspec": {
   "display_name": "Python 3 (ipykernel)",
   "language": "python",
   "name": "python3"
  },
  "language_info": {
   "codemirror_mode": {
    "name": "ipython",
    "version": 3
   },
   "file_extension": ".py",
   "mimetype": "text/x-python",
   "name": "python",
   "nbconvert_exporter": "python",
   "pygments_lexer": "ipython3",
   "version": "3.12.2"
  }
 },
 "nbformat": 4,
 "nbformat_minor": 5
}
