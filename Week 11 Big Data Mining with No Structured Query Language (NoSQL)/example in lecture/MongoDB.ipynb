{
 "cells": [
  {
   "cell_type": "markdown",
   "id": "a30e9b90-4187-42cf-a71f-c6287ff213bc",
   "metadata": {},
   "source": [
    "# **Introduction to MongoDB**\n",
    "\n",
    "---\n",
    "\n",
    "## **What is MongoDB?**\n",
    "- MongoDB is a **NoSQL database** that stores data in a **flexible, JSON-like format** called **BSON (Binary JSON)**.\n",
    "- Unlike traditional SQL databases, MongoDB is:\n",
    "    - **Schema-less**: Fields (columns) can vary between documents (rows).\n",
    "    - **Document-Oriented**: Data is stored as individual objects (documents).\n",
    "    - **Scalable and Distributed**: Supports large volumes of data with horizontal scaling.\n",
    "    - **Geospatial Capabilities**: Built-in support for geospatial indexing and search."
   ]
  },
  {
   "cell_type": "markdown",
   "id": "ab7909d0-b82e-43a2-abe1-7ff95708dd55",
   "metadata": {},
   "source": [
    "## ** Key Concepts**\n",
    "| **Concept**        | **Description**                                                                 |\n",
    "|---------------------|---------------------------------------------------------------------------------|\n",
    "| **Database**       | A container for collections. Equivalent to a database in SQL.                   |\n",
    "| **Collection**     | A group of documents. Equivalent to a table in SQL.                             |\n",
    "| **Document**       | A single record in a collection. Equivalent to a row in SQL, but schema-less.   |\n",
    "| **BSON**           | Binary JSON format used by MongoDB for fast storage and retrieval.              |\n",
    "| **Index**          | Data structure that improves search speed.                                      |\n",
    "| **Aggregation**    | Operations to process data and return computed results.                         |\n",
    "\n",
    "---"
   ]
  },
  {
   "cell_type": "markdown",
   "id": "52040718-dd5d-4dde-b8ad-576b4272a66e",
   "metadata": {},
   "source": [
    "# Advantages of MongoDB Over Pandas\n",
    "\n",
    "| **Feature**            | **Pandas (DataFrame)**                                     | **MongoDB (NoSQL Database)**                                                                                   |\n",
    "|-------------------------|------------------------------------------------------------|----------------------------------------------------------------------------------------------------------------|\n",
    "| **Data Volume**        | Limited to RAM size (not efficient for large datasets)     | Can store millions of records, designed for large-scale data storage.                                         |\n",
    "| **Persistence**        | In-memory only, lost after session ends.                   | Persistent storage — survives reboots and program termination.                                                |\n",
    "| **Distributed Storage**| Not possible with Pandas alone.                            | Can be distributed across multiple servers for scalability and redundancy.                                    |\n",
    "| **Data Flexibility**   | Strict schema — changing schema requires restructuring.    | Flexible schema — documents in the same collection can have different fields.                                 |\n",
    "| **Real-time Access**   | Hard to achieve real-time multi-user access.               | Real-time reads and writes, supports multi-user environments seamlessly.                                      |\n",
    "| **Geospatial Queries** | Requires third-party libraries and manual implementation.  | Built-in support for geospatial queries (`$near`, `$geoWithin`, etc.).                                        |\n",
    "| **Concurrency Control**| Limited to single-thread operations.                       | Multi-threaded, supports parallel reads and writes with locking mechanisms.                                   |\n",
    "| **Indexing & Search**  | Basic indexing, not optimized for nested structures.       | Advanced indexing capabilities, text search, geospatial indexing, and more.                                   |\n",
    "| **API Integration**    | Limited to Pandas I/O methods.                             | Can integrate with real-time APIs, mobile apps, and distributed systems directly.                             |\n",
    "\n",
    "---\n",
    "\n",
    "# **When to Choose MongoDB Over Pandas**\n",
    "- **High Data Volume:** If you are dealing with millions of records that don't fit into RAM.\n",
    "- **Multi-user Access:** If you need simultaneous reads and writes by multiple clients.\n",
    "- **Real-time Analytics:** If you want to support live data feeds or APIs.\n",
    "- **Flexible Schema Requirements:** If your data structure is not always consistent.\n",
    "- **Geospatial Data Management:** MongoDB's native geospatial indexing is far superior for spatial queries.\n"
   ]
  },
  {
   "cell_type": "markdown",
   "id": "81c2dde7-77c2-4945-af16-0e2a3f8f9105",
   "metadata": {},
   "source": [
    "---\n",
    "\n",
    "## ** What We are going to do in This Example**\n",
    "Below is a summary of the operations we performed step by step:\n",
    "\n",
    "---\n",
    "\n",
    "### ** Connection and Setup**\n",
    "We established a connection to a **local MongoDB server** and created references to:\n",
    "- The **database**: `california_restaurants`\n",
    "- The **collection**: `restaurants`\n",
    "```python\n",
    "from pymongo import MongoClient\n",
    "client = MongoClient(\"mongodb://localhost:27017/\")\n",
    "db = client['california_restaurants']\n",
    "collection = db['restaurants']\n",
    "```\n",
    "\n",
    "---\n",
    "\n",
    "### ** Inserting Data**\n",
    "We inserted restaurant data into MongoDB from a **Pandas DataFrame**.\n",
    "```python\n",
    "# Convert DataFrame to dictionary format\n",
    "data_dict = data.to_dict(\"records\")\n",
    "\n",
    "# Insert the data into the collection\n",
    "collection.insert_many(data_dict)\n",
    "```\n",
    "\n",
    "---\n",
    "\n",
    "### ** Querying Data**\n",
    "We performed different types of **queries**:\n",
    "- Find documents that match a pattern:\n",
    "    ```python\n",
    "    results = collection.find({\"address\": {\"$regex\": \"San Jose\"}})\n",
    "    ```\n",
    "- Retrieve the **top 5 restaurants** based on ratings:\n",
    "    ```python\n",
    "    top_restaurants = collection.find().sort(\"ratings\", -1).limit(5)\n",
    "    ```\n",
    "\n",
    "---\n",
    "\n",
    "### ** Aggregation Operations**\n",
    "We grouped data and sorted it:\n",
    "```python\n",
    "pipeline = [\n",
    "    {\"$group\": {\"_id\": \"$Cuisine\", \"count\": {\"$sum\": 1}}},\n",
    "    {\"$sort\": {\"count\": -1}}\n",
    "]\n",
    "cuisine_counts = list(collection.aggregate(pipeline))\n",
    "```\n",
    "\n",
    "---\n",
    "\n",
    "### ** Indexing**\n",
    "We created indexes to **speed up searches**:\n",
    "```python\n",
    "collection.create_index([(\"address\", \"text\")])\n",
    "collection.create_index([(\"Cuisine\", 1)])\n",
    "```\n",
    "\n",
    "---\n",
    "\n",
    "### ** Updating Data**\n",
    "We updated the rating of a specific restaurant:\n",
    "```python\n",
    "collection.update_one({\"name\": \"Applebee's Tracy\"}, {\"$set\": {\"ratings\": 5}})\n",
    "```\n",
    "\n",
    "---\n",
    "\n",
    "### ** Deleting Data**\n",
    "We deleted single or multiple documents:\n",
    "- Delete a single restaurant:\n",
    "    ```python\n",
    "    collection.delete_one({\"name\": \"Patrick Molloy's Sports Pub\"})\n",
    "    ```\n",
    "- Delete all documents:\n",
    "    ```python\n",
    "    collection.delete_many({})\n",
    "    ```\n",
    "\n",
    "---\n",
    "\n",
    "## ** Summary**\n",
    "- MongoDB allows **flexible schemas**, which makes it ideal for unstructured data.\n",
    "- It supports **powerful queries** that can filter, sort, and group data easily.\n",
    "- **Indexing** improves performance for read operations.\n",
    "- **CRUD operations** (Create, Read, Update, Delete) are straightforward and efficient.\n",
    "- **Aggregation** pipelines enable complex data transformations directly in the database.\n",
    "\n",
    "---"
   ]
  },
  {
   "cell_type": "code",
   "execution_count": 1,
   "id": "8fc2ce62-94aa-4641-aa4e-28054ee25d2e",
   "metadata": {},
   "outputs": [
    {
     "data": {
      "text/html": [
       "<div>\n",
       "<style scoped>\n",
       "    .dataframe tbody tr th:only-of-type {\n",
       "        vertical-align: middle;\n",
       "    }\n",
       "\n",
       "    .dataframe tbody tr th {\n",
       "        vertical-align: top;\n",
       "    }\n",
       "\n",
       "    .dataframe thead th {\n",
       "        text-align: right;\n",
       "    }\n",
       "</style>\n",
       "<table border=\"1\" class=\"dataframe\">\n",
       "  <thead>\n",
       "    <tr style=\"text-align: right;\">\n",
       "      <th></th>\n",
       "      <th>Cuisine</th>\n",
       "      <th>address</th>\n",
       "      <th>name</th>\n",
       "      <th>postalCode</th>\n",
       "      <th>Tag</th>\n",
       "      <th>ratings</th>\n",
       "    </tr>\n",
       "  </thead>\n",
       "  <tbody>\n",
       "    <tr>\n",
       "      <th>0</th>\n",
       "      <td>Fast Food</td>\n",
       "      <td>925 Blossom Hill Road Oakridge Mall</td>\n",
       "      <td>Buca Di Beppo - San Jose - Oakridge</td>\n",
       "      <td>95123</td>\n",
       "      <td>Food</td>\n",
       "      <td>4</td>\n",
       "    </tr>\n",
       "    <tr>\n",
       "      <th>1</th>\n",
       "      <td>Fast Food</td>\n",
       "      <td>26900 Newport Rd</td>\n",
       "      <td>Giovanni's Pizza and Pasta</td>\n",
       "      <td>92584</td>\n",
       "      <td>Food</td>\n",
       "      <td>3</td>\n",
       "    </tr>\n",
       "    <tr>\n",
       "      <th>2</th>\n",
       "      <td>Fast Food</td>\n",
       "      <td>3060 Naglee Rd</td>\n",
       "      <td>Applebee's Tracy</td>\n",
       "      <td>95304</td>\n",
       "      <td>Food</td>\n",
       "      <td>3</td>\n",
       "    </tr>\n",
       "    <tr>\n",
       "      <th>3</th>\n",
       "      <td>Fast Food</td>\n",
       "      <td>50a</td>\n",
       "      <td>Patrick Molloy's Sports Pub</td>\n",
       "      <td>90254</td>\n",
       "      <td>Food</td>\n",
       "      <td>3</td>\n",
       "    </tr>\n",
       "    <tr>\n",
       "      <th>4</th>\n",
       "      <td>Fast Food</td>\n",
       "      <td>555 Soquel Ave</td>\n",
       "      <td>Ristorante Italiano</td>\n",
       "      <td>95062</td>\n",
       "      <td>Food</td>\n",
       "      <td>4</td>\n",
       "    </tr>\n",
       "  </tbody>\n",
       "</table>\n",
       "</div>"
      ],
      "text/plain": [
       "     Cuisine                              address  \\\n",
       "0  Fast Food  925 Blossom Hill Road Oakridge Mall   \n",
       "1  Fast Food                     26900 Newport Rd   \n",
       "2  Fast Food                       3060 Naglee Rd   \n",
       "3  Fast Food                                  50a   \n",
       "4  Fast Food                       555 Soquel Ave   \n",
       "\n",
       "                                  name postalCode   Tag  ratings  \n",
       "0  Buca Di Beppo - San Jose - Oakridge      95123  Food        4  \n",
       "1           Giovanni's Pizza and Pasta      92584  Food        3  \n",
       "2                     Applebee's Tracy      95304  Food        3  \n",
       "3          Patrick Molloy's Sports Pub      90254  Food        3  \n",
       "4                  Ristorante Italiano      95062  Food        4  "
      ]
     },
     "execution_count": 1,
     "metadata": {},
     "output_type": "execute_result"
    }
   ],
   "source": [
    "import pandas as pd\n",
    "\n",
    "# Load the data from the provided path\n",
    "file_path = 'rest_data_ca.pkl'\n",
    "data = pd.read_pickle(file_path)\n",
    "\n",
    "# Display the first few records to understand the structure\n",
    "data.head()"
   ]
  },
  {
   "cell_type": "code",
   "execution_count": 2,
   "id": "952b69c2-906a-43f0-aa7f-1215ee482a9c",
   "metadata": {},
   "outputs": [],
   "source": [
    "#!pip install pymongo"
   ]
  },
  {
   "cell_type": "code",
   "execution_count": 3,
   "id": "c6b844a5-ff08-46a1-8bc2-bb8e2edec1b0",
   "metadata": {},
   "outputs": [],
   "source": [
    "from pymongo import MongoClient\n",
    "\n",
    "# Connect to MongoDB (make sure your MongoDB server is running locally or adjust the URI if using Atlas)\n",
    "client = MongoClient(\"mongodb://localhost:27017/\")"
   ]
  },
  {
   "cell_type": "code",
   "execution_count": 4,
   "id": "962ff87a-cff2-49ea-9475-7f423909b9f3",
   "metadata": {},
   "outputs": [],
   "source": [
    "# Create or connect to the database and collection\n",
    "db = client['california_restaurants']\n",
    "collection = db ['restaurants']"
   ]
  },
  {
   "cell_type": "code",
   "execution_count": 5,
   "id": "e4a17ec9-38d2-49ca-8a65-aaf999f4c5e6",
   "metadata": {},
   "outputs": [],
   "source": [
    "#Step 3: Import the Dataset"
   ]
  },
  {
   "cell_type": "code",
   "execution_count": 6,
   "id": "a648a49c-0afd-4a30-8b08-fb6a702b3ef1",
   "metadata": {},
   "outputs": [
    {
     "name": "stdout",
     "output_type": "stream",
     "text": [
      "Data imported successfully!\n"
     ]
    }
   ],
   "source": [
    "import pandas as pd\n",
    "\n",
    "# Load the dataset\n",
    "data = pd.read_pickle('rest_data_ca.pkl')\n",
    "\n",
    "# Convert DataFrame to dictionary format for MongoDB\n",
    "data_dict = data.to_dict(\"records\")\n",
    "\n",
    "# Insert into the collection\n",
    "collection.insert_many(data_dict)\n",
    "\n",
    "print(\"Data imported successfully!\")"
   ]
  },
  {
   "cell_type": "markdown",
   "id": "0f881374-19b6-4f78-b774-5ddb5c4118d4",
   "metadata": {},
   "source": [
    "# **Summary**\n",
    "| **Step**             | **Description**                                           |\n",
    "|-----------------------|-----------------------------------------------------------|\n",
    "| **Find Query**       | Searches for documents where the address contains \"San Jose\". |\n",
    "| **$regex**           | A MongoDB operator that performs pattern matching.       |\n",
    "| **Loop Through Results** | Iterates over all matching documents.                 |\n",
    "| **Print Each Record** | Displays each document's data.                          |\n"
   ]
  },
  {
   "cell_type": "code",
   "execution_count": 7,
   "id": "0fc6111a-9837-4c15-970e-7f8d646ce325",
   "metadata": {},
   "outputs": [
    {
     "name": "stdout",
     "output_type": "stream",
     "text": [
      "{'_id': ObjectId('681d5dc028a6f380be6ef3da'), 'Cuisine': 'All', 'address': '2257 San Jose Ave', 'name': 'Crazy Pepper', 'postalCode': '94112', 'Tag': 'Food', 'ratings': 3}\n",
      "{'_id': ObjectId('681d5dc028a6f380be6f02dd'), 'Cuisine': 'All', 'address': '1818 San Jose Avenue', 'name': 'Tasty Coffee', 'postalCode': '94112', 'Tag': 'Food', 'ratings': 3}\n",
      "{'_id': ObjectId('681d677977c2d227f3dfa119'), 'Cuisine': 'All', 'address': '2257 San Jose Ave', 'name': 'Crazy Pepper', 'postalCode': '94112', 'Tag': 'Food', 'ratings': 3}\n",
      "{'_id': ObjectId('681d677977c2d227f3dfb01c'), 'Cuisine': 'All', 'address': '1818 San Jose Avenue', 'name': 'Tasty Coffee', 'postalCode': '94112', 'Tag': 'Food', 'ratings': 3}\n"
     ]
    }
   ],
   "source": [
    "results = collection.find({\"address\": {\"$regex\": \"San Jose\"}})\n",
    "for restaurant in results:\n",
    "    print(restaurant)"
   ]
  },
  {
   "cell_type": "code",
   "execution_count": 8,
   "id": "cfeeaec5-3ae0-41d9-b310-f317b02edd30",
   "metadata": {},
   "outputs": [
    {
     "data": {
      "text/html": [
       "<div>\n",
       "<style scoped>\n",
       "    .dataframe tbody tr th:only-of-type {\n",
       "        vertical-align: middle;\n",
       "    }\n",
       "\n",
       "    .dataframe tbody tr th {\n",
       "        vertical-align: top;\n",
       "    }\n",
       "\n",
       "    .dataframe thead th {\n",
       "        text-align: right;\n",
       "    }\n",
       "</style>\n",
       "<table border=\"1\" class=\"dataframe\">\n",
       "  <thead>\n",
       "    <tr style=\"text-align: right;\">\n",
       "      <th></th>\n",
       "      <th>_id</th>\n",
       "      <th>Cuisine</th>\n",
       "      <th>address</th>\n",
       "      <th>name</th>\n",
       "      <th>postalCode</th>\n",
       "      <th>Tag</th>\n",
       "      <th>ratings</th>\n",
       "    </tr>\n",
       "  </thead>\n",
       "  <tbody>\n",
       "    <tr>\n",
       "      <th>0</th>\n",
       "      <td>681d5dc028a6f380be6ef3da</td>\n",
       "      <td>All</td>\n",
       "      <td>2257 San Jose Ave</td>\n",
       "      <td>Crazy Pepper</td>\n",
       "      <td>94112</td>\n",
       "      <td>Food</td>\n",
       "      <td>3</td>\n",
       "    </tr>\n",
       "    <tr>\n",
       "      <th>1</th>\n",
       "      <td>681d5dc028a6f380be6f02dd</td>\n",
       "      <td>All</td>\n",
       "      <td>1818 San Jose Avenue</td>\n",
       "      <td>Tasty Coffee</td>\n",
       "      <td>94112</td>\n",
       "      <td>Food</td>\n",
       "      <td>3</td>\n",
       "    </tr>\n",
       "    <tr>\n",
       "      <th>2</th>\n",
       "      <td>681d677977c2d227f3dfa119</td>\n",
       "      <td>All</td>\n",
       "      <td>2257 San Jose Ave</td>\n",
       "      <td>Crazy Pepper</td>\n",
       "      <td>94112</td>\n",
       "      <td>Food</td>\n",
       "      <td>3</td>\n",
       "    </tr>\n",
       "    <tr>\n",
       "      <th>3</th>\n",
       "      <td>681d677977c2d227f3dfb01c</td>\n",
       "      <td>All</td>\n",
       "      <td>1818 San Jose Avenue</td>\n",
       "      <td>Tasty Coffee</td>\n",
       "      <td>94112</td>\n",
       "      <td>Food</td>\n",
       "      <td>3</td>\n",
       "    </tr>\n",
       "  </tbody>\n",
       "</table>\n",
       "</div>"
      ],
      "text/plain": [
       "                        _id Cuisine               address          name  \\\n",
       "0  681d5dc028a6f380be6ef3da     All     2257 San Jose Ave  Crazy Pepper   \n",
       "1  681d5dc028a6f380be6f02dd     All  1818 San Jose Avenue  Tasty Coffee   \n",
       "2  681d677977c2d227f3dfa119     All     2257 San Jose Ave  Crazy Pepper   \n",
       "3  681d677977c2d227f3dfb01c     All  1818 San Jose Avenue  Tasty Coffee   \n",
       "\n",
       "  postalCode   Tag  ratings  \n",
       "0      94112  Food        3  \n",
       "1      94112  Food        3  \n",
       "2      94112  Food        3  \n",
       "3      94112  Food        3  "
      ]
     },
     "execution_count": 8,
     "metadata": {},
     "output_type": "execute_result"
    }
   ],
   "source": [
    "# Collect results into a list\n",
    "results_list = list(collection.find({\"address\": {\"$regex\": \"San Jose\"}}))\n",
    "# Convert the list to a DataFrame\n",
    "df = pd.DataFrame(results_list)\n",
    "\n",
    "# Display the DataFrame\n",
    "df"
   ]
  },
  {
   "cell_type": "code",
   "execution_count": 9,
   "id": "33233f2b-a65e-48d3-bd70-90879d97a543",
   "metadata": {},
   "outputs": [
    {
     "data": {
      "text/html": [
       "<div>\n",
       "<style scoped>\n",
       "    .dataframe tbody tr th:only-of-type {\n",
       "        vertical-align: middle;\n",
       "    }\n",
       "\n",
       "    .dataframe tbody tr th {\n",
       "        vertical-align: top;\n",
       "    }\n",
       "\n",
       "    .dataframe thead th {\n",
       "        text-align: right;\n",
       "    }\n",
       "</style>\n",
       "<table border=\"1\" class=\"dataframe\">\n",
       "  <thead>\n",
       "    <tr style=\"text-align: right;\">\n",
       "      <th></th>\n",
       "      <th>Cuisine</th>\n",
       "      <th>address</th>\n",
       "      <th>name</th>\n",
       "      <th>postalCode</th>\n",
       "      <th>Tag</th>\n",
       "      <th>ratings</th>\n",
       "    </tr>\n",
       "  </thead>\n",
       "  <tbody>\n",
       "    <tr>\n",
       "      <th>0</th>\n",
       "      <td>All</td>\n",
       "      <td>2257 San Jose Ave</td>\n",
       "      <td>Crazy Pepper</td>\n",
       "      <td>94112</td>\n",
       "      <td>Food</td>\n",
       "      <td>3</td>\n",
       "    </tr>\n",
       "    <tr>\n",
       "      <th>1</th>\n",
       "      <td>All</td>\n",
       "      <td>1818 San Jose Avenue</td>\n",
       "      <td>Tasty Coffee</td>\n",
       "      <td>94112</td>\n",
       "      <td>Food</td>\n",
       "      <td>3</td>\n",
       "    </tr>\n",
       "    <tr>\n",
       "      <th>2</th>\n",
       "      <td>All</td>\n",
       "      <td>2257 San Jose Ave</td>\n",
       "      <td>Crazy Pepper</td>\n",
       "      <td>94112</td>\n",
       "      <td>Food</td>\n",
       "      <td>3</td>\n",
       "    </tr>\n",
       "    <tr>\n",
       "      <th>3</th>\n",
       "      <td>All</td>\n",
       "      <td>1818 San Jose Avenue</td>\n",
       "      <td>Tasty Coffee</td>\n",
       "      <td>94112</td>\n",
       "      <td>Food</td>\n",
       "      <td>3</td>\n",
       "    </tr>\n",
       "  </tbody>\n",
       "</table>\n",
       "</div>"
      ],
      "text/plain": [
       "  Cuisine               address          name postalCode   Tag  ratings\n",
       "0     All     2257 San Jose Ave  Crazy Pepper      94112  Food        3\n",
       "1     All  1818 San Jose Avenue  Tasty Coffee      94112  Food        3\n",
       "2     All     2257 San Jose Ave  Crazy Pepper      94112  Food        3\n",
       "3     All  1818 San Jose Avenue  Tasty Coffee      94112  Food        3"
      ]
     },
     "execution_count": 9,
     "metadata": {},
     "output_type": "execute_result"
    }
   ],
   "source": [
    "#Optional: Drop the _id Column\n",
    "# Drop the _id column\n",
    "df = df.drop(columns=['_id'])\n",
    "\n",
    "# Display the DataFrame again\n",
    "df"
   ]
  },
  {
   "cell_type": "markdown",
   "id": "dbeb9e1c-02d0-43be-b4e6-73ffa6e262d4",
   "metadata": {},
   "source": [
    "Counting Documents in MongoDB"
   ]
  },
  {
   "cell_type": "code",
   "execution_count": 10,
   "id": "8677422a-c271-439e-864d-71a4a8abaa8c",
   "metadata": {},
   "outputs": [
    {
     "name": "stdout",
     "output_type": "stream",
     "text": [
      "Total Fast Food Restaurants: 127\n"
     ]
    }
   ],
   "source": [
    "fast_food_count = collection.count_documents({\"Cuisine\": \"Fast Food\"})\n",
    "print(f\"Total Fast Food Restaurants: {fast_food_count}\")"
   ]
  },
  {
   "cell_type": "markdown",
   "id": "5972cc8f-757f-4164-bd83-58aa8f3f57f3",
   "metadata": {},
   "source": [
    "# **Finding Top Restaurants in MongoDB**\n",
    "\n",
    "---\n",
    "\n",
    "## ** Querying the Database**\n",
    "```python\n",
    "top_restaurants = collection.find().sort(\"ratings\", -1).limit(5)\n",
    "```\n",
    "- This line is responsible for **querying the MongoDB collection** and fetching the top 5 restaurants based on their ratings.\n",
    "- The code is a **method chain** with three main components:\n",
    "    1. `find()`: Fetches all documents from the collection.\n",
    "    2. `sort(\"ratings\", -1)`: Sorts the documents in **descending order** (`-1`) based on the `\"ratings\"` field.\n",
    "    3. `limit(5)`: Limits the result set to **5 documents only**.\n",
    "\n",
    "---"
   ]
  },
  {
   "cell_type": "markdown",
   "id": "a504ecb4-8d04-40fe-a2ac-8c569f84acfe",
   "metadata": {},
   "source": [
    "## ** Summary**\n",
    "| **Step**             | **Description**                                               |\n",
    "|-----------------------|--------------------------------------------------------------|\n",
    "| **find()**           | Fetches all documents from the collection.                   |\n",
    "| **sort()**           | Sorts documents by a specified field (`\"ratings\"` in this case). |\n",
    "| **limit()**          | Limits the number of results returned.                       |\n",
    "| **Loop and Print**   | Iterates through the results and displays each document.     |"
   ]
  },
  {
   "cell_type": "code",
   "execution_count": 11,
   "id": "f634ab36-eb01-4473-a7f5-038dd2b7688e",
   "metadata": {},
   "outputs": [
    {
     "name": "stdout",
     "output_type": "stream",
     "text": [
      "{'_id': ObjectId('681d5dc028a6f380be6e3e7b'), 'Cuisine': 'Fast Food', 'address': '3060 Naglee Rd', 'name': \"Applebee's Tracy\", 'postalCode': '95304', 'Tag': 'Food', 'ratings': 5}\n",
      "{'_id': ObjectId('681d5dc028a6f380be6e3e80'), 'Cuisine': 'Fast Food', 'address': '1640 Camino Del Rio N', 'name': 'Tilted Kilt Mission Valley', 'postalCode': '92108', 'Tag': 'Food', 'ratings': 4}\n",
      "{'_id': ObjectId('681d5dc028a6f380be6e3e7f'), 'Cuisine': 'Fast Food', 'address': '9822 Libra Ave', 'name': 'Milanos Pizza', 'postalCode': '95827', 'Tag': 'Food', 'ratings': 4}\n",
      "{'_id': ObjectId('681d5dc028a6f380be6e3e79'), 'Cuisine': 'Fast Food', 'address': '925 Blossom Hill Road Oakridge Mall', 'name': 'Buca Di Beppo - San Jose - Oakridge', 'postalCode': '95123', 'Tag': 'Food', 'ratings': 4}\n",
      "{'_id': ObjectId('681d5dc028a6f380be6e3e7d'), 'Cuisine': 'Fast Food', 'address': '555 Soquel Ave', 'name': 'Ristorante Italiano', 'postalCode': '95062', 'Tag': 'Food', 'ratings': 4}\n"
     ]
    }
   ],
   "source": [
    "top_restaurants = collection.find().sort(\"ratings\", -1).limit(5)\n",
    "for restaurant in top_restaurants:\n",
    "    print(restaurant)"
   ]
  },
  {
   "cell_type": "code",
   "execution_count": 12,
   "id": "ec43992e-b9f2-4e22-b4cc-878ee02919d1",
   "metadata": {},
   "outputs": [
    {
     "data": {
      "text/html": [
       "<div>\n",
       "<style scoped>\n",
       "    .dataframe tbody tr th:only-of-type {\n",
       "        vertical-align: middle;\n",
       "    }\n",
       "\n",
       "    .dataframe tbody tr th {\n",
       "        vertical-align: top;\n",
       "    }\n",
       "\n",
       "    .dataframe thead th {\n",
       "        text-align: right;\n",
       "    }\n",
       "</style>\n",
       "<table border=\"1\" class=\"dataframe\">\n",
       "  <thead>\n",
       "    <tr style=\"text-align: right;\">\n",
       "      <th></th>\n",
       "      <th>Cuisine</th>\n",
       "      <th>address</th>\n",
       "      <th>name</th>\n",
       "      <th>postalCode</th>\n",
       "      <th>Tag</th>\n",
       "      <th>ratings</th>\n",
       "    </tr>\n",
       "  </thead>\n",
       "  <tbody>\n",
       "    <tr>\n",
       "      <th>0</th>\n",
       "      <td>Fast Food</td>\n",
       "      <td>3060 Naglee Rd</td>\n",
       "      <td>Applebee's Tracy</td>\n",
       "      <td>95304</td>\n",
       "      <td>Food</td>\n",
       "      <td>5</td>\n",
       "    </tr>\n",
       "    <tr>\n",
       "      <th>1</th>\n",
       "      <td>Fast Food</td>\n",
       "      <td>1640 Camino Del Rio N</td>\n",
       "      <td>Tilted Kilt Mission Valley</td>\n",
       "      <td>92108</td>\n",
       "      <td>Food</td>\n",
       "      <td>4</td>\n",
       "    </tr>\n",
       "    <tr>\n",
       "      <th>2</th>\n",
       "      <td>Fast Food</td>\n",
       "      <td>9822 Libra Ave</td>\n",
       "      <td>Milanos Pizza</td>\n",
       "      <td>95827</td>\n",
       "      <td>Food</td>\n",
       "      <td>4</td>\n",
       "    </tr>\n",
       "    <tr>\n",
       "      <th>3</th>\n",
       "      <td>Fast Food</td>\n",
       "      <td>925 Blossom Hill Road Oakridge Mall</td>\n",
       "      <td>Buca Di Beppo - San Jose - Oakridge</td>\n",
       "      <td>95123</td>\n",
       "      <td>Food</td>\n",
       "      <td>4</td>\n",
       "    </tr>\n",
       "    <tr>\n",
       "      <th>4</th>\n",
       "      <td>Fast Food</td>\n",
       "      <td>555 Soquel Ave</td>\n",
       "      <td>Ristorante Italiano</td>\n",
       "      <td>95062</td>\n",
       "      <td>Food</td>\n",
       "      <td>4</td>\n",
       "    </tr>\n",
       "  </tbody>\n",
       "</table>\n",
       "</div>"
      ],
      "text/plain": [
       "     Cuisine                              address  \\\n",
       "0  Fast Food                       3060 Naglee Rd   \n",
       "1  Fast Food                1640 Camino Del Rio N   \n",
       "2  Fast Food                       9822 Libra Ave   \n",
       "3  Fast Food  925 Blossom Hill Road Oakridge Mall   \n",
       "4  Fast Food                       555 Soquel Ave   \n",
       "\n",
       "                                  name postalCode   Tag  ratings  \n",
       "0                     Applebee's Tracy      95304  Food        5  \n",
       "1           Tilted Kilt Mission Valley      92108  Food        4  \n",
       "2                        Milanos Pizza      95827  Food        4  \n",
       "3  Buca Di Beppo - San Jose - Oakridge      95123  Food        4  \n",
       "4                  Ristorante Italiano      95062  Food        4  "
      ]
     },
     "execution_count": 12,
     "metadata": {},
     "output_type": "execute_result"
    }
   ],
   "source": [
    "# Execute the query and get the top restaurants\n",
    "top_restaurants = collection.find().sort(\"ratings\", -1).limit(5)\n",
    "\n",
    "# Convert the cursor to a list of dictionaries\n",
    "top_restaurants_list = list(top_restaurants)\n",
    "\n",
    "# Create a DataFrame, excluding the `_id` column for readability\n",
    "df = pd.DataFrame(top_restaurants_list).drop(columns=['_id'])\n",
    "\n",
    "# Display the DataFrame\n",
    "df"
   ]
  },
  {
   "cell_type": "markdown",
   "id": "cf475ed0-5c72-4b6b-912c-1d531eed8b29",
   "metadata": {},
   "source": [
    "Step 5: Aggregation Queries\n",
    "\n",
    "5.1 Count Restaurants by Cuisine"
   ]
  },
  {
   "cell_type": "markdown",
   "id": "87f6a2b4-a057-443a-9aeb-8cfe1ca4fb86",
   "metadata": {},
   "source": [
    "# **MongoDB Aggregation Pipeline - Grouping and Sorting**\n",
    "\n",
    "---\n",
    "\n",
    "## ** Understanding the Aggregation Pipeline**\n",
    "The aggregation pipeline in MongoDB allows you to **process data records** and return computed results. \n",
    "It works similarly to `GROUP BY` in SQL with more flexibility.\n",
    "\n",
    "```python\n",
    "pipeline = [\n",
    "    {\"$group\": {\"_id\": \"$Cuisine\", \"count\": {\"$sum\": 1}}},\n",
    "    {\"$sort\": {\"count\": -1}}\n",
    "]\n",
    "```\n",
    "\n",
    "---\n",
    "\n",
    "### ** Explanation**\n",
    "- The `pipeline` is a list of **stages** that process data in sequence.\n",
    "- Each stage transforms the data and passes it to the next stage.\n",
    "\n",
    "---"
   ]
  },
  {
   "cell_type": "markdown",
   "id": "a038b1de-df4a-48e2-a74f-1d6a660aa3ce",
   "metadata": {},
   "source": [
    "# **MongoDB Aggregation Pipeline - Grouping and Sorting**\n",
    "\n",
    "---\n",
    "\n",
    "## ** Understanding the Aggregation Pipeline**\n",
    "The aggregation pipeline in MongoDB allows you to **process data records** and return computed results. \n",
    "It works similarly to `GROUP BY` in SQL with more flexibility.\n",
    "\n",
    "```python\n",
    "pipeline = [\n",
    "    {\"$group\": {\"_id\": \"$Cuisine\", \"count\": {\"$sum\": 1}}},\n",
    "    {\"$sort\": {\"count\": -1}}\n",
    "]\n",
    "```\n",
    "\n",
    "---\n",
    "\n",
    "### ** Explanation**\n",
    "- The `pipeline` is a list of **stages** that process data in sequence.\n",
    "- Each stage transforms the data and passes it to the next stage.\n",
    "\n",
    "---\n",
    "\n",
    "### ** Stage 1: $group**\n",
    "```python\n",
    "{\"$group\": {\"_id\": \"$Cuisine\", \"count\": {\"$sum\": 1}}}\n",
    "```\n",
    "- `\"$group\"`: This stage groups documents by the specified field.\n",
    "- `\"_id\": \"$Cuisine\"`:\n",
    "    - MongoDB uses `_id` as the identifier for each group.\n",
    "    - `$Cuisine` specifies that the documents should be grouped by their `Cuisine` value.\n",
    "- `\"count\": {\"$sum\": 1}`:\n",
    "    - This creates a new field named `count` and increments it by `1` for every document in the group.\n",
    "    - It effectively counts the number of documents for each cuisine type.\n",
    "\n",
    "#### **Example:**  \n",
    "If your collection has:\n",
    "- 10 records with `\"Cuisine\": \"Fast Food\"`,\n",
    "- 5 records with `\"Cuisine\": \"Italian\"`,\n",
    "- 3 records with `\"Cuisine\": \"Mexican\"`,  \n",
    "\n",
    "The result of `$group` would be:\n",
    "```\n",
    "{\"_id\": \"Fast Food\", \"count\": 10}\n",
    "{\"_id\": \"Italian\", \"count\": 5}\n",
    "{\"_id\": \"Mexican\", \"count\": 3}\n",
    "```\n",
    "\n",
    "---\n",
    "\n",
    "### ** Stage 2: $sort**\n",
    "```python\n",
    "{\"$sort\": {\"count\": -1}}\n",
    "```\n",
    "- `\"$sort\"`: This stage sorts the documents.\n",
    "- `\"count\": -1`:\n",
    "    - `-1` means **descending order**.\n",
    "    - It sorts cuisines from the most popular to the least popular.\n",
    "\n",
    "---\n",
    "\n",
    "## ** Executing the Aggregation Pipeline**\n",
    "```python\n",
    "cuisine_counts = list(collection.aggregate(pipeline))\n",
    "```\n",
    "- `collection.aggregate(pipeline)`: Executes the pipeline on the collection.\n",
    "- `list(...)`: Converts the result into a list of dictionaries for easy access.\n",
    "\n",
    "---\n",
    "\n",
    "## ** Example Output**\n",
    "```\n",
    "[{'_id': 'Fast Food', 'count': 20},\n",
    " {'_id': 'Mexican', 'count': 15},\n",
    " {'_id': 'Italian', 'count': 10}]\n",
    "```\n",
    "\n",
    "---\n",
    "\n",
    "## **Summary**\n",
    "| **Step**             | **Description**                                                     |\n",
    "\n",
    "|-----------------------|--------------------------------------------------------------------|\n",
    "\n",
    "| **$group**           | Groups documents by the field (`Cuisine`) and counts each group.    |\n",
    "\n",
    "| **$sort**            | Sorts the grouped documents by the count in descending order.       |\n",
    "\n",
    "| **aggregate()**      | Executes the pipeline and returns the transformed data.             |\n",
    "\n",
    "| **list()**           | Converts the aggregation cursor to a list of dictionaries.          |\n"
   ]
  },
  {
   "cell_type": "code",
   "execution_count": 13,
   "id": "9f1b6e06-2a52-4915-ba86-52e75d51ff7f",
   "metadata": {},
   "outputs": [
    {
     "data": {
      "text/plain": [
       "[{'_id': 'All', 'count': 95702},\n",
       " {'_id': 'Mexican', 'count': 9060},\n",
       " {'_id': 'Fast Food', 'count': 127},\n",
       " {'_id': 'Veg', 'count': 64}]"
      ]
     },
     "execution_count": 13,
     "metadata": {},
     "output_type": "execute_result"
    }
   ],
   "source": [
    "pipeline = [\n",
    "    {\"$group\": {\"_id\": \"$Cuisine\", \"count\": {\"$sum\": 1}}},\n",
    "    {\"$sort\": {\"count\": -1}}\n",
    "]\n",
    "cuisine_counts = list(collection.aggregate(pipeline))\n",
    "cuisine_counts"
   ]
  },
  {
   "cell_type": "code",
   "execution_count": 14,
   "id": "1a6f0879-a4ae-465a-949a-6e91d9bdf2bb",
   "metadata": {},
   "outputs": [
    {
     "data": {
      "text/plain": [
       "[{'_id': 'Fast Food', 'average_rating': 3.5354330708661417},\n",
       " {'_id': 'All', 'average_rating': 3.504106497251886},\n",
       " {'_id': 'Mexican', 'average_rating': 3.4984547461368654},\n",
       " {'_id': 'Veg', 'average_rating': 3.46875}]"
      ]
     },
     "execution_count": 14,
     "metadata": {},
     "output_type": "execute_result"
    }
   ],
   "source": [
    "pipeline = [\n",
    "    {\"$group\": {\"_id\": \"$Cuisine\", \"average_rating\": {\"$avg\": \"$ratings\"}}},\n",
    "    {\"$sort\": {\"average_rating\": -1}}\n",
    "]\n",
    "average_ratings = list(collection.aggregate(pipeline))\n",
    "average_ratings"
   ]
  },
  {
   "cell_type": "code",
   "execution_count": 15,
   "id": "73283b60-6336-415a-90ef-78c711becf83",
   "metadata": {},
   "outputs": [
    {
     "data": {
      "image/png": "[encoded data removed]",
      "text/plain": [
       "<Figure size 1000x500 with 1 Axes>"
      ]
     },
     "metadata": {},
     "output_type": "display_data"
    }
   ],
   "source": [
    "import matplotlib.pyplot as plt\n",
    "\n",
    "# Plot the number of restaurants by Cuisine\n",
    "labels = [x['_id'] for x in cuisine_counts][:10]\n",
    "values = [x['count'] for x in cuisine_counts][:10]\n",
    "\n",
    "plt.figure(figsize=(10, 5))\n",
    "plt.bar(labels, values)\n",
    "plt.title(\"Top 10 Cuisines by Number of Restaurants\")\n",
    "plt.xlabel(\"Cuisine\")\n",
    "plt.ylabel(\"Number of Restaurants\")\n",
    "plt.xticks(rotation=45)\n",
    "plt.show()"
   ]
  },
  {
   "cell_type": "markdown",
   "id": "fe4509c3-d81c-4671-8b4b-81f3567ba55a",
   "metadata": {},
   "source": [
    "# **Updating a Document in MongoDB**\n",
    "\n",
    "---\n",
    "\n",
    "## ** Updating a Document**\n",
    "```python\n",
    "collection.update_one({\"name\": \"Applebee's Tracy\"}, {\"$set\": {\"ratings\": 5}})\n",
    "```\n",
    "\n",
    "---\n",
    "\n",
    "### ** Explanation**\n",
    "- `collection.update_one()` is a method used to **update a single document** in the MongoDB collection.\n",
    "- It takes two main arguments:\n",
    "    1. The **filter condition** to find the document you want to update.\n",
    "    2. The **update operation** specifying the changes to apply.\n",
    "\n",
    "---\n",
    "\n",
    "### ** 1. The Filter Condition**\n",
    "```python\n",
    "{\"name\": \"Applebee's Tracy\"}\n",
    "```\n",
    "- This is the **query filter**.\n",
    "- It searches the collection for a document where the `\"name\"` field matches `\"Applebee's Tracy\"`.\n",
    "- If there are multiple documents with the same name, **only the first match** will be updated because we are using `update_one`.\n",
    "\n",
    "---\n",
    "\n",
    "### ** 2. The Update Operation**\n",
    "```python\n",
    "{\"$set\": {\"ratings\": 5}}\n",
    "```\n",
    "- This is the **update instruction**.\n",
    "- `\"$set\"` is a MongoDB operator that **modifies the value** of a field.\n",
    "- In this case, the field `\"ratings\"` is updated to the value `5`.\n",
    "\n",
    "---\n",
    "\n",
    "### ** Other Update Operations**\n",
    "| **Operator** | **Description**                                      | **Example**                                    |\n",
    "|--------------|------------------------------------------------------|------------------------------------------------|\n",
    "\n",
    "| **$set**    | Sets the value of a specified field.                  | `{\"$set\": {\"ratings\": 5}}`                     |\n",
    "\n",
    "| **$inc**    | Increments the value of a field by a specified amount.| `{\"$inc\": {\"ratings\": 1}}`                     |\n",
    "\n",
    "| **$unset**  | Removes a specified field from the document.          | `{\"$unset\": {\"ratings\": \"\"}}`                  |\n",
    "\n",
    "| **$rename** | Renames a specified field.                            | `{\"$rename\": {\"ratings\": \"reviewScore\"}}`      |\n",
    "\n",
    "---\n",
    "\n",
    "## ** Displaying the Result**\n",
    "```python\n",
    "print(\"Rating updated successfully!\")\n",
    "```\n",
    "- This simply prints a confirmation message to let you know the operation was successful.\n",
    "\n",
    "---"
   ]
  },
  {
   "cell_type": "code",
   "execution_count": 16,
   "id": "bfad769d-01a3-42d8-8566-580317b3fd11",
   "metadata": {},
   "outputs": [
    {
     "name": "stdout",
     "output_type": "stream",
     "text": [
      "Rating updated successfully!\n"
     ]
    }
   ],
   "source": [
    "collection.update_one({\"name\": \"Applebee's Tracy\"}, {\"$set\": {\"ratings\": 5}})\n",
    "print(\"Rating updated successfully!\")"
   ]
  },
  {
   "cell_type": "code",
   "execution_count": null,
   "id": "8cec084a-7394-4410-b127-08271d19aa6d",
   "metadata": {},
   "outputs": [],
   "source": []
  },
  {
   "cell_type": "code",
   "execution_count": 17,
   "id": "f109dafc-71a8-4ff7-bc0e-b56ac1bd4fab",
   "metadata": {},
   "outputs": [
    {
     "name": "stdout",
     "output_type": "stream",
     "text": [
      "Restaurant deleted successfully!\n"
     ]
    }
   ],
   "source": [
    "collection.delete_one({\"name\": \"Patrick Molloy's Sports Pub\"})\n",
    "print(\"Restaurant deleted successfully!\")"
   ]
  },
  {
   "cell_type": "markdown",
   "id": "8229dcfa-3aec-4ec4-a00b-937bbf58e21f",
   "metadata": {},
   "source": [
    "## ** Summary**\n",
    "| **Step**             | **Description**                                                   |\n",
    "|-----------------------|------------------------------------------------------------------|\n",
    "| **delete_many()**    | Deletes **all documents** that match the filter. If the filter is empty, it deletes **everything**. |\n",
    "| **Filter Condition** | The empty dictionary `{}` means all documents are selected.      |\n",
    "| **Print Statement**  | Displays a success message to confirm the operation.             |\n"
   ]
  },
  {
   "cell_type": "code",
   "execution_count": 18,
   "id": "2b810d7b-347f-4f3f-913f-7c595d6df4f9",
   "metadata": {},
   "outputs": [
    {
     "name": "stdout",
     "output_type": "stream",
     "text": [
      "Collection cleared!\n"
     ]
    }
   ],
   "source": [
    "collection.delete_many({})\n",
    "print(\"Collection cleared!\")"
   ]
  },
  {
   "cell_type": "code",
   "execution_count": null,
   "id": "2a46a9a8-a65b-47d6-8251-0d284914226c",
   "metadata": {},
   "outputs": [],
   "source": []
  }
 ],
 "metadata": {
  "kernelspec": {
   "display_name": "Python 3 (ipykernel)",
   "language": "python",
   "name": "python3"
  },
  "language_info": {
   "codemirror_mode": {
    "name": "ipython",
    "version": 3
   },
   "file_extension": ".py",
   "mimetype": "text/x-python",
   "name": "python",
   "nbconvert_exporter": "python",
   "pygments_lexer": "ipython3",
   "version": "3.12.2"
  }
 },
 "nbformat": 4,
 "nbformat_minor": 5
}
