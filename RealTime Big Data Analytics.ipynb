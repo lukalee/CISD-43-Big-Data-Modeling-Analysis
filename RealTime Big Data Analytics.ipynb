{
 "cells": [
  {
   "cell_type": "markdown",
   "id": "042d4cf1-93d6-45ae-827d-c72854682889",
   "metadata": {},
   "source": [
    "topic 2:Choose a website (e.g., Wikipedia) and perform web/text mining in a Jupyter Notebook.\n",
    "\n",
    "Extract and analyze the following sections:\n",
    "\n",
    "Title\n",
    "\n",
    "Introductory Paragraph\n",
    "\n",
    "History\n",
    "\n",
    "Main Content\n",
    "\n",
    "References\n",
    "\n",
    "Then apply sentiment analysis to the extracted text using NLP tools like TextBlob, VADER, or NLTK.\n",
    "\n"
   ]
  },
  {
   "cell_type": "markdown",
   "id": "d5118a5a-7688-421c-b00d-cfca1c10e683",
   "metadata": {},
   "source": [
    "## Part 1: Web Scraping \n",
    "#### Web Content Mining with BeautifulSoup and Wikipedia\n",
    "Concept: Web content mining extracts information from web pages.\n",
    "\n",
    "Installation:"
   ]
  },
  {
   "cell_type": "code",
   "execution_count": 76,
   "id": "61a16c1b-496f-4816-95a4-c94a91c7c0e1",
   "metadata": {},
   "outputs": [
    {
     "name": "stdout",
     "output_type": "stream",
     "text": [
      "Requirement already satisfied: beautifulsoup4 in /opt/anaconda3/lib/python3.12/site-packages (4.12.3)\n",
      "Requirement already satisfied: requests in /opt/anaconda3/lib/python3.12/site-packages (2.32.3)\n",
      "Requirement already satisfied: soupsieve>1.2 in /opt/anaconda3/lib/python3.12/site-packages (from beautifulsoup4) (2.5)\n",
      "Requirement already satisfied: charset-normalizer<4,>=2 in /opt/anaconda3/lib/python3.12/site-packages (from requests) (3.3.2)\n",
      "Requirement already satisfied: idna<4,>=2.5 in /opt/anaconda3/lib/python3.12/site-packages (from requests) (3.7)\n",
      "Requirement already satisfied: urllib3<3,>=1.21.1 in /opt/anaconda3/lib/python3.12/site-packages (from requests) (2.2.3)\n",
      "Requirement already satisfied: certifi>=2017.4.17 in /opt/anaconda3/lib/python3.12/site-packages (from requests) (2025.1.31)\n"
     ]
    }
   ],
   "source": [
    "#requests: Downloads the web page content\n",
    "#BeautifulSoup: Parses the HTML and extracts the required parts\n",
    "\n",
    "#!pip install beautifulsoup4 requests"
   ]
  },
  {
   "cell_type": "code",
   "execution_count": 78,
   "id": "9cf8615d-3a57-43e9-833c-e919999c18fa",
   "metadata": {},
   "outputs": [
    {
     "name": "stdout",
     "output_type": "stream",
     "text": [
      "Getty Center\n"
     ]
    }
   ],
   "source": [
    "#show title\n",
    "\n",
    "#bs4 is short for BeautifulSoup version 4, a Python library used to parse HTML and XML files.\n",
    "import requests\n",
    "from bs4 import BeautifulSoup\n",
    "\n",
    "url = \"https://en.wikipedia.org/wiki/Getty_Center\"\n",
    "response = requests.get(url)\n",
    "\n",
    "#parsing\n",
    "soup = BeautifulSoup(response.content, 'html.parser')\n",
    "\n",
    "# show title\n",
    "title = soup.find(\"h1\").text\n",
    "print(title)"
   ]
  },
  {
   "cell_type": "code",
   "execution_count": 52,
   "id": "c5002e13-cc9f-4db5-a886-fd26a997c577",
   "metadata": {},
   "outputs": [],
   "source": [
    "#check the html code\n",
    "#print(soup)"
   ]
  },
  {
   "cell_type": "code",
   "execution_count": 16,
   "id": "ce8e5f3b-eab1-41b7-bfc9-322837528210",
   "metadata": {},
   "outputs": [],
   "source": [
    "#can not find mw-parser-output\n",
    "#intro=soup.find(\"div\",{\"class\":\"mw-parser-output\"}).find(\"p\").text"
   ]
  },
  {
   "cell_type": "code",
   "execution_count": 26,
   "id": "a099ba14-a2e8-4e82-87ea-568a1af471b6",
   "metadata": {},
   "outputs": [
    {
     "name": "stdout",
     "output_type": "stream",
     "text": [
      "\n",
      "\n"
     ]
    }
   ],
   "source": [
    "#Tried to Show Introductory Paragraph, but failed\n",
    "\n",
    "#soup.find(\"p\"): Finds the first <p> tag (paragraph) on the page\n",
    "#.text: Extracts the plain text content from the <p> tag (removes HTML tags)\n",
    "content = soup.find(\"p\").text\n",
    "#content = soup.find('p').text\n",
    "print(content)\n",
    "\n",
    "#chatgpt: why does this code not show anything, results showed below. \n",
    "#But it's not displaying anything. \n",
    "#This happens because the first <p> tag on the page might be empty, \n",
    "#or it may contain only whitespace or be affected by comments/scripts."
   ]
  },
  {
   "cell_type": "code",
   "execution_count": 80,
   "id": "9002c3e9-cf7d-472c-a037-f8ab3bb97a4e",
   "metadata": {},
   "outputs": [
    {
     "name": "stdout",
     "output_type": "stream",
     "text": [
      "TheGetty Center, inLos Angeles, California, United States, is a campus of theGetty Museumand other programs of theGetty Trust. The $1.3 billion center opened to the public on December 16, 1997,[2]and is well known for its architecture, gardens, and views overlooking Los Angeles. The center sits atop a hill connected to a visitors' parking garage at the bottom of the hill bya three-car, cable-pulledhovertrainpeople mover.[3]\n"
     ]
    }
   ],
   "source": [
    "#Show Introductory Paragraph\n",
    "paragraphs = soup.find_all(\"p\")\n",
    "for p in paragraphs:\n",
    "    text = p.get_text(strip=True)\n",
    "    if text:\n",
    "        content = text\n",
    "        break\n",
    "\n",
    "print(content)"
   ]
  },
  {
   "cell_type": "code",
   "execution_count": 30,
   "id": "f4eddb12-088e-4fba-aee2-405ff8e953bf",
   "metadata": {},
   "outputs": [
    {
     "name": "stdout",
     "output_type": "stream",
     "text": [
      "The Getty Center, in Los Angeles, California, United States, is a campus of the Getty Museum and other programs of the Getty Trust. The $1.3 billion center opened to the public on December 16, 1997,[2] and is well known for its architecture, gardens, and views overlooking Los Angeles. The center sits atop a hill connected to a visitors' parking garage at the bottom of the hill by a three-car, cable-pulled hovertrain people mover.[3]\n",
      " Located in the Brentwood neighborhood of Los Angeles, the center is one of two locations of the J. Paul Getty Museum and draws 1.8 million visitors annually. (The other location is the Getty Villa in the Pacific Palisades neighborhood of Los Angeles, California.) The center branch of the museum features pre-20th-century European paintings, drawings, illuminated manuscripts, sculpture, and decorative arts; and photographs from the 1830s through present day from all over the world.[4][5] In addition, the museum's collection at the center includes outdoor sculpture displayed on terraces and in gardens and the large Central Garden designed by Robert Irwin. Among the artworks on display is the Vincent van Gogh painting Irises.\n",
      " Designed by architect Richard Meier, the campus also houses the Getty Research Institute (GRI), the Getty Conservation Institute, the Getty Foundation, and the J. Paul Getty Trust. The center's design included special provisions to address concerns regarding earthquakes and fires.\n",
      "\n"
     ]
    }
   ],
   "source": [
    "# get Main Content（only get [1:4] Paragraphs）\n",
    "main_content = \" \".join([p.get_text() for p in soup.find_all(\"p\")[1:4]])\n",
    "print(main_content)"
   ]
  },
  {
   "cell_type": "code",
   "execution_count": 68,
   "id": "52e64d7d-dd37-40d3-b6be-f1e5ea635db9",
   "metadata": {},
   "outputs": [
    {
     "name": "stdout",
     "output_type": "stream",
     "text": [
      "section title: Contents\n",
      "section content: \n",
      "\n",
      "\n",
      "section title: Location and history\n",
      "section content: Originally, the Getty Museum started in J. Paul Getty's house located in Pacific Palisades in 1954. He expanded the house with a museum wing. In the 1970s, Getty built a replica of an Italian villa on his home's land to better house his collection, which opened in 1974. After Getty's death in 1976, the entire property was turned over to the Getty Trust for museum purposes. However, the collection outgrew the site, which has since been renamed the Getty Villa, and management sought a location more accessible to Los Angeles. The purchase of the land upon which the center is located, a campus of 24 acres (9.7 ha) on a 110-acre (45 ha) site in the Santa Monica Mountains above Interstate 405, surrounded by 600 acres (240 ha) kept in a natural state, was announced in 1983. The top of the hill is 900 feet (270 m) above sea level, high enough that on a clear day it is possible to see not only the Los Angeles skyline but also the San Bernardino Mountains, and San Gabriel Mountains to the east as well as the Pacific Ocean to the west.[6][7]\n",
      "\n",
      "\n",
      "section title: Architecture\n",
      "section content: Meier has exploited the two naturally-occurring ridges (which diverge at a 22.5 degree angle) by overlaying two grids along these axes. These grids serve to define the space of the campus while dividing the import of the buildings on it. Along one axis lie the galleries and along the other axis lie the administrative buildings. Meier emphasized the two competing grids by constructing strong view lines through the campus. The main north–south axis starts with the helipad, then includes a narrow walkway between the auditorium and north buildings, continues past the elevator kiosk to the tram station, through the rotunda, past the walls and support columns of the exhibitions pavilion, and finally the ramp besides the west pavilion and the central garden. Its corresponding east–west visual axis starts with the edge of the scholar's wing of the Getty Research Institute (GRI), the walkway between the central garden and the GRI, the overlook to the azalea pool in the central garden, the walkway between the central garden and the west pavilion, and finally the north wall of the west pavilion and the courtyard between the south and east pavilions.\n",
      "\n",
      "\n",
      "section title: Arrival court and central rotunda\n",
      "section content: Visitors typically arrive at a tram station in the arrival plaza located between the administrative buildings and the museum entrance. A large set of steps leads to the main doors of the rotunda building. The rotunda building houses information desks, two orientation theatres and museum shops. It also holds a grand staircase that starts a path toward the paintings located on the second floor of each art pavilion. The rotunda opens to the south to a terrace that links all five of the museum pavilions. A separate building to the west of the arrival plaza and stairs holds a cafeteria and restaurant. Next to the restaurant is a stone arch, which separates the museum from the GRI. Stairs from the terrace connecting the GRI and the restaurant lead down to the central garden.\n",
      "\n",
      "\n",
      "section title: Museum\n",
      "section content: The J. Paul Getty Museum's estimated 1.8 million visitors annually make it one of the most visited museums in the United States.[26] The collection of the J. Paul Getty Museum on display at the Getty Center includes \"pre-20th-century European paintings, drawings, illuminated manuscripts, sculpture, and decorative arts; and 19th- and 20th-century American and European photographs\".[27] The paintings include:\n",
      "\n",
      "\n",
      "section title: Central Garden\n",
      "section content: The 134,000-square-foot (12,400 m2) Central Garden at the Getty Center is the work of artist Robert Irwin.[38] Planning for the garden began in 1992, construction started in 1996, and the garden was completed in December 1997.[39]\n",
      "\n",
      "\n",
      "section title: Getty Research Institute (GRI)\n",
      "section content: The Getty Research Institute (GRI) is \"dedicated to furthering knowledge and advancing understanding of the visual arts\".[42] Among other holdings, GRI's research library contains over 900,000 volumes of books, periodicals, and auction catalogs; special collections; and two million photographs of art and architecture.[43] GRI's other activities include exhibitions, publications, and a residential scholars program.[42] At the Getty Center, GRI is located to the west of the museum.[23] The round building encircles a landscaped garden and is located to the west of the central garden. The main entrance of GRI is connected by a terrace to the main arrival court of the museum, with outdoor sculptures placed along the route.[25] GRI has one art gallery on its entrance level that is open to the public.\n",
      "\n",
      "\n",
      "section title: Other offices\n",
      "section content: Meier also designed three other buildings located next to the north promontory and offset at a 22.5 degree angle from the main axis of the museum pavilions. The north-most building is an auditorium. Next to it is the North Building, with the East Building sitting between the North Building and the rotunda. The main entrance to the East Building is flanked by two round silos that hold its elevators. A bridge over a sunken courtyard links the main entrance of the East Building to the main walkway that connects the auditorium and North Buildings to the rotunda. These buildings house the Getty Conservation Institute (GCI), the J. Paul Getty Trust and the Getty Foundation. These buildings are generally closed to the public except for special events held in the auditorium.[23] They are linked to the museum both by landscaped terraces and by an enclosed glass walkway that leads from the main rotunda.\n",
      "\n",
      "\n",
      "section title: Preparation for natural disasters\n",
      "section content: Although the center's site was thought to have little motion during earthquakes, which are frequent in the Los Angeles area, in 1994, as the center was being constructed, the Northridge earthquake struck.[48] It caused \"disturbing hairline cracks... in the welds and plated joints of the steel framework\".[49] As a result, the steelwork through the site was retrofitted.[49] The center's buildings are thought to be able to survive an earthquake of 7.5 magnitude on the Richter scale.[48]\n",
      "\n",
      "\n",
      "section title: Panoramic view looking south\n",
      "section content: The 2013 videogame Grand Theft Auto V features a museum based on the Getty Center, called the Kortz Center.[57]\n",
      "\n",
      "\n",
      "section title: In popular culture\n",
      "section content: The 2013 videogame Grand Theft Auto V features a museum based on the Getty Center, called the Kortz Center.[57]\n",
      "\n",
      "\n"
     ]
    }
   ],
   "source": [
    "#extract the key section of the page \n",
    "sections=soup.find_all(\"h2\")\n",
    "for section in sections:\n",
    "    section_title = section.text\n",
    "    #it starts from the position of the current section tag and \n",
    "    #searches forward through the HTML structure to find the first <p> tag that appears after it.\n",
    "    section_content_tag =  section.find_next(\"p\")\n",
    "    if section_content_tag:\n",
    "        section_content = section_content_tag.text\n",
    "        print(\"section title:\", section_title)\n",
    "        print(\"section content:\", section_content)\n",
    "        print()"
   ]
  },
  {
   "cell_type": "markdown",
   "id": "1e09b34b-b837-42f8-a3b5-0d5f3b793597",
   "metadata": {},
   "source": [
    "#### History"
   ]
  },
  {
   "cell_type": "code",
   "execution_count": 72,
   "id": "56b651f9-e449-40f4-9925-a707decd6dc7",
   "metadata": {},
   "outputs": [
    {
     "name": "stdout",
     "output_type": "stream",
     "text": [
      "None\n",
      "history and location not found.\n"
     ]
    }
   ],
   "source": [
    "#history_section = soup.find(\"span\",{\"id\":\"Location and history\"})  not found\n",
    "#history_section = soup.find(\"span\",{\"id\":\"Location_and_history\"})  not found\n",
    "#import re\n",
    "#history_section = soup.find(\"span\", id=re.compile(\"Location.*history\", re.I))  not found\n",
    "#history_section = soup.find(\"span\",{\"id\":\"history\"}) not found\n",
    "\n",
    "#historyname = \"Location and history\"\n",
    "#history_section = soup.find(\"span\", {\"id\": historyname})  not found\n",
    "\n",
    "#title = \"Location and history\"\n",
    "#section_id = title.replace(\" \", \"_\")\n",
    "#history_section = soup.find(\"span\", {\"id\": section_id})   not found\n",
    "\n",
    "print(history_section)\n",
    "\n",
    "#if history section exists\n",
    "if history_section:\n",
    "    #inside h2\n",
    "    history_heading= history_section.find_parent(\"h2\")\n",
    "    \n",
    "    #initialize a list to store content paragraphs\n",
    "    history_content = []\n",
    "    #get all sibling elements until the next <h2> tag and extract the text\n",
    "    next_sibling= history_heading.find_next_sibling()\n",
    "    while next_sibling and next_sibling.name != \"h2\":\n",
    "        #make sure it's a paragraph, not a sentence.\n",
    "        if next_sibling.name == \"p\":\n",
    "            history_content.append(next_sibling.get_text())\n",
    "        next_sibling=next_sibling.find_next_sibling()\n",
    "        \n",
    "    print(\"History and Location Content:\")\n",
    "    for paragraph in history_content:\n",
    "        print(paragraph.strip())\n",
    "else:\n",
    "    print(\"history and location not found.\")"
   ]
  },
  {
   "cell_type": "code",
   "execution_count": 86,
   "id": "bd4912f5-422d-42d5-bf17-e067ed600ab6",
   "metadata": {},
   "outputs": [
    {
     "name": "stdout",
     "output_type": "stream",
     "text": [
      "coordinates\n",
      "Getty_Research_Institute_.28GRI.29\n"
     ]
    }
   ],
   "source": [
    "#check what is in span id, there is no history. \n",
    "#it doesn't have a <span id=\"Location and history\"> structure. \n",
    "\n",
    "for span in soup.find_all(\"span\"):\n",
    "    if span.get(\"id\"):\n",
    "        print(span[\"id\"])"
   ]
  },
  {
   "cell_type": "code",
   "execution_count": 96,
   "id": "54148950-a82f-4c71-af25-f29782a22299",
   "metadata": {},
   "outputs": [
    {
     "name": "stdout",
     "output_type": "stream",
     "text": [
      "Section 'Location and history' not found.\n"
     ]
    }
   ],
   "source": [
    "#Location and history not found\n",
    "\n",
    "import requests\n",
    "from bs4 import BeautifulSoup\n",
    "\n",
    "url = \"https://en.wikipedia.org/wiki/Getty_Center\"\n",
    "response = requests.get(url)\n",
    "soup = BeautifulSoup(response.content, \"html.parser\")\n",
    "\n",
    "target_title = \"Location and history\"\n",
    "\n",
    "# 遍历所有 h2 -> headline span\n",
    "for h2 in soup.find_all(\"h2\"):\n",
    "    span = h2.find(\"span\", class_=\"mw-headline\")\n",
    "    if span and target_title.lower() in span.get_text().lower():\n",
    "        print(f\"== {target_title} ==\")\n",
    "        \n",
    "        # 提取该小节后的内容直到下一个 h2\n",
    "        content = []\n",
    "        next_tag = h2.find_next_sibling()\n",
    "        while next_tag and next_tag.name != \"h2\":\n",
    "            if next_tag.name == \"p\":\n",
    "                content.append(next_tag.get_text(strip=True))\n",
    "            next_tag = next_tag.find_next_sibling()\n",
    "        \n",
    "        for para in content:\n",
    "            print(para)\n",
    "        break\n",
    "else:\n",
    "    print(f\"Section '{target_title}' not found.\")"
   ]
  },
  {
   "cell_type": "code",
   "execution_count": 106,
   "id": "fc3e9d2e-9d49-46bd-a968-ecea5c7c492a",
   "metadata": {},
   "outputs": [
    {
     "name": "stdout",
     "output_type": "stream",
     "text": [
      "No references found.\n"
     ]
    }
   ],
   "source": [
    "# Location and history not found\n",
    "import requests\n",
    "from bs4 import BeautifulSoup\n",
    "\n",
    "url = \"https://en.wikipedia.org/wiki/Getty_Center\"\n",
    "response = requests.get(url)\n",
    "soup = BeautifulSoup(response.content, \"html.parser\")\n",
    "\n",
    "# 直接查找 <ol class=\"references\">\n",
    "ref_list = soup.find(\"ol\", class_=\"Location and history\")\n",
    "\n",
    "if ref_list:\n",
    "    references = []\n",
    "    for li in ref_list.find_all(\"li\"):\n",
    "        references.append(li.get_text(strip=True))\n",
    "\n",
    "    print(\"== References ==\")\n",
    "    for i, ref in enumerate(references, 1):\n",
    "        print(f\"[{i}] {ref}\")\n",
    "else:\n",
    "    print(\"No references found.\")\n"
   ]
  },
  {
   "cell_type": "markdown",
   "id": "16011a6a-b529-4ab7-9376-7ec9cdbe1ece",
   "metadata": {},
   "source": [
    "#### Reference "
   ]
  },
  {
   "cell_type": "code",
   "execution_count": 108,
   "id": "e1021ac2-5e6f-4633-9968-9a14f7332bb1",
   "metadata": {},
   "outputs": [
    {
     "name": "stdout",
     "output_type": "stream",
     "text": [
      "== References ==\n",
      "[1] ^\"TOP 100 Art museum attendance (continued from page 3)\". Vol. 29, no. 322 (International ed.).The Art Newspaper. April 2020. p. 15.\n",
      "[2] ^ab\"The Getty Center: Reflecting on 10 Years\". Archived fromthe originalon July 13, 2010. RetrievedAugust 27,2020.\n",
      "[3] ^abSimon, Richard (August 11, 1995).\"The Art of Getting to the Getty Will Have Visitors Floating on Air\".Los Angeles Times.\n",
      "[4] ^\"About the Museum (Getty Museum)\".www.getty.edu. RetrievedMarch 16,2018.\n",
      "[5] ^\"Photographs | the J. Paul Getty Museum\".www.getty.edu. RetrievedMarch 16,2018.\n",
      "[6] ^Morgenstern, Joe. Getty opens mammoth hilltop center to public.Wall Street Journal(Eastern edition), December 16, 1997.\n",
      "[7] ^Hardy, Terri. \"Covering all angles – 'preview' a coveted assignment\".Daily News of Los Angeles, December 10, 1997.\n",
      "[8] ^Miller, Daryl H. Meier: centering on a landmark.Daily News of Los Angeles, December 20, 1987.\n",
      "[9] ^abMoody, Lori. \"In the home stretch – half-finished Getty Center nearing landmark status\".Daily News of Los Angeles, April 18, 1995.\n",
      "[10] ^\"Getty Center\".Los Angeles Business Journal. August 27, 2007. RetrievedJanuary 12,2011.\n",
      "[11] ^\"Construction under way on Getty Center\".Los Angeles Times, August 13, 1989.\n",
      "[12] ^abMuchnic, Suzanne. \"Catching up with the Getty Center. Art: A look at the $350-million Getty Center in Brentwood as it moves toward a 1995 completion date\".Los Angeles Times, October 22, 1990.\n",
      "[13] ^Sullivan, Deborah. \"Getty's message to the world: Come on in!\"Daily News of Los Angeles, December 17, 1997.\n",
      "[14] ^Muchnic, Suzanne. \"Five years of the Getty; Isolated? Elitist? L.A. makes the Getty its own in surprising ways\".Los Angeles Times, December 15, 2002.\n",
      "[15] ^\"About the Museum\". Getty Museum. RetrievedNovember 25,2010.\n",
      "[16] ^\"Report of the Attorney General's Investigation of the J. Paul Getty Trust\"(PDF). State of California. RetrievedNovember 25,2010.\n",
      "[17] ^\"2009 Annual Report\"(PDF). Getty Trust. p. 5. RetrievedNovember 15,2010.\n",
      "[18] ^\"Statement from Getty Trust President and CEO James Wood regarding Getty's FY 2010 budget\". J. Paul Getty Trust. April 27, 2009. Archived fromthe originalon March 19, 2020. RetrievedNovember 25,2010.\n",
      "[19] ^\"2009 Annual Report\"(PDF). Getty Trust. p. 70. RetrievedNovember 15,2010.\n",
      "[20] ^Boehm, Mike (March 13, 2014).\"Getty endowment rises to $6.2 billion for 2013\".Los Angeles Times. RetrievedMarch 26,2015.\n",
      "[21] ^Rosenblatt, Arthur (2001).Building type basics for museums. John Wiley & Sons. p.25.ISBN0471349151. RetrievedNovember 27,2010.Getty Center.\n",
      "[22] ^\"Design Axes and Diagrams\". Reed College. Archived fromthe originalon March 6, 2016. RetrievedNovember 27,2010.\n",
      "[23] ^abcdef\"The Getty Center — Architectural Description\". Getty Museum. Archived fromthe originalon April 5, 2004. RetrievedSeptember 10,2008.\n",
      "[24] ^\"Parking and Transportation | Getty Center\".www.getty.edu. RetrievedDecember 3,2018.\n",
      "[25] ^abc\"Modern Outdoor Sculpture at the Getty Center\". Getty Museum. RetrievedNovember 24,2010.\n",
      "[26] ^Baedeker, Rob.America's 25 most visited museums.ArchivedNovember 2, 2009, at theWayback MachineForbesTraveler.com, September 21, 2007. Retrieved August 28, 2008.\n",
      "[27] ^About the J. Paul Getty Museum.Retrieved November 23, 2013.\n",
      "[28] ^Wyatt, Edward.\"Getty Museum buys a seldom-exhibited Gauguin\".New York Times, March 12, 2008. Retrieved August 26, 2008.\n",
      "[29] ^\"Arii Matamoe (The Royal End)\". J. Paul Getty Museum.Archivedfrom the original on March 15, 2015. RetrievedSeptember 1,2020.\n",
      "[30] ^Kimmelman, Michael (March 22, 1990).\"Getty buys van Gogh \"Irises,\" but won't tell price\".New York Times.Archivedfrom the original on March 30, 2019. RetrievedSeptember 1,2020.\n",
      "[31] ^J. Paul Getty Museum.Portrait of a Halberdier (Francesco Guardi?).ArchivedJuly 30, 2009, at theWayback MachineRetrieved August 26, 2008.\n",
      "[32] ^Reif, Rita (June 1, 1989).\"Old Master auctioned for record $35 million\".New York Times.Archivedfrom the original on December 19, 2019. RetrievedSeptember 2,2020.\n",
      "[33] ^\"Portrait of Louis XIV\". J. Paul Getty Museum.Archivedfrom the original on June 5, 2020. RetrievedSeptember 2,2020.\n",
      "[34] ^\"The Photographs Study Room\". Getty Museum. RetrievedNovember 28,2010.\n",
      "[35] ^\"Art on View\". Getty Trust. Archived fromthe originalon October 11, 2012. RetrievedNovember 15,2010.\n",
      "[36] ^Getty Center Map.\n",
      "[37] ^\"What's On\".Getty. Getty Center. Retrieved24 April2023.\n",
      "[38] ^abcdGardens (Visit the Getty).Retrieved August 23, 2008.\n",
      "[39] ^The Central Garden (Getty Press Release).Archived2020-03-19 at theWayback MachineRetrieved August 23, 2008.\n",
      "[40] ^Wilson, Karen C. \"The Getty Center Museum quality Center's largest 'exhibit' will surely grow on visitors\".San Diego Union-Tribune, November 30, 1997.\n",
      "[41] ^\"New modern sculpture installation scheduled to open at the Getty Center this June\". Getty Museum. April 9, 2007. Archived fromthe originalon March 19, 2020. RetrievedNovember 25,2010.\n",
      "[42] ^abAbout the Research Institute (Research at the Getty).Retrieved August 23, 2008.\n",
      "[43] ^\"Research Library Overview (Research at the Getty)\". Archived fromthe originalon January 7, 2006. RetrievedAugust 23,2008.\n",
      "[44] ^abJ. Paul Getty Trust.About the Conservation Institute.Retrieved August 24, 2008.\n",
      "[45] ^Adams, Eric. \"The Getty's conservation mission\".Architecture, December 1997, vol. 86, issue 12.\n",
      "[46] ^Getty Foundation.About the Foundation.ArchivedSeptember 7, 2008, at theWayback MachineRetrieved September 18, 2008.\n",
      "[47] ^Getty Foundation.The Leadership Institute.Archived2011-06-29 at theWayback MachineRetrieved September 18, 2008.\n",
      "[48] ^abRosenbaum, Lee.\"View from the Getty: what its billions bought\".Art in America, May 1998. Retrieved October 23, 2008.\n",
      "[49] ^abcdMeier, Richard (1997).Building the Getty. New York: Alfred A. Knopf.ISBN978-0375400438.\n",
      "[50] ^abcdefStevens, Matt (2025-01-11).\"Palisades Fire Could Test Getty Center's Efforts to Protect Its Art Collection\".The New York Times.ISSN0362-4331. Retrieved2025-02-23.\n",
      "[51] ^abcdSchwartz, John; Gates, Guilbert (2017-12-12).\"Why the Getty Center's Art Stayed Put as Fires Raged Nearby\".The New York Times.ISSN0362-4331. Retrieved2025-02-23.\n",
      "[52] ^Bartholomew, Dana. \"No visit of the Santa Anas is a match for the blazing brush clearance skills of – Getty's goats\".Daily News of Los Angeles, May 14, 2008.\n",
      "[53] ^Cosin, Elizabeth (August 18, 1996).\"Museum designed to enhance art experience\".Daily News of Los Angeles. Archived fromthe originalon December 2, 2013. RetrievedSeptember 5,2020.\n",
      "[54] ^Feigenbaum, Gail (2005-07-01).\"Radical Cactus: The Other Garden at the Getty Center – AHR\".Australian Humanities Review. Association for the Study of Australian Literature.ISSN1325-8338.Archivedfrom the original on 2022-01-20. Retrieved2022-01-20.\n",
      "[55] ^Parson, Ellen. \"Transformer system provides reliability and fire safety at Getty Complex\".EC&M Electrical Construction & Maintenance, January 1998, Vol. 97, Issue 1.\n",
      "[56] ^Earls, Alan R.Balancing art and fire safety.ArchivedJune 9, 2011, at theWayback MachineNFPA Journal, January 2003. Retrieved October 23, 2008.\n",
      "[57] ^Mitra, Ritwik; Painter, Ben (May 19, 2024).\"GTA 5 Locations That Are Based On Real-Life\".Game Rant.\n"
     ]
    }
   ],
   "source": [
    "#find reference \n",
    "import requests\n",
    "from bs4 import BeautifulSoup\n",
    "\n",
    "url = \"https://en.wikipedia.org/wiki/Getty_Center\"\n",
    "response = requests.get(url)\n",
    "soup = BeautifulSoup(response.content, \"html.parser\")\n",
    "\n",
    "# 直接查找 <ol class=\"references\">\n",
    "ref_list = soup.find(\"ol\", class_=\"references\")\n",
    "\n",
    "if ref_list:\n",
    "    references = []\n",
    "    for li in ref_list.find_all(\"li\"):\n",
    "        references.append(li.get_text(strip=True))\n",
    "\n",
    "    print(\"== References ==\")\n",
    "    for i, ref in enumerate(references, 1):\n",
    "        print(f\"[{i}] {ref}\")\n",
    "else:\n",
    "    print(\"No references found.\")\n"
   ]
  },
  {
   "cell_type": "markdown",
   "id": "128df055-9b56-4ce0-95c8-3fcc02dd7119",
   "metadata": {},
   "source": [
    "## Part 2: Sentiment Analysis"
   ]
  },
  {
   "cell_type": "code",
   "execution_count": 116,
   "id": "fa016f8f-1460-43b1-9f64-82e7a3397c68",
   "metadata": {},
   "outputs": [
    {
     "name": "stdout",
     "output_type": "stream",
     "text": [
      "Collecting textblob\n",
      "  Downloading textblob-0.19.0-py3-none-any.whl.metadata (4.4 kB)\n",
      "Requirement already satisfied: nltk>=3.9 in /opt/anaconda3/lib/python3.12/site-packages (from textblob) (3.9.1)\n",
      "Requirement already satisfied: click in /opt/anaconda3/lib/python3.12/site-packages (from nltk>=3.9->textblob) (8.1.7)\n",
      "Requirement already satisfied: joblib in /opt/anaconda3/lib/python3.12/site-packages (from nltk>=3.9->textblob) (1.4.2)\n",
      "Requirement already satisfied: regex>=2021.8.3 in /opt/anaconda3/lib/python3.12/site-packages (from nltk>=3.9->textblob) (2024.9.11)\n",
      "Requirement already satisfied: tqdm in /opt/anaconda3/lib/python3.12/site-packages (from nltk>=3.9->textblob) (4.66.5)\n",
      "Downloading textblob-0.19.0-py3-none-any.whl (624 kB)\n",
      "\u001b[2K   \u001b[90m━━━━━━━━━━━━━━━━━━━━━━━━━━━━━━━━━━━━━━━━\u001b[0m \u001b[32m624.3/624.3 kB\u001b[0m \u001b[31m9.8 MB/s\u001b[0m eta \u001b[36m0:00:00\u001b[0m\n",
      "\u001b[?25hInstalling collected packages: textblob\n",
      "Successfully installed textblob-0.19.0\n"
     ]
    }
   ],
   "source": [
    "#!pip install textblob"
   ]
  },
  {
   "cell_type": "code",
   "execution_count": 118,
   "id": "1e5b651f-8d37-4bd4-a48d-3dac50758628",
   "metadata": {},
   "outputs": [],
   "source": [
    "#Import Libraries\n",
    "from textblob import TextBlob"
   ]
  },
  {
   "cell_type": "markdown",
   "id": "c3b44b2e-2b3a-475e-9a81-b5d4180905e8",
   "metadata": {},
   "source": [
    "## Analyzing Sentiment\n",
    "\n",
    "Each `TextBlob` object has a `sentiment` property that you can use to get the sentiment of the text. This property returns a named tuple of the polarity and subjectivity."
   ]
  },
  {
   "cell_type": "code",
   "execution_count": 121,
   "id": "f4324142-9e00-4280-9f2e-1631cd493810",
   "metadata": {},
   "outputs": [
    {
     "name": "stdout",
     "output_type": "stream",
     "text": [
      "Polarity:  -0.025238095238095233\n",
      "Subjectivity:  0.18444444444444444\n"
     ]
    }
   ],
   "source": [
    "blob = TextBlob(main_content)\n",
    "\n",
    "sentiment = blob.sentiment\n",
    "print(\"Polarity: \", sentiment.polarity)\n",
    "print(\"Subjectivity: \", sentiment.subjectivity)"
   ]
  },
  {
   "cell_type": "markdown",
   "id": "ee0ece30-6c69-4b9f-a9ac-6a0af64acec5",
   "metadata": {},
   "source": [
    "### Polarity\n",
    "Polarity is a measure from -1 to +1 where -1 indicates negative sentiment and +1 indicates positive sentiment. In your example, the polarity is approximately 0.392. This indicates that the statement is positive, but not extremely so. It's a moderately positive sentiment. The phrase \"amazingly simple to use\" and \"great fun\" contribute to this positive score.\n",
    "\n",
    "### Subjectivity\n",
    "Subjectivity quantifies the amount of personal opinion and factual information contained in the text. The scale ranges from 0 to 1, where 0 is very objective (fact-based) and 1 is very subjective (opinion-based). In our example, the subjectivity is approximately 0.436, suggesting that the text is somewhat subjective but still closer to the objective end of the spectrum. This is likely because the statement, while positive, is presented as a user's personal experience and opinion rather than a fact."
   ]
  },
  {
   "cell_type": "code",
   "execution_count": null,
   "id": "36f901ec-0264-4c29-9947-518f45c758f7",
   "metadata": {},
   "outputs": [],
   "source": []
  }
 ],
 "metadata": {
  "kernelspec": {
   "display_name": "Python 3 (ipykernel)",
   "language": "python",
   "name": "python3"
  },
  "language_info": {
   "codemirror_mode": {
    "name": "ipython",
    "version": 3
   },
   "file_extension": ".py",
   "mimetype": "text/x-python",
   "name": "python",
   "nbconvert_exporter": "python",
   "pygments_lexer": "ipython3",
   "version": "3.12.2"
  }
 },
 "nbformat": 4,
 "nbformat_minor": 5
}
